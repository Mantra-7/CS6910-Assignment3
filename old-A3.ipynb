{
 "cells": [
  {
   "cell_type": "code",
   "execution_count": 1,
   "metadata": {},
   "outputs": [
    {
     "name": "stderr",
     "output_type": "stream",
     "text": [
      "Failed to detect the name of this notebook, you can set it manually with the WANDB_NOTEBOOK_NAME environment variable to enable code saving.\n",
      "\u001b[34m\u001b[1mwandb\u001b[0m: Currently logged in as: \u001b[33mmantra7\u001b[0m. Use \u001b[1m`wandb login --relogin`\u001b[0m to force relogin\n"
     ]
    }
   ],
   "source": [
    "import torch\n",
    "import torch.nn as nn\n",
    "import torch.nn.functional as F\n",
    "import torch.optim as optim\n",
    "from torch.autograd import Variable\n",
    "from torch.utils.data import Dataset, DataLoader\n",
    "from torchvision import transforms, utils\n",
    "\n",
    "# import other libraries\n",
    "import numpy as np\n",
    "import pandas as pd\n",
    "import matplotlib.pyplot as plt\n",
    "from tqdm import tqdm\n",
    "import pickle\n",
    "from typing import *\n",
    "import time\n",
    "import math\n",
    "import random\n",
    "import wandb\n",
    "wandb.login()\n",
    "\n",
    "device = torch.device(\"cuda\" if torch.cuda.is_available() else \"cpu\")"
   ]
  },
  {
   "cell_type": "code",
   "execution_count": 2,
   "metadata": {},
   "outputs": [],
   "source": [
    "# define Lang\n",
    "class Lang:\n",
    "\tdef __init__(self, wordList):\n",
    "\t\tself.char2index = {'A': 0, 'Z': 1, '_': 2, '^':3}\n",
    "\t\tself.char2count = {}\n",
    "\t\tself.index2char = {0: 'A', 1: 'Z', 2: '_', 3: '^'}\n",
    "\t\tself.n_chars = 4\n",
    "\n",
    "\t\tfor word in wordList:\n",
    "\t\t\tself.addWord(word)\n",
    "\n",
    "\tdef addWord(self, word):\n",
    "\t\tfor char in word:\n",
    "\t\t\tself.addChar(char)\n",
    "\n",
    "\tdef addChar(self, char):\n",
    "\t\tif char not in self.char2index:\n",
    "\t\t\tself.char2index[char] = self.n_chars\n",
    "\t\t\tself.char2count[char] = 1\n",
    "\t\t\tself.index2char[self.n_chars] = char\n",
    "\t\t\tself.n_chars += 1\n",
    "\t\telse:\n",
    "\t\t\tself.char2count[char] += 1\n",
    "\n",
    "\tdef encode(self, word):\n",
    "\t\tencoded = [0] * len(word)\n",
    "\t\tfor i in range(len(word)):\n",
    "\t\t\tif word[i] in self.char2index:\n",
    "\t\t\t\tencoded[i] = self.char2index[word[i]]\n",
    "\t\t\telse:\n",
    "\t\t\t\tencoded[i] = self.char2index['^']\n",
    "\t\treturn encoded\n",
    "\t\n",
    "\tdef one_hot_encode(self, word):\n",
    "\t\tone_hot = torch.zeros(len(word), self.n_chars, device=device)\n",
    "\t\tfor i in range(len(word)):\n",
    "\t\t\tif word[i] in self.char2index:\n",
    "\t\t\t\tone_hot[i][self.char2index[word[i]]] = 1\n",
    "\t\t\telse:\n",
    "\t\t\t\tone_hot[i][self.char2index['^']] = 1\t\t\t\n",
    "\t\treturn one_hot\n",
    "\t\t\n",
    "\tdef decode(self, word):\n",
    "\t\tdecoded = ''\n",
    "\t\tfor i in range(len(word)):\n",
    "\t\t\tif word[i].argmax().item() in self.index2char:\n",
    "\t\t\t\tdecoded += self.index2char[word[i].argmax().item()]\n",
    "\t\t\telse:\n",
    "\t\t\t\tdecoded += '^'\n",
    "\t\treturn decoded\n",
    "\t\n",
    "\tdef decode_one_hot(self, word):\n",
    "\t\tdecoded = ''\n",
    "\t\tfor i in range(len(word)):\n",
    "\t\t\tif word[i].argmax().item() in self.index2char:\n",
    "\t\t\t\tdecoded += self.index2char[word[i].argmax().item()]\n",
    "\t\t\telse:\n",
    "\t\t\t\tdecoded += '^'\n",
    "\t\treturn decoded"
   ]
  },
  {
   "cell_type": "code",
   "execution_count": 3,
   "metadata": {},
   "outputs": [],
   "source": [
    "def tensorFromWord(lang : Lang, word : str):\n",
    "    indexes = lang.encode(word)\n",
    "    indexes.append(1)\n",
    "    return torch.tensor(indexes, dtype=torch.long, device=device).view(-1, 1)\n",
    "\n",
    "def tensorsFromPair(pair, inp_lang : Lang, out_lang : Lang):\n",
    "    input_tensor = tensorFromWord(inp_lang, pair[0])\n",
    "    target_tensor = tensorFromWord(out_lang, pair[1])\n",
    "    return (input_tensor.unsqueeze(1), target_tensor)"
   ]
  },
  {
   "cell_type": "code",
   "execution_count": 4,
   "metadata": {},
   "outputs": [],
   "source": [
    "# # create dataset\n",
    "# class AksharantarDataset(Dataset):\n",
    "# \tdef __init__(self, data, inp_lang, out_lang):\n",
    "# \t\tself.data = data\n",
    "# \t\tself.inp_lang = inp_lang\n",
    "# \t\tself.out_lang = out_lang\n",
    "\n",
    "# \tdef __len__(self):\n",
    "# \t\treturn len(self.data)\n",
    "\n",
    "# \tdef __getitem__(self, idx):\n",
    "# \t\tif torch.is_tensor(idx):\n",
    "# \t\t\tidx = idx.tolist()\n",
    "\n",
    "# \t\tinp_seq = self.inp_lang.one_hot_encode(self.data['input_seq'][idx]).unsqueeze(1)\n",
    "# \t\tout_seq = self.out_lang.one_hot_encode(self.data['target_seq'][idx]).unsqueeze(1)\n",
    "\n",
    "# \t\tsample = {'input_seq': inp_seq, 'target_seq': out_seq}\n",
    "# \t\treturn sample"
   ]
  },
  {
   "cell_type": "code",
   "execution_count": 5,
   "metadata": {},
   "outputs": [],
   "source": [
    "def DataLoader(lang : str):\n",
    "\ttrain_data = pd.read_csv(f'aksharantar_sampled/{lang}/{lang}_train.csv')\n",
    "\ttest_data = pd.read_csv(f'aksharantar_sampled/{lang}/{lang}_test.csv')\n",
    "\tvalid_data = pd.read_csv(f'aksharantar_sampled/{lang}/{lang}_valid.csv')\n",
    "\t\n",
    "\ttrain_data.columns = ['input_seq', 'target_seq']\n",
    "\ttest_data.columns = ['input_seq', 'target_seq']\n",
    "\tvalid_data.columns = ['input_seq', 'target_seq']\n",
    "\n",
    "\treturn train_data, test_data, valid_data\n",
    "\n",
    "def asMinutes(s):\n",
    "    m = math.floor(s / 60)\n",
    "    s -= m * 60\n",
    "    return '%dm %ds' % (m, s)\n",
    "\n",
    "def timeSince(since, percent):\n",
    "    now = time.time()\n",
    "    s = now - since\n",
    "    es = s / (percent)\n",
    "    rs = es - s\n",
    "    return '%s (- %s)' % (asMinutes(s), asMinutes(rs))"
   ]
  },
  {
   "cell_type": "code",
   "execution_count": 6,
   "metadata": {},
   "outputs": [],
   "source": [
    "def get_cell(str):\n",
    "\tif str == 'lstm':\n",
    "\t\treturn nn.LSTM\n",
    "\telif str == 'gru':\n",
    "\t\treturn nn.GRU\n",
    "\telif str == 'rnn':\n",
    "\t\treturn nn.RNN\n",
    "\telse:\n",
    "\t\traise ValueError('Invalid cell type')"
   ]
  },
  {
   "cell_type": "code",
   "execution_count": 7,
   "metadata": {},
   "outputs": [],
   "source": [
    "class EncoderRNN(nn.Module):\n",
    "\tdef __init__(self, input_size, embed_size, hidden_size, n_layers=1, type='gru', dropout=0.2):\n",
    "\t\tsuper(EncoderRNN, self).__init__()\n",
    "\t\tself.hidden_size = hidden_size\n",
    "\t\tself.n_layers = n_layers\n",
    "\t\tself.type_t = type\n",
    "\n",
    "\t\tself.embedding = nn.Embedding(input_size, embed_size)\n",
    "\t\tself.cell = get_cell(type)(embed_size, hidden_size, n_layers, dropout=dropout)\n",
    "\n",
    "\tdef forward(self, input, hidden):\n",
    "\t\tembedded = self.embedding(input)\n",
    "\t\toutput = embedded\n",
    "\t\toutput, hidden = self.cell(output, hidden)\n",
    "\t\treturn output, hidden\n",
    "\n",
    "\tdef initHidden(self):\n",
    "\t\tif self.type_t == 'lstm':\n",
    "\t\t\treturn (torch.zeros(self.n_layers, 1, self.hidden_size, device=device), torch.zeros(self.n_layers, 1, self.hidden_size, device=device))\n",
    "\t\treturn torch.zeros(self.n_layers, 1, self.hidden_size, device=device)\n",
    "\t\n",
    "class DecoderRNN(nn.Module):\n",
    "\tdef __init__(self, hidden_size, output_size, n_layers=1, type='gru', dropout=0.2):\n",
    "\t\tsuper(DecoderRNN, self).__init__()\n",
    "\t\tself.hidden_size = hidden_size\n",
    "\t\tself.n_layers = n_layers\n",
    "\t\tself.type_t = type\n",
    "\n",
    "\t\tself.embedding = nn.Embedding(output_size, hidden_size)\n",
    "\t\tself.cell = get_cell(type)(hidden_size, hidden_size, n_layers, dropout=dropout)\n",
    "\t\tself.out = nn.Linear(hidden_size, output_size)\n",
    "\t\tself.softmax = nn.LogSoftmax(dim=1)\n",
    "\n",
    "\tdef forward(self, input, hidden):\n",
    "\t\toutput = self.embedding(input).view(1, 1, -1)\n",
    "\t\toutput = F.relu(output)\n",
    "\t\tif self.type_t == 'lstm':\n",
    "\t\t\toutput, (hidden, cell) = self.cell(output, (hidden, cell))\n",
    "\t\telse:\n",
    "\t\t\toutput, hidden = self.cell(output, hidden)\n",
    "\t\toutput = self.softmax(self.out(output[0]))\n",
    "\t\treturn output, hidden\n",
    "\n",
    "\tdef initHidden(self):\n",
    "\t\tif self.type_t == 'lstm':\n",
    "\t\t\treturn (torch.zeros(self.n_layers, 1, self.hidden_size, device=device), torch.zeros(self.n_layers, 1, self.hidden_size, device=device))\n",
    "\t\treturn torch.zeros(self.n_layers, 1, self.hidden_size, device=device)\n"
   ]
  },
  {
   "cell_type": "code",
   "execution_count": 8,
   "metadata": {},
   "outputs": [],
   "source": [
    "class Seq2Seq(nn.Module):\n",
    "\tdef __init__(self, input_size, hidden_size, embed_size, output_size, n_layers=1, type='gru', dropout=0.2):\n",
    "\t\tsuper(Seq2Seq, self).__init__()\n",
    "\t\tself.input_size = input_size\n",
    "\t\tself.hidden_size = hidden_size\n",
    "\t\tself.output_size = output_size\n",
    "\t\tself.n_layers = n_layers\n",
    "\n",
    "\t\tself.encoder = EncoderRNN(input_size, embed_size, hidden_size, n_layers, type, dropout).to(device)\n",
    "\t\tself.decoder = DecoderRNN(hidden_size, output_size, n_layers, type, dropout).to(device)\n",
    "\n",
    "\tdef forward(self, input_tensor, target_tensor, max_length=50):\n",
    "\t\tencoder_hidden = self.encoder.initHidden()\n",
    "\n",
    "\t\tinput_length = input_tensor.size(0)\n",
    "\t\ttarget_length = target_tensor.size(0)\n",
    "\n",
    "\t\tencoder_outputs = torch.zeros(max_length, self.encoder.hidden_size, device=device)\n",
    "\n",
    "\t\tfor ei in range(input_length):\n",
    "\t\t\tencoder_output, encoder_hidden = self.encoder(\n",
    "\t\t\t\tinput_tensor[ei], encoder_hidden)\n",
    "\t\t\tencoder_outputs[ei] = encoder_output[0, 0]\n",
    "\n",
    "\t\tdecoder_input = torch.tensor([[0]], device=device)  # SOS\n",
    "\n",
    "\t\tdecoder_hidden = encoder_hidden\n",
    "\t\tuse_teacher_forcing = True if random.random() < 0.5 else False\n",
    "\n",
    "\t\tdecoder_outputs = []\n",
    "\t\tif use_teacher_forcing:\n",
    "\t\t\t# Teacher forcing: Feed the target as the next input\n",
    "\t\t\tfor di in range(target_length):\n",
    "\t\t\t\tdecoder_output, decoder_hidden = self.decoder(\n",
    "\t\t\t\t\tdecoder_input, decoder_hidden)\n",
    "\t\t\t\tdecoder_outputs.append(decoder_output)\n",
    "\t\t\t\tdecoder_input = target_tensor[di]  # Teacher forcing\n",
    "\t\telse:\n",
    "\t\t\t# Without teacher forcing: use its own predictions as the next input\n",
    "\t\t\tfor di in range(target_length):\n",
    "\t\t\t\tdecoder_output, decoder_hidden = self.decoder(\n",
    "\t\t\t\t\tdecoder_input, decoder_hidden)\n",
    "\t\t\t\tdecoder_outputs.append(decoder_output)\n",
    "\t\t\t\ttopv, topi = decoder_output.topk(1)\n",
    "\t\t\t\tdecoder_input = topi.squeeze().detach()  # detach from history as input\n",
    "\n",
    "\t\t\t\tif decoder_input.item() == 1:\n",
    "\t\t\t\t\tbreak\n",
    "\n",
    "\t\treturn decoder_outputs\n",
    "\n",
    "\tdef predict(self, input_tensor, max_length = 50):\n",
    "\t\tencoder_hidden = self.encoder.initHidden()\n",
    "\n",
    "\t\tinput_length = input_tensor.size(0)\n",
    "\n",
    "\t\tencoder_outputs = torch.zeros(max_length, self.encoder.hidden_size, device=device)\n",
    "\n",
    "\t\tfor ei in range(input_length):\n",
    "\t\t\tencoder_output, encoder_hidden = self.encoder(\n",
    "\t\t\t\tinput_tensor[ei], encoder_hidden)\n",
    "\t\t\tencoder_outputs[ei] = encoder_output[0, 0]\n",
    "\n",
    "\t\tdecoder_input = torch.tensor([[0]], device=device)  # SOS\n",
    "\n",
    "\t\tdecoder_outputs = []\n",
    "\n",
    "\t\tdecoder_hidden = encoder_hidden\n",
    "\t\tfor di in range(max_length):\n",
    "\t\t\tdecoder_output, decoder_hidden = self.decoder(\n",
    "\t\t\t\tdecoder_input, decoder_hidden)\n",
    "\t\t\ttopv, topi = decoder_output.data.topk(1)\n",
    "\t\t\tif topi.item() == 1:\n",
    "\t\t\t\tbreak\n",
    "\t\t\tdecoder_outputs.append(decoder_output)\n",
    "\n",
    "\t\t\tdecoder_input = topi.squeeze().detach()\n",
    "\t\t\n",
    "\t\treturn decoder_outputs"
   ]
  },
  {
   "cell_type": "code",
   "execution_count": 9,
   "metadata": {},
   "outputs": [],
   "source": [
    "class Translator:\n",
    "\tdef __init__(self, lang, embed_size=10, hidden_size=10, n_layers=1, max_length=50, type='gru', dropout=0.2):\n",
    "\t\tself.train_data, self.test_data, self.valid_data = DataLoader(lang)\n",
    "\n",
    "\t\tself.inp_lang = Lang(self.train_data['input_seq'])\n",
    "\t\tself.out_lang = Lang(self.train_data['target_seq'])\n",
    "\n",
    "\t\tself.model = Seq2Seq(self.inp_lang.n_chars, hidden_size, embed_size, self.out_lang.n_chars, n_layers, type, dropout)\n",
    "\t\tself.criterion = nn.NLLLoss()\n",
    "\t\tself.max_length = max_length\n",
    "\n",
    "\t\tself.pairs = [tensorsFromPair((self.train_data['input_seq'][i], self.train_data['target_seq'][i]), self.inp_lang, self.out_lang)\n",
    "\t\t\t\t\t\t\t\tfor i in range(len(self.train_data))]\n",
    "\n",
    "\tdef trainOne(self, input_tensor, target_tensor):\n",
    "\t\tself.encoder_optim.zero_grad()\n",
    "\t\tself.decoder_optim.zero_grad()\n",
    "\n",
    "\t\tdecoder_outputs = self.model.forward(input_tensor, target_tensor, self.max_length)\n",
    "\n",
    "\t\tloss = 0\n",
    "\t\tfor di in range(len(decoder_outputs)):\n",
    "\t\t\tloss += self.criterion(decoder_outputs[di], target_tensor[di])\n",
    "\t\tloss.backward()\n",
    "\n",
    "\t\tself.encoder_optim.step()\n",
    "\t\tself.decoder_optim.step()\n",
    "\n",
    "\t\treturn loss.item() / target_tensor.size(0)\n",
    "\n",
    "\tdef train(self,epoch=1, n_iters=10000, print_every=1000, plot_every=100, learning_rate=0.01, rand=False, dumpName='model', log=False, wandb = None):\n",
    "\t\tself.encoder_optim = optim.Adam(self.model.encoder.parameters(), lr=learning_rate)\n",
    "\t\tself.decoder_optim = optim.Adam(self.model.decoder.parameters(), lr=learning_rate)\n",
    "\n",
    "\t\tstart = time.time()\n",
    "\t\ttrain_loss = []\n",
    "\t\ttrain_acc = []\n",
    "\t\tvalid_loss = []\n",
    "\t\tvalid_acc = []\n",
    "\n",
    "\t\tfor i in range(epoch):\n",
    "\t\t\tprint_loss_total = 0\n",
    "\t\t\ttot_loss = 0\n",
    "\t\t\tprint(\"Epoch: \", i)\n",
    "\t\t\tif rand:\n",
    "\t\t\t\ttraining_pairs = [random.choice(self.pairs) for i in range(n_iters)]\n",
    "\t\t\telse:\n",
    "\t\t\t\ttraining_pairs = self.pairs\n",
    "\n",
    "\t\t\tfor iter in tqdm(range(1, len(training_pairs) + 1)):\n",
    "\t\t\t\ttraining_pair = training_pairs[iter - 1]\n",
    "\t\t\t\tinput_tensor = training_pair[0]\n",
    "\t\t\t\ttarget_tensor = training_pair[1]\n",
    "\n",
    "\t\t\t\tloss = self.trainOne(input_tensor, target_tensor)\n",
    "\t\t\t\tprint_loss_total += loss \n",
    "\t\t\t\ttot_loss += loss\n",
    "\n",
    "\t\t\t\tif iter % print_every == 0:\n",
    "\t\t\t\t\tprint_loss_avg = print_loss_total / print_every\n",
    "\t\t\t\t\tprint_loss_total = 0\n",
    "\t\t\t\t\tprint('%s (%d %d%%) %.4f' % (timeSince(start, iter / n_iters),\n",
    "\t\t\t\t\t\t\t\t\t\t\t\titer, iter / n_iters * 100, print_loss_avg))\n",
    "\t\t\ttrain_loss.append(tot_loss / len(training_pairs))\n",
    "\t\t\ttrain_acc.append(self.accuracy(self.train_data))\n",
    "\t\t\tvalid_stats = self.calculate_stats(self.valid_data)\n",
    "\t\t\tvalid_loss.append(valid_stats[0])\n",
    "\t\t\tvalid_acc.append(valid_stats[1])\n",
    "\t\t\tprint(\"Train Loss: \", train_loss[-1], \"Valid Loss: \", valid_loss[-1], \"Train Acc: \", train_acc[-1], \"Valid Acc: \", valid_acc[-1])\n",
    "\t\t\tpickle.dump(self, open(dumpName + '_'+str(i) + '.pkl', 'wb'))\n",
    "\t\t\tif log:\n",
    "\t\t\t\twandb.log({'train_loss': train_loss[i], 'train_accuracy': train_acc[i], 'val_loss': valid_loss[i], 'val_accuracy': valid_acc[i]})\n",
    "\t\treturn train_loss, train_acc, valid_loss, valid_acc\n",
    "\t\t\t\t\t\n",
    "\tdef accuracy(self, data):\n",
    "\t\twith torch.no_grad():\n",
    "\t\t\treturn np.sum([(self.translate(data['input_seq'][i]) == data['target_seq'][i]) for i in range(len(data))]) / len(data)\n",
    "\t\t\t\t\n",
    "\tdef translate(self, word):\n",
    "\t\twith torch.no_grad():\n",
    "\t\t\ttensor = tensorFromWord(self.inp_lang, word).unsqueeze(1)\n",
    "\t\t\touts = self.model.predict(tensor, self.max_length)\n",
    "\t\t\treturn self.out_lang.decode(outs)\n",
    "\t\n",
    "\tdef calculate_stats(self, data):\n",
    "\t\twith torch.no_grad():\n",
    "\t\t\tloss = 0\n",
    "\t\t\tacc = 0\n",
    "\t\t\tfor i in range(len(data)):\n",
    "\t\t\t\ttensor = tensorFromWord(self.inp_lang, data['input_seq'][i]).unsqueeze(1)\n",
    "\t\t\t\toutput = self.model.predict(tensor, self.max_length)\n",
    "\t\t\t\tword = self.out_lang.decode(output)\n",
    "\t\t\t\ttarget = data['target_seq'][i]\n",
    "\t\t\t\tacc += (word == target)\n",
    "\t\t\t\ttarget = tensorFromWord(self.out_lang, data['target_seq'][i])\n",
    "\n",
    "\t\t\t\tmx_len = min(len(output), len(target))\n",
    "\n",
    "\t\t\t\twhile(len(output) < mx_len):\n",
    "\t\t\t\t\toutput = torch.cat((output, self.out_lang.encode('_')), 0, device=device)\n",
    "\n",
    "\t\t\t\twhile(len(target) < mx_len):\n",
    "\t\t\t\t\ttarget = torch.cat((target, self.out_lang.encode('_')), 0, device=device)\n",
    "\n",
    "\t\t\t\tfor di in range(mx_len):\n",
    "\t\t\t\t\tloss += self.criterion(output[di], target[di]) / mx_len\n",
    "\t\t\treturn loss.item() / len(data), acc / len(data)"
   ]
  },
  {
   "cell_type": "code",
   "execution_count": 10,
   "metadata": {},
   "outputs": [],
   "source": [
    "sweep_configuration_new = {\n",
    "\t'method': 'bayes',\n",
    "\t'metric': {'goal': 'maximize', 'name': 'val_accuracy'},\n",
    "\t'parameters': \n",
    "\t{\n",
    "\t\t'epochs' : {'values': [10]},\n",
    "\t\t'lr' : {'values': [0.001, 0.005]},\n",
    "\t\t'hidden_size' : {'values': [512]},\n",
    "        'embed_size' : {'values': [16, 32]},\n",
    "        'n_layers' : {'values': [1]},\n",
    "        'type' : {'values': ['lstm', 'gru']},\n",
    "        'dropout' : {'values': [0, 0.2, 0.3]}\n",
    "\t}\n",
    "}"
   ]
  },
  {
   "cell_type": "code",
   "execution_count": 11,
   "metadata": {},
   "outputs": [
    {
     "name": "stdout",
     "output_type": "stream",
     "text": [
      "Create sweep with ID: ohi6vwf6\n",
      "Sweep URL: https://wandb.ai/mantra7/rnn-first-proj/sweeps/ohi6vwf6\n"
     ]
    },
    {
     "name": "stderr",
     "output_type": "stream",
     "text": [
      "\u001b[34m\u001b[1mwandb\u001b[0m: Agent Starting Run: 8ggf93de with config:\n",
      "\u001b[34m\u001b[1mwandb\u001b[0m: \tdropout: 0\n",
      "\u001b[34m\u001b[1mwandb\u001b[0m: \tembed_size: 32\n",
      "\u001b[34m\u001b[1mwandb\u001b[0m: \tepochs: 10\n",
      "\u001b[34m\u001b[1mwandb\u001b[0m: \thidden_size: 512\n",
      "\u001b[34m\u001b[1mwandb\u001b[0m: \tlr: 0.001\n",
      "\u001b[34m\u001b[1mwandb\u001b[0m: \tn_layers: 1\n",
      "\u001b[34m\u001b[1mwandb\u001b[0m: \ttype: gru\n",
      "Failed to detect the name of this notebook, you can set it manually with the WANDB_NOTEBOOK_NAME environment variable to enable code saving.\n",
      "C:\\Users\\HP\\AppData\\Roaming\\Python\\Python39\\site-packages\\IPython\\html.py:12: ShimWarning: The `IPython.html` package has been deprecated since IPython 4.0. You should import from `notebook` instead. `IPython.html.widgets` has moved to `ipywidgets`.\n",
      "  warn(\"The `IPython.html` package has been deprecated since IPython 4.0. \"\n",
      "\u001b[34m\u001b[1mwandb\u001b[0m: \u001b[33mWARNING\u001b[0m Ignored wandb.init() arg project when running a sweep.\n"
     ]
    },
    {
     "data": {
      "text/html": [
       "wandb version 0.15.2 is available!  To upgrade, please run:\n",
       " $ pip install wandb --upgrade"
      ],
      "text/plain": [
       "<IPython.core.display.HTML object>"
      ]
     },
     "metadata": {},
     "output_type": "display_data"
    },
    {
     "data": {
      "text/html": [
       "Tracking run with wandb version 0.13.10"
      ],
      "text/plain": [
       "<IPython.core.display.HTML object>"
      ]
     },
     "metadata": {},
     "output_type": "display_data"
    },
    {
     "data": {
      "text/html": [
       "Run data is saved locally in <code>d:\\Mantra\\Sem 6\\DL\\Assignment3\\CS6910-Assignment3\\wandb\\run-20230516_001633-8ggf93de</code>"
      ],
      "text/plain": [
       "<IPython.core.display.HTML object>"
      ]
     },
     "metadata": {},
     "output_type": "display_data"
    },
    {
     "data": {
      "text/html": [
       "Syncing run <strong><a href='https://wandb.ai/mantra7/rnn-first-proj/runs/8ggf93de' target=\"_blank\">rural-sweep-1</a></strong> to <a href='https://wandb.ai/mantra7/rnn-first-proj' target=\"_blank\">Weights & Biases</a> (<a href='https://wandb.me/run' target=\"_blank\">docs</a>)<br/>Sweep page: <a href='https://wandb.ai/mantra7/rnn-first-proj/sweeps/ohi6vwf6' target=\"_blank\">https://wandb.ai/mantra7/rnn-first-proj/sweeps/ohi6vwf6</a>"
      ],
      "text/plain": [
       "<IPython.core.display.HTML object>"
      ]
     },
     "metadata": {},
     "output_type": "display_data"
    },
    {
     "data": {
      "text/html": [
       " View project at <a href='https://wandb.ai/mantra7/rnn-first-proj' target=\"_blank\">https://wandb.ai/mantra7/rnn-first-proj</a>"
      ],
      "text/plain": [
       "<IPython.core.display.HTML object>"
      ]
     },
     "metadata": {},
     "output_type": "display_data"
    },
    {
     "data": {
      "text/html": [
       " View sweep at <a href='https://wandb.ai/mantra7/rnn-first-proj/sweeps/ohi6vwf6' target=\"_blank\">https://wandb.ai/mantra7/rnn-first-proj/sweeps/ohi6vwf6</a>"
      ],
      "text/plain": [
       "<IPython.core.display.HTML object>"
      ]
     },
     "metadata": {},
     "output_type": "display_data"
    },
    {
     "data": {
      "text/html": [
       " View run at <a href='https://wandb.ai/mantra7/rnn-first-proj/runs/8ggf93de' target=\"_blank\">https://wandb.ai/mantra7/rnn-first-proj/runs/8ggf93de</a>"
      ],
      "text/plain": [
       "<IPython.core.display.HTML object>"
      ]
     },
     "metadata": {},
     "output_type": "display_data"
    },
    {
     "name": "stdout",
     "output_type": "stream",
     "text": [
      "Epoch:  0\n"
     ]
    },
    {
     "name": "stderr",
     "output_type": "stream",
     "text": [
      " 20%|█▉        | 10001/51199 [15:15<57:26, 11.95it/s] "
     ]
    },
    {
     "name": "stdout",
     "output_type": "stream",
     "text": [
      "15m 15s (- 0m 0s) (10000 100%) 1.8664\n"
     ]
    },
    {
     "name": "stderr",
     "output_type": "stream",
     "text": [
      " 39%|███▉      | 20001/51199 [32:26<46:19, 11.22it/s]  "
     ]
    },
    {
     "name": "stdout",
     "output_type": "stream",
     "text": [
      "32m 26s (- -17m 46s) (20000 200%) 1.4376\n"
     ]
    },
    {
     "name": "stderr",
     "output_type": "stream",
     "text": [
      " 59%|█████▊    | 30001/51199 [48:25<36:19,  9.73it/s]  "
     ]
    },
    {
     "name": "stdout",
     "output_type": "stream",
     "text": [
      "48m 25s (- -33m 42s) (30000 300%) 1.3211\n"
     ]
    },
    {
     "name": "stderr",
     "output_type": "stream",
     "text": [
      " 78%|███████▊  | 40000/51199 [1:02:22<14:35, 12.80it/s]"
     ]
    },
    {
     "name": "stdout",
     "output_type": "stream",
     "text": [
      "62m 22s (- -47m 12s) (40000 400%) 1.2439\n"
     ]
    },
    {
     "name": "stderr",
     "output_type": "stream",
     "text": [
      " 98%|█████████▊| 50001/51199 [1:15:43<01:23, 14.40it/s]"
     ]
    },
    {
     "name": "stdout",
     "output_type": "stream",
     "text": [
      "75m 43s (- -61m 25s) (50000 500%) 1.2068\n"
     ]
    },
    {
     "name": "stderr",
     "output_type": "stream",
     "text": [
      "100%|██████████| 51199/51199 [1:17:16<00:00, 11.04it/s]\n"
     ]
    },
    {
     "name": "stdout",
     "output_type": "stream",
     "text": [
      "Train Loss:  1.409788341056522 Valid Loss:  1.463964366796398 Train Acc:  0.08394695208890798 Valid Acc:  0.1203907203907204\n",
      "Epoch:  1\n"
     ]
    },
    {
     "name": "stderr",
     "output_type": "stream",
     "text": [
      " 20%|█▉        | 10002/51199 [13:22<57:14, 12.00it/s] "
     ]
    },
    {
     "name": "stdout",
     "output_type": "stream",
     "text": [
      "96m 37s (- 0m 0s) (10000 100%) 1.1896\n"
     ]
    },
    {
     "name": "stderr",
     "output_type": "stream",
     "text": [
      " 39%|███▉      | 20002/51199 [27:44<44:39, 11.64it/s]  "
     ]
    },
    {
     "name": "stdout",
     "output_type": "stream",
     "text": [
      "111m 0s (- -56m 29s) (20000 200%) 1.1445\n"
     ]
    },
    {
     "name": "stderr",
     "output_type": "stream",
     "text": [
      " 59%|█████▊    | 30002/51199 [41:18<31:11, 11.33it/s]"
     ]
    },
    {
     "name": "stdout",
     "output_type": "stream",
     "text": [
      "124m 34s (- -84m 57s) (30000 300%) 1.1189\n"
     ]
    },
    {
     "name": "stderr",
     "output_type": "stream",
     "text": [
      " 78%|███████▊  | 40000/51199 [55:04<16:00, 11.66it/s]"
     ]
    },
    {
     "name": "stdout",
     "output_type": "stream",
     "text": [
      "138m 20s (- -104m 14s) (40000 400%) 1.0979\n"
     ]
    },
    {
     "name": "stderr",
     "output_type": "stream",
     "text": [
      " 98%|█████████▊| 50002/51199 [1:08:52<01:29, 13.43it/s]"
     ]
    },
    {
     "name": "stdout",
     "output_type": "stream",
     "text": [
      "152m 7s (- -122m 18s) (50000 500%) 1.0776\n"
     ]
    },
    {
     "name": "stderr",
     "output_type": "stream",
     "text": [
      "100%|██████████| 51199/51199 [1:10:27<00:00, 12.11it/s]\n"
     ]
    },
    {
     "name": "stdout",
     "output_type": "stream",
     "text": [
      "Train Loss:  1.1241400061020344 Valid Loss:  1.32058591365232 Train Acc:  0.1175608898611301 Valid Acc:  0.1536019536019536\n",
      "Epoch:  2\n"
     ]
    },
    {
     "name": "stderr",
     "output_type": "stream",
     "text": [
      " 20%|█▉        | 10002/51199 [13:52<1:02:17, 11.02it/s]"
     ]
    },
    {
     "name": "stdout",
     "output_type": "stream",
     "text": [
      "173m 50s (- 0m 0s) (10000 100%) 1.0738\n"
     ]
    },
    {
     "name": "stderr",
     "output_type": "stream",
     "text": [
      " 39%|███▉      | 20002/51199 [28:01<43:29, 11.95it/s]  "
     ]
    },
    {
     "name": "stdout",
     "output_type": "stream",
     "text": [
      "187m 59s (- -94m 0s) (20000 200%) 1.0526\n"
     ]
    },
    {
     "name": "stderr",
     "output_type": "stream",
     "text": [
      " 59%|█████▊    | 30001/51199 [42:14<30:11, 11.70it/s]"
     ]
    },
    {
     "name": "stdout",
     "output_type": "stream",
     "text": [
      "202m 12s (- -135m 11s) (30000 300%) 1.0375\n"
     ]
    },
    {
     "name": "stderr",
     "output_type": "stream",
     "text": [
      " 78%|███████▊  | 40000/51199 [56:20<15:31, 12.02it/s]"
     ]
    },
    {
     "name": "stdout",
     "output_type": "stream",
     "text": [
      "216m 18s (- -163m 46s) (40000 400%) 1.0176\n"
     ]
    },
    {
     "name": "stderr",
     "output_type": "stream",
     "text": [
      " 98%|█████████▊| 50002/51199 [1:10:23<01:32, 12.93it/s]"
     ]
    },
    {
     "name": "stdout",
     "output_type": "stream",
     "text": [
      "230m 21s (- -185m 42s) (50000 500%) 1.0057\n"
     ]
    },
    {
     "name": "stderr",
     "output_type": "stream",
     "text": [
      "100%|██████████| 51199/51199 [1:12:01<00:00, 11.85it/s]\n"
     ]
    },
    {
     "name": "stdout",
     "output_type": "stream",
     "text": [
      "Train Loss:  1.0360428753119988 Valid Loss:  1.3194549374236875 Train Acc:  0.1358620285552452 Valid Acc:  0.1711843711843712\n",
      "Epoch:  3\n"
     ]
    },
    {
     "name": "stderr",
     "output_type": "stream",
     "text": [
      " 20%|█▉        | 10002/51199 [14:31<1:03:55, 10.74it/s]"
     ]
    },
    {
     "name": "stdout",
     "output_type": "stream",
     "text": [
      "252m 35s (- 0m 0s) (10000 100%) 1.0123\n"
     ]
    },
    {
     "name": "stderr",
     "output_type": "stream",
     "text": [
      " 39%|███▉      | 20001/51199 [28:42<44:15, 11.75it/s]  "
     ]
    },
    {
     "name": "stdout",
     "output_type": "stream",
     "text": [
      "266m 45s (- -134m 37s) (20000 200%) 0.9927\n"
     ]
    },
    {
     "name": "stderr",
     "output_type": "stream",
     "text": [
      " 59%|█████▊    | 30001/51199 [43:06<29:42, 11.89it/s]"
     ]
    },
    {
     "name": "stdout",
     "output_type": "stream",
     "text": [
      "281m 10s (- -188m 33s) (30000 300%) 0.9847\n"
     ]
    },
    {
     "name": "stderr",
     "output_type": "stream",
     "text": [
      " 78%|███████▊  | 40000/51199 [57:27<16:52, 11.06it/s]"
     ]
    },
    {
     "name": "stdout",
     "output_type": "stream",
     "text": [
      "295m 30s (- -222m 21s) (40000 400%) 0.9771\n"
     ]
    },
    {
     "name": "stderr",
     "output_type": "stream",
     "text": [
      " 98%|█████████▊| 50000/51199 [1:11:48<01:32, 13.01it/s]"
     ]
    },
    {
     "name": "stdout",
     "output_type": "stream",
     "text": [
      "309m 51s (- -248m 6s) (50000 500%) 0.9772\n"
     ]
    },
    {
     "name": "stderr",
     "output_type": "stream",
     "text": [
      "100%|██████████| 51199/51199 [1:13:28<00:00, 11.61it/s]\n"
     ]
    },
    {
     "name": "stdout",
     "output_type": "stream",
     "text": [
      "Train Loss:  0.9872075373473819 Valid Loss:  1.30166504502442 Train Acc:  0.15894841696126877 Valid Acc:  0.18437118437118438\n",
      "Epoch:  4\n"
     ]
    },
    {
     "name": "stderr",
     "output_type": "stream",
     "text": [
      " 20%|█▉        | 10001/51199 [14:32<1:01:27, 11.17it/s]"
     ]
    },
    {
     "name": "stdout",
     "output_type": "stream",
     "text": [
      "332m 26s (- 0m 0s) (10000 100%) 0.9865\n"
     ]
    },
    {
     "name": "stderr",
     "output_type": "stream",
     "text": [
      " 39%|███▉      | 20002/51199 [28:56<44:17, 11.74it/s]  "
     ]
    },
    {
     "name": "stdout",
     "output_type": "stream",
     "text": [
      "346m 50s (- -174m 34s) (20000 200%) 0.9627\n"
     ]
    },
    {
     "name": "stderr",
     "output_type": "stream",
     "text": [
      " 59%|█████▊    | 30002/51199 [43:40<32:19, 10.93it/s]  "
     ]
    },
    {
     "name": "stdout",
     "output_type": "stream",
     "text": [
      "361m 34s (- -242m 56s) (30000 300%) 0.9640\n"
     ]
    },
    {
     "name": "stderr",
     "output_type": "stream",
     "text": [
      " 78%|███████▊  | 40000/51199 [58:26<16:01, 11.65it/s]"
     ]
    },
    {
     "name": "stdout",
     "output_type": "stream",
     "text": [
      "376m 20s (- -283m 44s) (40000 400%) 0.9444\n"
     ]
    },
    {
     "name": "stderr",
     "output_type": "stream",
     "text": [
      " 98%|█████████▊| 50000/51199 [1:12:54<01:35, 12.58it/s]"
     ]
    },
    {
     "name": "stdout",
     "output_type": "stream",
     "text": [
      "390m 48s (- -313m 20s) (50000 500%) 0.9590\n"
     ]
    },
    {
     "name": "stderr",
     "output_type": "stream",
     "text": [
      "100%|██████████| 51199/51199 [1:14:46<00:00, 11.41it/s]\n"
     ]
    },
    {
     "name": "stdout",
     "output_type": "stream",
     "text": [
      "Train Loss:  0.9631800804805722 Valid Loss:  1.2654701093177656 Train Acc:  0.15431942030117776 Valid Acc:  0.1838827838827839\n",
      "Epoch:  5\n"
     ]
    },
    {
     "name": "stderr",
     "output_type": "stream",
     "text": [
      " 20%|█▉        | 10001/51199 [15:10<1:05:02, 10.56it/s]"
     ]
    },
    {
     "name": "stdout",
     "output_type": "stream",
     "text": [
      "414m 20s (- 0m 0s) (10000 100%) 0.9569\n"
     ]
    },
    {
     "name": "stderr",
     "output_type": "stream",
     "text": [
      " 39%|███▉      | 20002/51199 [30:19<50:00, 10.40it/s]  "
     ]
    },
    {
     "name": "stdout",
     "output_type": "stream",
     "text": [
      "429m 28s (- -215m 15s) (20000 200%) 0.9327\n"
     ]
    },
    {
     "name": "stderr",
     "output_type": "stream",
     "text": [
      " 59%|█████▊    | 30001/51199 [45:16<34:12, 10.33it/s]  "
     ]
    },
    {
     "name": "stdout",
     "output_type": "stream",
     "text": [
      "444m 26s (- -297m 42s) (30000 300%) 0.9281\n"
     ]
    },
    {
     "name": "stderr",
     "output_type": "stream",
     "text": [
      " 78%|███████▊  | 40000/51199 [1:00:21<16:20, 11.43it/s]"
     ]
    },
    {
     "name": "stdout",
     "output_type": "stream",
     "text": [
      "459m 31s (- -345m 21s) (40000 400%) 0.9297\n"
     ]
    },
    {
     "name": "stderr",
     "output_type": "stream",
     "text": [
      " 98%|█████████▊| 50001/51199 [1:15:19<01:39, 12.09it/s]"
     ]
    },
    {
     "name": "stdout",
     "output_type": "stream",
     "text": [
      "474m 29s (- -380m 24s) (50000 500%) 0.9333\n"
     ]
    },
    {
     "name": "stderr",
     "output_type": "stream",
     "text": [
      "100%|██████████| 51199/51199 [1:17:08<00:00, 11.06it/s]\n"
     ]
    },
    {
     "name": "stdout",
     "output_type": "stream",
     "text": [
      "Train Loss:  0.9358756375364051 Valid Loss:  1.250145947802198 Train Acc:  0.17424168440789858 Valid Acc:  0.1877899877899878\n",
      "Epoch:  6\n"
     ]
    },
    {
     "name": "stderr",
     "output_type": "stream",
     "text": [
      " 20%|█▉        | 10000/51199 [15:08<1:17:53,  8.82it/s]"
     ]
    },
    {
     "name": "stdout",
     "output_type": "stream",
     "text": [
      "497m 54s (- 0m 0s) (10000 100%) 0.9469\n"
     ]
    },
    {
     "name": "stderr",
     "output_type": "stream",
     "text": [
      " 39%|███▉      | 20001/51199 [30:30<47:30, 10.95it/s]  "
     ]
    },
    {
     "name": "stdout",
     "output_type": "stream",
     "text": [
      "513m 16s (- -257m 21s) (20000 200%) 0.9281\n"
     ]
    },
    {
     "name": "stderr",
     "output_type": "stream",
     "text": [
      " 59%|█████▊    | 30000/51199 [45:31<51:24,  6.87it/s]  "
     ]
    },
    {
     "name": "stdout",
     "output_type": "stream",
     "text": [
      "528m 17s (- -353m 48s) (30000 300%) 0.9282\n"
     ]
    },
    {
     "name": "stderr",
     "output_type": "stream",
     "text": [
      " 78%|███████▊  | 40001/51199 [1:00:41<16:04, 11.61it/s]"
     ]
    },
    {
     "name": "stdout",
     "output_type": "stream",
     "text": [
      "543m 27s (- -408m 24s) (40000 400%) 0.9096\n"
     ]
    },
    {
     "name": "stderr",
     "output_type": "stream",
     "text": [
      " 98%|█████████▊| 50000/51199 [1:16:12<01:51, 10.71it/s]"
     ]
    },
    {
     "name": "stdout",
     "output_type": "stream",
     "text": [
      "558m 58s (- -448m 48s) (50000 500%) 0.9242\n"
     ]
    },
    {
     "name": "stderr",
     "output_type": "stream",
     "text": [
      "100%|██████████| 51199/51199 [1:18:06<00:00, 10.92it/s]\n"
     ]
    },
    {
     "name": "stdout",
     "output_type": "stream",
     "text": [
      "Train Loss:  0.9270777948276003 Valid Loss:  1.2460800375839438 Train Acc:  0.16855797964804 Valid Acc:  0.19023199023199022\n",
      "Epoch:  7\n"
     ]
    },
    {
     "name": "stderr",
     "output_type": "stream",
     "text": [
      " 20%|█▉        | 10001/51199 [15:37<1:09:05,  9.94it/s]"
     ]
    },
    {
     "name": "stdout",
     "output_type": "stream",
     "text": [
      "582m 48s (- 0m 0s) (10000 100%) 0.9286\n"
     ]
    },
    {
     "name": "stderr",
     "output_type": "stream",
     "text": [
      " 39%|███▉      | 20000/51199 [31:07<49:48, 10.44it/s]  "
     ]
    },
    {
     "name": "stdout",
     "output_type": "stream",
     "text": [
      "598m 19s (- -300m 50s) (20000 200%) 0.9235\n"
     ]
    },
    {
     "name": "stderr",
     "output_type": "stream",
     "text": [
      " 59%|█████▊    | 30001/51199 [47:11<33:03, 10.69it/s]  "
     ]
    },
    {
     "name": "stdout",
     "output_type": "stream",
     "text": [
      "614m 22s (- -410m 24s) (30000 300%) 0.9114\n"
     ]
    },
    {
     "name": "stderr",
     "output_type": "stream",
     "text": [
      " 78%|███████▊  | 40000/51199 [1:02:57<18:30, 10.08it/s]"
     ]
    },
    {
     "name": "stdout",
     "output_type": "stream",
     "text": [
      "630m 8s (- -473m 23s) (40000 400%) 0.9116\n"
     ]
    },
    {
     "name": "stderr",
     "output_type": "stream",
     "text": [
      " 98%|█████████▊| 50001/51199 [1:18:26<01:33, 12.86it/s]"
     ]
    },
    {
     "name": "stdout",
     "output_type": "stream",
     "text": [
      "645m 37s (- -517m 29s) (50000 500%) 0.9177\n"
     ]
    },
    {
     "name": "stderr",
     "output_type": "stream",
     "text": [
      "100%|██████████| 51199/51199 [1:20:11<00:00, 10.64it/s]\n"
     ]
    },
    {
     "name": "stdout",
     "output_type": "stream",
     "text": [
      "Train Loss:  0.9182100723390434 Valid Loss:  1.2605803809905372 Train Acc:  0.18191761557842925 Valid Acc:  0.20757020757020758\n",
      "Epoch:  8\n"
     ]
    },
    {
     "name": "stderr",
     "output_type": "stream",
     "text": [
      " 20%|█▉        | 10000/51199 [15:59<1:06:12, 10.37it/s]"
     ]
    },
    {
     "name": "stdout",
     "output_type": "stream",
     "text": [
      "670m 25s (- 0m 0s) (10000 100%) 0.9138\n"
     ]
    },
    {
     "name": "stderr",
     "output_type": "stream",
     "text": [
      " 39%|███▉      | 20002/51199 [32:00<50:36, 10.27it/s]  "
     ]
    },
    {
     "name": "stdout",
     "output_type": "stream",
     "text": [
      "686m 26s (- -344m 46s) (20000 200%) 0.9006\n"
     ]
    },
    {
     "name": "stderr",
     "output_type": "stream",
     "text": [
      " 59%|█████▊    | 30001/51199 [47:39<36:49,  9.59it/s]  "
     ]
    },
    {
     "name": "stdout",
     "output_type": "stream",
     "text": [
      "702m 5s (- -469m 56s) (30000 300%) 0.9054\n"
     ]
    },
    {
     "name": "stderr",
     "output_type": "stream",
     "text": [
      " 78%|███████▊  | 40001/51199 [1:03:56<16:28, 11.33it/s]"
     ]
    },
    {
     "name": "stdout",
     "output_type": "stream",
     "text": [
      "718m 22s (- -539m 13s) (40000 400%) 0.8919\n"
     ]
    },
    {
     "name": "stderr",
     "output_type": "stream",
     "text": [
      " 98%|█████████▊| 50001/51199 [1:19:40<01:45, 11.36it/s]"
     ]
    },
    {
     "name": "stdout",
     "output_type": "stream",
     "text": [
      "734m 7s (- -588m 42s) (50000 500%) 0.8932\n"
     ]
    },
    {
     "name": "stderr",
     "output_type": "stream",
     "text": [
      "100%|██████████| 51199/51199 [1:21:38<00:00, 10.45it/s]\n"
     ]
    },
    {
     "name": "stdout",
     "output_type": "stream",
     "text": [
      "Train Loss:  0.9006901539362034 Valid Loss:  1.2752275068681318 Train Acc:  0.18514033477216352 Valid Acc:  0.20976800976800977\n",
      "Epoch:  9\n"
     ]
    },
    {
     "name": "stderr",
     "output_type": "stream",
     "text": [
      " 20%|█▉        | 10001/51199 [15:24<1:06:10, 10.38it/s]"
     ]
    },
    {
     "name": "stdout",
     "output_type": "stream",
     "text": [
      "757m 54s (- 0m 0s) (10000 100%) 0.9126\n"
     ]
    },
    {
     "name": "stderr",
     "output_type": "stream",
     "text": [
      " 39%|███▉      | 20002/51199 [31:14<47:40, 10.90it/s]  "
     ]
    },
    {
     "name": "stdout",
     "output_type": "stream",
     "text": [
      "773m 44s (- -387m 7s) (20000 200%) 0.9016\n"
     ]
    },
    {
     "name": "stderr",
     "output_type": "stream",
     "text": [
      " 59%|█████▊    | 30001/51199 [46:27<32:32, 10.86it/s]"
     ]
    },
    {
     "name": "stdout",
     "output_type": "stream",
     "text": [
      "788m 58s (- -526m 0s) (30000 300%) 0.8914\n"
     ]
    },
    {
     "name": "stderr",
     "output_type": "stream",
     "text": [
      " 78%|███████▊  | 40000/51199 [1:02:03<16:33, 11.27it/s]"
     ]
    },
    {
     "name": "stdout",
     "output_type": "stream",
     "text": [
      "804m 34s (- -604m 34s) (40000 400%) 0.8773\n"
     ]
    },
    {
     "name": "stderr",
     "output_type": "stream",
     "text": [
      " 98%|█████████▊| 50001/51199 [1:17:36<01:46, 11.28it/s]"
     ]
    },
    {
     "name": "stdout",
     "output_type": "stream",
     "text": [
      "820m 6s (- -657m 54s) (50000 500%) 0.8905\n"
     ]
    },
    {
     "name": "stderr",
     "output_type": "stream",
     "text": [
      "100%|██████████| 51199/51199 [1:19:24<00:00, 10.75it/s]\n"
     ]
    },
    {
     "name": "stdout",
     "output_type": "stream",
     "text": [
      "Train Loss:  0.8941795092700455 Valid Loss:  1.2959070226648353 Train Acc:  0.19045293853395573 Valid Acc:  0.20122100122100123\n"
     ]
    },
    {
     "data": {
      "text/html": [
       "Waiting for W&B process to finish... <strong style=\"color:green\">(success).</strong>"
      ],
      "text/plain": [
       "<IPython.core.display.HTML object>"
      ]
     },
     "metadata": {},
     "output_type": "display_data"
    },
    {
     "data": {
      "text/html": [
       "<style>\n",
       "    table.wandb td:nth-child(1) { padding: 0 10px; text-align: left ; width: auto;} td:nth-child(2) {text-align: left ; width: 100%}\n",
       "    .wandb-row { display: flex; flex-direction: row; flex-wrap: wrap; justify-content: flex-start; width: 100% }\n",
       "    .wandb-col { display: flex; flex-direction: column; flex-basis: 100%; flex: 1; padding: 10px; }\n",
       "    </style>\n",
       "<div class=\"wandb-row\"><div class=\"wandb-col\"><h3>Run history:</h3><br/><table class=\"wandb\"><tr><td>train_accuracy</td><td>▁▃▄▆▆▇▇▇██</td></tr><tr><td>train_loss</td><td>█▄▃▂▂▂▁▁▁▁</td></tr><tr><td>val_accuracy</td><td>▁▄▅▆▆▆▆██▇</td></tr><tr><td>val_loss</td><td>█▃▃▃▂▁▁▁▂▃</td></tr></table><br/></div><div class=\"wandb-col\"><h3>Run summary:</h3><br/><table class=\"wandb\"><tr><td>train_accuracy</td><td>0.19045</td></tr><tr><td>train_loss</td><td>0.89418</td></tr><tr><td>val_accuracy</td><td>0.20122</td></tr><tr><td>val_loss</td><td>1.29591</td></tr></table><br/></div></div>"
      ],
      "text/plain": [
       "<IPython.core.display.HTML object>"
      ]
     },
     "metadata": {},
     "output_type": "display_data"
    },
    {
     "data": {
      "text/html": [
       " View run <strong style=\"color:#cdcd00\">rural-sweep-1</strong> at: <a href='https://wandb.ai/mantra7/rnn-first-proj/runs/8ggf93de' target=\"_blank\">https://wandb.ai/mantra7/rnn-first-proj/runs/8ggf93de</a><br/>Synced 6 W&B file(s), 0 media file(s), 0 artifact file(s) and 1 other file(s)"
      ],
      "text/plain": [
       "<IPython.core.display.HTML object>"
      ]
     },
     "metadata": {},
     "output_type": "display_data"
    },
    {
     "data": {
      "text/html": [
       "Find logs at: <code>.\\wandb\\run-20230516_001633-8ggf93de\\logs</code>"
      ],
      "text/plain": [
       "<IPython.core.display.HTML object>"
      ]
     },
     "metadata": {},
     "output_type": "display_data"
    },
    {
     "name": "stderr",
     "output_type": "stream",
     "text": [
      "\u001b[34m\u001b[1mwandb\u001b[0m: Sweep Agent: Waiting for job.\n",
      "\u001b[34m\u001b[1mwandb\u001b[0m: Job received.\n",
      "\u001b[34m\u001b[1mwandb\u001b[0m: Agent Starting Run: alt54tnf with config:\n",
      "\u001b[34m\u001b[1mwandb\u001b[0m: \tdropout: 0\n",
      "\u001b[34m\u001b[1mwandb\u001b[0m: \tembed_size: 16\n",
      "\u001b[34m\u001b[1mwandb\u001b[0m: \tepochs: 10\n",
      "\u001b[34m\u001b[1mwandb\u001b[0m: \thidden_size: 512\n",
      "\u001b[34m\u001b[1mwandb\u001b[0m: \tlr: 0.001\n",
      "\u001b[34m\u001b[1mwandb\u001b[0m: \tn_layers: 1\n",
      "\u001b[34m\u001b[1mwandb\u001b[0m: \ttype: gru\n",
      "Failed to detect the name of this notebook, you can set it manually with the WANDB_NOTEBOOK_NAME environment variable to enable code saving.\n",
      "\u001b[34m\u001b[1mwandb\u001b[0m: \u001b[33mWARNING\u001b[0m Ignored wandb.init() arg project when running a sweep.\n"
     ]
    },
    {
     "data": {
      "text/html": [
       "wandb version 0.15.2 is available!  To upgrade, please run:\n",
       " $ pip install wandb --upgrade"
      ],
      "text/plain": [
       "<IPython.core.display.HTML object>"
      ]
     },
     "metadata": {},
     "output_type": "display_data"
    },
    {
     "data": {
      "text/html": [
       "Tracking run with wandb version 0.13.10"
      ],
      "text/plain": [
       "<IPython.core.display.HTML object>"
      ]
     },
     "metadata": {},
     "output_type": "display_data"
    },
    {
     "data": {
      "text/html": [
       "Run data is saved locally in <code>d:\\Mantra\\Sem 6\\DL\\Assignment3\\CS6910-Assignment3\\wandb\\run-20230516_140508-alt54tnf</code>"
      ],
      "text/plain": [
       "<IPython.core.display.HTML object>"
      ]
     },
     "metadata": {},
     "output_type": "display_data"
    },
    {
     "data": {
      "text/html": [
       "Syncing run <strong><a href='https://wandb.ai/mantra7/rnn-first-proj/runs/alt54tnf' target=\"_blank\">youthful-sweep-2</a></strong> to <a href='https://wandb.ai/mantra7/rnn-first-proj' target=\"_blank\">Weights & Biases</a> (<a href='https://wandb.me/run' target=\"_blank\">docs</a>)<br/>Sweep page: <a href='https://wandb.ai/mantra7/rnn-first-proj/sweeps/ohi6vwf6' target=\"_blank\">https://wandb.ai/mantra7/rnn-first-proj/sweeps/ohi6vwf6</a>"
      ],
      "text/plain": [
       "<IPython.core.display.HTML object>"
      ]
     },
     "metadata": {},
     "output_type": "display_data"
    },
    {
     "data": {
      "text/html": [
       " View project at <a href='https://wandb.ai/mantra7/rnn-first-proj' target=\"_blank\">https://wandb.ai/mantra7/rnn-first-proj</a>"
      ],
      "text/plain": [
       "<IPython.core.display.HTML object>"
      ]
     },
     "metadata": {},
     "output_type": "display_data"
    },
    {
     "data": {
      "text/html": [
       " View sweep at <a href='https://wandb.ai/mantra7/rnn-first-proj/sweeps/ohi6vwf6' target=\"_blank\">https://wandb.ai/mantra7/rnn-first-proj/sweeps/ohi6vwf6</a>"
      ],
      "text/plain": [
       "<IPython.core.display.HTML object>"
      ]
     },
     "metadata": {},
     "output_type": "display_data"
    },
    {
     "data": {
      "text/html": [
       " View run at <a href='https://wandb.ai/mantra7/rnn-first-proj/runs/alt54tnf' target=\"_blank\">https://wandb.ai/mantra7/rnn-first-proj/runs/alt54tnf</a>"
      ],
      "text/plain": [
       "<IPython.core.display.HTML object>"
      ]
     },
     "metadata": {},
     "output_type": "display_data"
    },
    {
     "name": "stdout",
     "output_type": "stream",
     "text": [
      "Epoch:  0\n"
     ]
    },
    {
     "name": "stderr",
     "output_type": "stream",
     "text": [
      " 20%|█▉        | 10001/51199 [12:34<56:34, 12.14it/s] "
     ]
    },
    {
     "name": "stdout",
     "output_type": "stream",
     "text": [
      "12m 34s (- 0m 0s) (10000 100%) 1.9339\n"
     ]
    },
    {
     "name": "stderr",
     "output_type": "stream",
     "text": [
      " 39%|███▉      | 20001/51199 [25:16<42:13, 12.32it/s]  "
     ]
    },
    {
     "name": "stdout",
     "output_type": "stream",
     "text": [
      "25m 15s (- -13m 22s) (20000 200%) 1.4452\n"
     ]
    },
    {
     "name": "stderr",
     "output_type": "stream",
     "text": [
      " 59%|█████▊    | 30002/51199 [38:30<28:53, 12.23it/s]"
     ]
    },
    {
     "name": "stdout",
     "output_type": "stream",
     "text": [
      "38m 30s (- -26m 19s) (30000 300%) 1.3225\n"
     ]
    },
    {
     "name": "stderr",
     "output_type": "stream",
     "text": [
      " 78%|███████▊  | 40000/51199 [51:59<13:37, 13.70it/s]"
     ]
    },
    {
     "name": "stdout",
     "output_type": "stream",
     "text": [
      "51m 59s (- -39m 0s) (40000 400%) 1.2431\n"
     ]
    },
    {
     "name": "stderr",
     "output_type": "stream",
     "text": [
      " 98%|█████████▊| 50002/51199 [1:05:09<01:29, 13.38it/s]"
     ]
    },
    {
     "name": "stdout",
     "output_type": "stream",
     "text": [
      "65m 9s (- -53m 52s) (50000 500%) 1.1909\n"
     ]
    },
    {
     "name": "stderr",
     "output_type": "stream",
     "text": [
      "100%|██████████| 51199/51199 [1:06:43<00:00, 12.79it/s]\n"
     ]
    },
    {
     "name": "stdout",
     "output_type": "stream",
     "text": [
      "Train Loss:  1.4208558011193069 Valid Loss:  1.3843910971840658 Train Acc:  0.091329908787281 Valid Acc:  0.14456654456654458\n",
      "Epoch:  1\n"
     ]
    },
    {
     "name": "stderr",
     "output_type": "stream",
     "text": [
      " 20%|█▉        | 10002/51199 [13:19<1:01:11, 11.22it/s]"
     ]
    },
    {
     "name": "stdout",
     "output_type": "stream",
     "text": [
      "85m 38s (- 0m 0s) (10000 100%) 1.1580\n"
     ]
    },
    {
     "name": "stderr",
     "output_type": "stream",
     "text": [
      " 39%|███▉      | 20002/51199 [26:37<42:31, 12.23it/s]  "
     ]
    },
    {
     "name": "stdout",
     "output_type": "stream",
     "text": [
      "98m 56s (- -50m 31s) (20000 200%) 1.1180\n"
     ]
    },
    {
     "name": "stderr",
     "output_type": "stream",
     "text": [
      " 59%|█████▊    | 30001/51199 [40:05<27:37, 12.79it/s]"
     ]
    },
    {
     "name": "stdout",
     "output_type": "stream",
     "text": [
      "112m 24s (- -75m 3s) (30000 300%) 1.0837\n"
     ]
    },
    {
     "name": "stderr",
     "output_type": "stream",
     "text": [
      " 78%|███████▊  | 40001/51199 [53:55<14:18, 13.04it/s]"
     ]
    },
    {
     "name": "stdout",
     "output_type": "stream",
     "text": [
      "126m 15s (- -95m 18s) (40000 400%) 1.0643\n"
     ]
    },
    {
     "name": "stderr",
     "output_type": "stream",
     "text": [
      " 98%|█████████▊| 50002/51199 [1:07:33<01:32, 12.90it/s]"
     ]
    },
    {
     "name": "stdout",
     "output_type": "stream",
     "text": [
      "139m 52s (- -112m 6s) (50000 500%) 1.0449\n"
     ]
    },
    {
     "name": "stderr",
     "output_type": "stream",
     "text": [
      "100%|██████████| 51199/51199 [1:09:08<00:00, 12.34it/s]\n"
     ]
    },
    {
     "name": "stdout",
     "output_type": "stream",
     "text": [
      "Train Loss:  1.0921851949318195 Valid Loss:  1.3006725045787546 Train Acc:  0.1323658665208305 Valid Acc:  0.16288156288156289\n",
      "Epoch:  2\n"
     ]
    },
    {
     "name": "stderr",
     "output_type": "stream",
     "text": [
      " 20%|█▉        | 10002/51199 [13:57<1:03:19, 10.84it/s]"
     ]
    },
    {
     "name": "stdout",
     "output_type": "stream",
     "text": [
      "161m 10s (- 0m 0s) (10000 100%) 1.0327\n"
     ]
    },
    {
     "name": "stderr",
     "output_type": "stream",
     "text": [
      " 39%|███▉      | 20001/51199 [27:38<40:55, 12.70it/s]  "
     ]
    },
    {
     "name": "stdout",
     "output_type": "stream",
     "text": [
      "174m 51s (- -88m 34s) (20000 200%) 1.0153\n"
     ]
    },
    {
     "name": "stderr",
     "output_type": "stream",
     "text": [
      " 59%|█████▊    | 30001/51199 [41:28<30:39, 11.52it/s]"
     ]
    },
    {
     "name": "stdout",
     "output_type": "stream",
     "text": [
      "188m 42s (- -126m 11s) (30000 300%) 0.9921\n"
     ]
    },
    {
     "name": "stderr",
     "output_type": "stream",
     "text": [
      " 78%|███████▊  | 40000/51199 [55:11<14:45, 12.64it/s]"
     ]
    },
    {
     "name": "stdout",
     "output_type": "stream",
     "text": [
      "202m 25s (- -152m 11s) (40000 400%) 0.9802\n"
     ]
    },
    {
     "name": "stderr",
     "output_type": "stream",
     "text": [
      " 98%|█████████▊| 50002/51199 [1:09:27<01:40, 11.95it/s]"
     ]
    },
    {
     "name": "stdout",
     "output_type": "stream",
     "text": [
      "216m 40s (- -174m 39s) (50000 500%) 0.9739\n"
     ]
    },
    {
     "name": "stderr",
     "output_type": "stream",
     "text": [
      "100%|██████████| 51199/51199 [1:11:04<00:00, 12.01it/s]\n"
     ]
    },
    {
     "name": "stdout",
     "output_type": "stream",
     "text": [
      "Train Loss:  0.9976526574580737 Valid Loss:  1.2790830805479243 Train Acc:  0.1389870895915936 Valid Acc:  0.17094017094017094\n",
      "Epoch:  3\n"
     ]
    },
    {
     "name": "stderr",
     "output_type": "stream",
     "text": [
      " 20%|█▉        | 10002/51199 [13:57<1:04:34, 10.63it/s]"
     ]
    },
    {
     "name": "stdout",
     "output_type": "stream",
     "text": [
      "237m 54s (- 0m 0s) (10000 100%) 0.9848\n"
     ]
    },
    {
     "name": "stderr",
     "output_type": "stream",
     "text": [
      " 39%|███▉      | 20001/51199 [28:32<47:06, 11.04it/s]  "
     ]
    },
    {
     "name": "stdout",
     "output_type": "stream",
     "text": [
      "252m 29s (- -127m 45s) (20000 200%) 0.9595\n"
     ]
    },
    {
     "name": "stderr",
     "output_type": "stream",
     "text": [
      " 59%|█████▊    | 30001/51199 [42:36<31:05, 11.36it/s]"
     ]
    },
    {
     "name": "stdout",
     "output_type": "stream",
     "text": [
      "266m 33s (- -178m 17s) (30000 300%) 0.9462\n"
     ]
    },
    {
     "name": "stderr",
     "output_type": "stream",
     "text": [
      " 78%|███████▊  | 40001/51199 [57:03<14:57, 12.47it/s]"
     ]
    },
    {
     "name": "stdout",
     "output_type": "stream",
     "text": [
      "281m 0s (- -211m 14s) (40000 400%) 0.9404\n"
     ]
    },
    {
     "name": "stderr",
     "output_type": "stream",
     "text": [
      " 98%|█████████▊| 50001/51199 [1:11:06<01:26, 13.85it/s]"
     ]
    },
    {
     "name": "stdout",
     "output_type": "stream",
     "text": [
      "295m 3s (- -237m 57s) (50000 500%) 0.9393\n"
     ]
    },
    {
     "name": "stderr",
     "output_type": "stream",
     "text": [
      "100%|██████████| 51199/51199 [1:12:45<00:00, 11.73it/s]\n"
     ]
    },
    {
     "name": "stdout",
     "output_type": "stream",
     "text": [
      "Train Loss:  0.9530271473321295 Valid Loss:  1.2655288938492064 Train Acc:  0.1744955956171019 Valid Acc:  0.1916971916971917\n",
      "Epoch:  4\n"
     ]
    },
    {
     "name": "stderr",
     "output_type": "stream",
     "text": [
      " 20%|█▉        | 10001/51199 [14:25<1:04:52, 10.58it/s]"
     ]
    },
    {
     "name": "stdout",
     "output_type": "stream",
     "text": [
      "316m 52s (- 0m 0s) (10000 100%) 0.9416\n"
     ]
    },
    {
     "name": "stderr",
     "output_type": "stream",
     "text": [
      " 39%|███▉      | 20001/51199 [30:08<43:40, 11.91it/s]  "
     ]
    },
    {
     "name": "stdout",
     "output_type": "stream",
     "text": [
      "332m 35s (- -167m 42s) (20000 200%) 0.9204\n"
     ]
    },
    {
     "name": "stderr",
     "output_type": "stream",
     "text": [
      " 59%|█████▊    | 30000/51199 [44:49<34:23, 10.27it/s]"
     ]
    },
    {
     "name": "stdout",
     "output_type": "stream",
     "text": [
      "347m 17s (- -232m 28s) (30000 300%) 0.9085\n"
     ]
    },
    {
     "name": "stderr",
     "output_type": "stream",
     "text": [
      " 78%|███████▊  | 40000/51199 [59:24<16:53, 11.05it/s]"
     ]
    },
    {
     "name": "stdout",
     "output_type": "stream",
     "text": [
      "361m 51s (- -272m 36s) (40000 400%) 0.8966\n"
     ]
    },
    {
     "name": "stderr",
     "output_type": "stream",
     "text": [
      " 98%|█████████▊| 50002/51199 [1:14:25<01:42, 11.70it/s]"
     ]
    },
    {
     "name": "stdout",
     "output_type": "stream",
     "text": [
      "376m 52s (- -302m 29s) (50000 500%) 0.8975\n"
     ]
    },
    {
     "name": "stderr",
     "output_type": "stream",
     "text": [
      "100%|██████████| 51199/51199 [1:16:14<00:00, 11.19it/s]\n"
     ]
    },
    {
     "name": "stdout",
     "output_type": "stream",
     "text": [
      "Train Loss:  0.9119909261078772 Valid Loss:  1.2318395146520147 Train Acc:  0.18769897849567374 Valid Acc:  0.20854700854700856\n",
      "Epoch:  5\n"
     ]
    },
    {
     "name": "stderr",
     "output_type": "stream",
     "text": [
      " 20%|█▉        | 10001/51199 [15:12<1:03:33, 10.80it/s]"
     ]
    },
    {
     "name": "stdout",
     "output_type": "stream",
     "text": [
      "399m 37s (- 0m 0s) (10000 100%) 0.9062\n"
     ]
    },
    {
     "name": "stderr",
     "output_type": "stream",
     "text": [
      " 39%|███▉      | 20001/51199 [30:14<46:46, 11.12it/s]  "
     ]
    },
    {
     "name": "stdout",
     "output_type": "stream",
     "text": [
      "414m 39s (- -208m 40s) (20000 200%) 0.8836\n"
     ]
    },
    {
     "name": "stderr",
     "output_type": "stream",
     "text": [
      " 59%|█████▊    | 30001/51199 [45:05<31:20, 11.27it/s]"
     ]
    },
    {
     "name": "stdout",
     "output_type": "stream",
     "text": [
      "429m 30s (- -287m 39s) (30000 300%) 0.8814\n"
     ]
    },
    {
     "name": "stderr",
     "output_type": "stream",
     "text": [
      " 78%|███████▊  | 40001/51199 [1:00:24<35:29,  5.26it/s]"
     ]
    },
    {
     "name": "stdout",
     "output_type": "stream",
     "text": [
      "444m 49s (- -334m 23s) (40000 400%) 0.8709\n"
     ]
    },
    {
     "name": "stderr",
     "output_type": "stream",
     "text": [
      " 97%|█████████▋| 49566/51199 [1:18:16<02:34, 10.55it/s]"
     ]
    }
   ],
   "source": [
    "f = open('configs', 'w')\n",
    "count = 0\n",
    "\n",
    "def get_name(config):\n",
    "\tglobal count\n",
    "\tcount += 1\n",
    "\tf.write(str(count) + '_' + str(config) + '\\n')\n",
    "\tf.flush()\n",
    "\treturn 'lr'+str(config['lr'])+'_hidden_size'+str(config['hidden_size'])+'_embed_size'+str(config['embed_size'])+'_n_layers'+str(config['n_layers'])+'_type'+str(config['type'])+'_dropout'+str(config['dropout'])\n",
    "\n",
    "# 1: Define objective/training function\n",
    "def objective(config):\n",
    "\ttranslator = Translator('guj', hidden_size=config.hidden_size, embed_size=config.embed_size, n_layers=config.n_layers, type=config.type, dropout=config.dropout)\n",
    "\tdump = 'trans'+'_'+str(config.hidden_size)+'_'+str(config.embed_size)+'_'+str(config.n_layers)+'_'+str(config.type)+'_'+str(config.dropout)\n",
    "\ttrain_loss, train_acc, valid_loss, valid_acc = translator.train(epoch=config.epochs, print_every=10000, learning_rate=config.lr, dumpName=dump, log=True, wandb=wandb)\n",
    "\n",
    "\t# for i in range(config.epochs):\n",
    "\t# \twandb.log({'train_loss': train_loss[i], 'train_accuracy': train_acc[i], 'val_loss': valid_loss[i], 'val_accuracy': valid_acc[i]})\n",
    "\n",
    "def main():\n",
    "\trun = wandb.init(project='rnn-first-proj')\n",
    "\tobjective(wandb.config)\n",
    "\trun.name = get_name(wandb.config)\n",
    "\trun.finish()\n",
    "\n",
    "# 2: Define the search space\n",
    "sweep_configuration = sweep_configuration_new\n",
    "\n",
    "# 3: Start the sweep\n",
    "sweep_id = wandb.sweep(sweep=sweep_configuration, project='rnn-first-proj')\n",
    "wandb.agent(sweep_id, function=main, count=10)\n",
    "\n",
    "f.close()"
   ]
  },
  {
   "cell_type": "code",
   "execution_count": null,
   "metadata": {},
   "outputs": [
    {
     "name": "stdout",
     "output_type": "stream",
     "text": [
      "Epoch:  0\n"
     ]
    },
    {
     "name": "stderr",
     "output_type": "stream",
     "text": [
      "100%|██████████| 1/1 [00:00<00:00, 22.38it/s]\n"
     ]
    },
    {
     "data": {
      "text/plain": [
       "([4.174344635009765], [0.0], [4.133323794261294], [0.0])"
      ]
     },
     "execution_count": 12,
     "metadata": {},
     "output_type": "execute_result"
    }
   ],
   "source": [
    "# trans = Translator('guj', hidden_size=128, embed_size=32, n_layers=2, type='gru', dropout=0.2)\n",
    "# trans.train(n_iters=1, print_every=1000, learning_rate=0.005, dumpName='lol', rand=True)"
   ]
  },
  {
   "cell_type": "code",
   "execution_count": null,
   "metadata": {},
   "outputs": [
    {
     "data": {
      "text/plain": [
       "'સરાાાાા'"
      ]
     },
     "execution_count": 13,
     "metadata": {},
     "output_type": "execute_result"
    }
   ],
   "source": [
    "trans.translate('a')"
   ]
  },
  {
   "cell_type": "code",
   "execution_count": null,
   "metadata": {},
   "outputs": [],
   "source": [
    "# # create a seq2seq model using 2 RNNs\n",
    "# class Seq2Seq(nn.Module):\n",
    "# \tdef __init__(self, input_size, hidden_size, output_size, n_layers=1):\n",
    "# \t\tsuper(Seq2Seq, self).__init__()\n",
    "# \t\tself.input_size = input_size\n",
    "# \t\tself.hidden_size = hidden_size\n",
    "# \t\tself.output_size = output_size\n",
    "# \t\tself.n_layers = n_layers\n",
    "\n",
    "# \t\t# encoder and decoder\n",
    "# \t\tself.encoder = nn.RNN(input_size, hidden_size, n_layers)\n",
    "# \t\tself.decoder = nn.RNN(hidden_size, hidden_size, n_layers)\n",
    "\n",
    "# \t\t# linear layer to get output\n",
    "# \t\tself.linear = nn.Linear(hidden_size, output_size)\n",
    "\n",
    "# \tdef forward(self, input, hidden):\n",
    "# \t\t# encoder\n",
    "# \t\toutput, hidden = self.encoder(input, hidden)\n",
    "\t\t\n",
    "# \t\t# decoder\n",
    "# \t\toutput, hidden = self.decoder(output, hidden)\n",
    "\t\t\n",
    "# \t\t# get output\n",
    "# \t\toutput = self.linear(output)\n",
    "# \t\treturn output, hidden\n",
    "\t\n",
    "# \tdef predict(self, input, inp_lang, out_lang):\n",
    "# \t\tout, hidden = self.forward(inp_lang.one_hot_encode(input).unsqueeze(1), self.init_hidden(1))\n",
    "# \t\treturn out_lang.decode_one_hot(out)\n",
    "\t\n",
    "# \tdef init_hidden(self, batch_size):\n",
    "# \t\treturn Variable(torch.zeros(self.n_layers, batch_size, self.hidden_size))"
   ]
  },
  {
   "cell_type": "code",
   "execution_count": null,
   "metadata": {},
   "outputs": [],
   "source": [
    "# class Translator:\n",
    "# \tdef __init__(self, lang):\n",
    "# \t\ttrain_data = pd.read_csv(f'aksharantar_sampled/{lang}/{lang}_train.csv')\n",
    "# \t\ttest_data = pd.read_csv(f'aksharantar_sampled/{lang}/{lang}_test.csv')\n",
    "# \t\tvalid_data = pd.read_csv(f'aksharantar_sampled/{lang}/{lang}_valid.csv')\n",
    "\n",
    "# \t\ttrain_data.columns = ['input_seq', 'target_seq']\n",
    "# \t\ttest_data.columns = ['input_seq', 'target_seq']\n",
    "# \t\tvalid_data.columns = ['input_seq', 'target_seq']\n",
    "\n",
    "# \t\tself.inp_lang = Lang(train_data['input_seq'])\n",
    "# \t\tself.out_lang = Lang(train_data['target_seq'])\n",
    "\n",
    "# \t\tself.model = Seq2Seq(self.inp_lang.n_chars, 10, self.out_lang.n_chars, 1)\n",
    "# \t\tself.criterion = nn.CrossEntropyLoss()\n",
    "# \t\tself.optimizer = optim.Adam(self.model.parameters(), lr=0.001)\n",
    "\n",
    "# \t\ttrain_dataset = AksharantarDataset(train_data, self.inp_lang, self.out_lang)\n",
    "# \t\ttest_dataset = AksharantarDataset(test_data, self.inp_lang, self.out_lang)\n",
    "# \t\tvalid_dataset = AksharantarDataset(valid_data, self.inp_lang, self.out_lang)\n",
    "\n",
    "# \t\tself.train_dataloader = DataLoader(train_dataset, batch_size=1, shuffle=True)\n",
    "# \t\tself.test_dataloader = DataLoader(test_dataset, batch_size=1, shuffle=True)\n",
    "# \t\tself.valid_dataloader = DataLoader(valid_dataset, batch_size=1, shuffle=True)\n",
    "\n",
    "# \tdef translate(self, word):\n",
    "# \t\treturn self.model.predict(word, self.inp_lang, self.out_lang)\n",
    "\t\n",
    "# \tdef train_one(self, inp, target):\n",
    "# \t\t# zero gradients\n",
    "# \t\tself.optimizer.zero_grad()\n",
    "\t\t\n",
    "# \t\t# initialize hidden layer\n",
    "# \t\thidden = self.model.init_hidden(1)\n",
    "\t\t\n",
    "# \t\t# get output\n",
    "# \t\toutput, hidden = self.model.forward(inp, hidden)\n",
    "\t\t\n",
    "# \t\tmx_len = min(len(output), len(target))\n",
    "\n",
    "# \t\tif(len(output) != len(inp)):\n",
    "# \t\t\tprint('lol')\n",
    "\n",
    "# \t\t# append output and target with 'Z' to make them of mx_len\n",
    "# \t\twhile(len(output) < mx_len):\n",
    "# \t\t\toutput = torch.cat((output, self.out_lang.one_hot_encode_char('Z')), 0)\n",
    "\n",
    "# \t\twhile(len(target) < mx_len):\n",
    "# \t\t\ttarget = torch.cat((target, self.out_lang.one_hot_encode_char('Z')), 0)\n",
    "\t\t\n",
    "# \t\t# calculate loss \n",
    "# \t\tloss = self.criterion(torch.flatten(output[:mx_len], 0, 1), torch.flatten(target[:mx_len], 0, 1).max(1)[1])\n",
    "\t\t\t\n",
    "# \t\t# backpropagate\n",
    "# \t\tloss.backward()\n",
    "\t\t\n",
    "# \t\t# update weights\n",
    "# \t\tself.optimizer.step()\n",
    "\n",
    "# \t\treturn loss.data.item() / len(output)\n",
    "\t\n",
    "# \tdef train_epoch(self, data_loader, print_every=100):\n",
    "# \t\tloss = 0\n",
    "# \t\tfor i_batch, sample_batched in tqdm(enumerate(data_loader)):\n",
    "# \t\t\tloss += self.train_one(sample_batched['input_seq'][0], sample_batched['target_seq'][0])\n",
    "# \t\t\tif i_batch % print_every == print_every-1:\n",
    "# \t\t\t\tprint(' Train Loss: ', loss / (i_batch+1))\n",
    "# \t\t\t\t# print(' Valid Loss: ', self.calc_loss_full(self.valid_dataloader))\n",
    "# \t\t\t\t# print(' Train Accuracy: ', self.calc_accuracy(self.train_dataloader))\n",
    "# \t\t\t\t# print(' Valid Accuracy: ', self.calc_accuracy(self.valid_dataloader))\n",
    "# \t\treturn self.calc_loss_full(data_loader)\n",
    "\t\n",
    "# \tdef train(self, epochs, print_every=100):\n",
    "# \t\tlosses = []\n",
    "# \t\tfor epoch in range(epochs):\n",
    "# \t\t\tprint('Epoch ', epoch + 1)\n",
    "# \t\t\tloss = self.train_epoch(self.train_dataloader, print_every)\n",
    "# \t\t\tlosses.append(loss)\n",
    "# \t\treturn losses\n",
    "\t\n",
    "# \tdef calc_loss_full(self, data_loader):\n",
    "# \t\tloss = 0\n",
    "# \t\tfor i_batch, sample_batched in tqdm(enumerate(data_loader)):\n",
    "# \t\t\tinp = sample_batched['input_seq'][0]\n",
    "# \t\t\ttarget = sample_batched['target_seq'][0]\n",
    "# \t\t\thidden = self.model.init_hidden(1)\n",
    "# \t\t\toutput, hidden = self.model.forward(inp, hidden)\n",
    "# \t\t\tmx_len = min(len(output), len(target))\n",
    "# \t\t\twhile(len(output) < mx_len):\n",
    "# \t\t\t\toutput = torch.cat((output, self.out_lang.one_hot_encode_char('Z')), 0)\n",
    "# \t\t\twhile(len(target) < mx_len):\n",
    "# \t\t\t\ttarget = torch.cat((target, self.out_lang.one_hot_encode_char('Z')), 0)\n",
    "# \t\t\tloss += self.criterion(torch.flatten(output[:mx_len], 0, 1), torch.flatten(target[:mx_len], 0, 1).max(1)[1])\n",
    "# \t\treturn loss / len(data_loader)\n",
    "\t\n",
    "# \tdef calc_accuracy(self, dataset):\n",
    "# \t\treturn np.sum([(self.translate(sample_batched['input_seq']) ==  sample_batched['target_seq']) for sample_batched in dataset]) / len(dataset)"
   ]
  },
  {
   "cell_type": "code",
   "execution_count": null,
   "metadata": {},
   "outputs": [],
   "source": [
    "# guj_trans = Translator('guj')\n",
    "# guj_trans.train(10, 1000)"
   ]
  }
 ],
 "metadata": {
  "kernelspec": {
   "display_name": "Python 3",
   "language": "python",
   "name": "python3"
  },
  "language_info": {
   "codemirror_mode": {
    "name": "ipython",
    "version": 3
   },
   "file_extension": ".py",
   "mimetype": "text/x-python",
   "name": "python",
   "nbconvert_exporter": "python",
   "pygments_lexer": "ipython3",
   "version": "3.9.4"
  },
  "orig_nbformat": 4
 },
 "nbformat": 4,
 "nbformat_minor": 2
}
