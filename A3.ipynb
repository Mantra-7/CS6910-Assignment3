{
 "cells": [
  {
   "cell_type": "code",
   "execution_count": 1,
   "metadata": {},
   "outputs": [
    {
     "name": "stderr",
     "output_type": "stream",
     "text": [
      "Failed to detect the name of this notebook, you can set it manually with the WANDB_NOTEBOOK_NAME environment variable to enable code saving.\n",
      "\u001b[34m\u001b[1mwandb\u001b[0m: Currently logged in as: \u001b[33mmantra7\u001b[0m. Use \u001b[1m`wandb login --relogin`\u001b[0m to force relogin\n"
     ]
    }
   ],
   "source": [
    "import torch\n",
    "import torch.nn as nn\n",
    "import torch.nn.functional as F\n",
    "import torch.optim as optim\n",
    "from torch.autograd import Variable\n",
    "from torch.utils.data import Dataset, DataLoader\n",
    "from torchvision import transforms, utils\n",
    "\n",
    "# import other libraries\n",
    "import numpy as np\n",
    "import pandas as pd\n",
    "import matplotlib.pyplot as plt\n",
    "from tqdm import tqdm\n",
    "import pickle\n",
    "from typing import *\n",
    "import time\n",
    "import math\n",
    "import random\n",
    "import wandb\n",
    "wandb.login()\n",
    "\n",
    "device = torch.device(\"cuda\" if torch.cuda.is_available() else \"cpu\")"
   ]
  },
  {
   "cell_type": "code",
   "execution_count": 2,
   "metadata": {},
   "outputs": [],
   "source": [
    "# define Lang\n",
    "class Lang:\n",
    "\tdef __init__(self, wordList):\n",
    "\t\tself.char2index = {'A': 0, 'Z': 1, '_': 2, '^':3}\n",
    "\t\tself.char2count = {}\n",
    "\t\tself.index2char = {0: 'A', 1: 'Z', 2: '_', 3: '^'}\n",
    "\t\tself.n_chars = 4\n",
    "\n",
    "\t\tfor word in wordList:\n",
    "\t\t\tself.addWord(word)\n",
    "\n",
    "\tdef addWord(self, word):\n",
    "\t\tfor char in word:\n",
    "\t\t\tself.addChar(char)\n",
    "\n",
    "\tdef addChar(self, char):\n",
    "\t\tif char not in self.char2index:\n",
    "\t\t\tself.char2index[char] = self.n_chars\n",
    "\t\t\tself.char2count[char] = 1\n",
    "\t\t\tself.index2char[self.n_chars] = char\n",
    "\t\t\tself.n_chars += 1\n",
    "\t\telif char != '_' and char != '^' and char != 'A' and char != 'Z':\n",
    "\t\t\tself.char2count[char] += 1\n",
    "\n",
    "\tdef encode(self, word):\n",
    "\t\tencoded = [0] * len(word)\n",
    "\t\tfor i in range(len(word)):\n",
    "\t\t\tif word[i] in self.char2index:\n",
    "\t\t\t\tencoded[i] = self.char2index[word[i]]\n",
    "\t\t\telse:\n",
    "\t\t\t\tencoded[i] = self.char2index['^']\n",
    "\t\treturn encoded\n",
    "\t\n",
    "\tdef one_hot_encode(self, word):\n",
    "\t\tone_hot = torch.zeros(len(word), self.n_chars, device=device)\n",
    "\t\tfor i in range(len(word)):\n",
    "\t\t\tif word[i] in self.char2index:\n",
    "\t\t\t\tone_hot[i][self.char2index[word[i]]] = 1\n",
    "\t\t\telse:\n",
    "\t\t\t\tone_hot[i][self.char2index['^']] = 1\t\t\t\n",
    "\t\treturn one_hot\n",
    "\t\t\n",
    "\tdef decode(self, word):\n",
    "\t\tdecoded = ''\n",
    "\t\tfor i in range(len(word)):\n",
    "\t\t\tif word[i].argmax().item() in self.index2char:\n",
    "\t\t\t\tdecoded += self.index2char[word[i].argmax().item()]\n",
    "\t\t\telse:\n",
    "\t\t\t\tdecoded += '^'\n",
    "\t\treturn decoded\n",
    "\t\n",
    "\tdef decode_words(self, words):\n",
    "\t\tdecoded = ['']*len(words[0])\n",
    "\t\tfor i in range(len(words[0])):\n",
    "\t\t\tfor j in range(len(words)):\n",
    "\t\t\t\tif words[j][i].argmax().item() in self.index2char:\n",
    "\t\t\t\t\tdecoded[i] += self.index2char[words[j][i].argmax().item()]\n",
    "\t\t\t\telse:\n",
    "\t\t\t\t\tdecoded[i] += '^'\n",
    "\t\t \n",
    "\t\treturn decoded\n",
    "\t\n",
    "\tdef decode_one_hot(self, word):\n",
    "\t\tdecoded = ''\n",
    "\t\tfor i in range(len(word)):\n",
    "\t\t\tif word[i].argmax().item() in self.index2char:\n",
    "\t\t\t\tdecoded += self.index2char[word[i].argmax().item()]\n",
    "\t\t\telse:\n",
    "\t\t\t\tdecoded += '^'\n",
    "\t\treturn decoded"
   ]
  },
  {
   "cell_type": "code",
   "execution_count": 3,
   "metadata": {},
   "outputs": [],
   "source": [
    "def tensorFromWord(lang : Lang, word : str):\n",
    "\tindexes = lang.encode(word)\n",
    "\treturn torch.tensor(indexes, dtype=torch.long, device=device).view(-1, 1)\n",
    "\n",
    "def tensorFromWords(lang : Lang, words : List[str]):\n",
    "\ttensors = []\n",
    "\tfor word in words:\n",
    "\t\ttensors.append(tensorFromWord(lang, word))\n",
    "\treturn torch.cat(tensors, dim=1)\n",
    "\n",
    "def tensorsFromPair(pair, inp_lang : Lang, out_lang : Lang):\n",
    "\tinput_tensor = tensorFromWord(inp_lang, pair[0])\n",
    "\ttarget_tensor = tensorFromWord(out_lang, pair[1])\n",
    "\treturn (input_tensor.unsqueeze(1), target_tensor)\n",
    "\n",
    "def tensorsFromPairs(pairs, inp_lang : Lang, out_lang : Lang, batch_size):\n",
    "\ttensors_inp = []\n",
    "\ttensors_out = []\n",
    "\tfor pair in pairs:\n",
    "\t\ttensors_inp.append(tensorFromWord(inp_lang, pair[0]))\n",
    "\t\ttensors_out.append(tensorFromWord(out_lang, pair[1]))\n",
    "\treturn torch.cat(tensors_inp, dim=1).view(-1,1,batch_size), torch.cat(tensors_out, dim=1)"
   ]
  },
  {
   "cell_type": "code",
   "execution_count": 4,
   "metadata": {},
   "outputs": [],
   "source": [
    "# # create dataset\n",
    "# class AksharantarDataset(Dataset):\n",
    "# \tdef __init__(self, data, inp_lang, out_lang):\n",
    "# \t\tself.data = data\n",
    "# \t\tself.inp_lang = inp_lang\n",
    "# \t\tself.out_lang = out_lang\n",
    "\n",
    "# \tdef __len__(self):\n",
    "# \t\treturn len(self.data)\n",
    "\n",
    "# \tdef __getitem__(self, idx):\n",
    "# \t\tif torch.is_tensor(idx):\n",
    "# \t\t\tidx = idx.tolist()\n",
    "\n",
    "# \t\tinp_seq = self.inp_lang.one_hot_encode(self.data['input_seq'][idx]).unsqueeze(1)\n",
    "# \t\tout_seq = self.out_lang.one_hot_encode(self.data['target_seq'][idx]).unsqueeze(1)\n",
    "\n",
    "# \t\tsample = {'input_seq': inp_seq, 'target_seq': out_seq}\n",
    "# \t\treturn sample"
   ]
  },
  {
   "cell_type": "code",
   "execution_count": 5,
   "metadata": {},
   "outputs": [],
   "source": [
    "def DataLoader(lang : str, pad : bool = False, max_length : int = 40):\n",
    "\ttrain_data = pd.read_csv(f'aksharantar_sampled/{lang}/{lang}_train.csv')\n",
    "\ttest_data = pd.read_csv(f'aksharantar_sampled/{lang}/{lang}_test.csv')\n",
    "\tvalid_data = pd.read_csv(f'aksharantar_sampled/{lang}/{lang}_valid.csv')\n",
    "\t\n",
    "\ttrain_data.columns = ['input_seq', 'target_seq']\n",
    "\ttest_data.columns = ['input_seq', 'target_seq']\n",
    "\tvalid_data.columns = ['input_seq', 'target_seq']\n",
    "        \n",
    "\ttrain_data['input_seq'] = train_data['input_seq'].apply(lambda x: x + 'Z')\n",
    "\ttrain_data['target_seq'] = train_data['target_seq'].apply(lambda x: x + 'Z')\n",
    "\ttest_data['input_seq'] = test_data['input_seq'].apply(lambda x: x + 'Z')\n",
    "\ttest_data['target_seq'] = test_data['target_seq'].apply(lambda x: x + 'Z')\n",
    "\tvalid_data['input_seq'] = valid_data['input_seq'].apply(lambda x: x + 'Z')\n",
    "\tvalid_data['target_seq'] = valid_data['target_seq'].apply(lambda x: x + 'Z')\n",
    "\n",
    "\tif pad:\n",
    "\t\ttrain_data['input_seq'] = train_data['input_seq'].apply(lambda x: x + '_'*(max_length -1 - len(x)))\n",
    "\t\ttrain_data['target_seq'] = train_data['target_seq'].apply(lambda x: x + '_'*(max_length -1 - len(x)))\n",
    "\t\ttest_data['input_seq'] = test_data['input_seq'].apply(lambda x: x + '_'*(max_length -1 - len(x)))\n",
    "\t\ttest_data['target_seq'] = test_data['target_seq'].apply(lambda x: x + '_'*(max_length -1 - len(x)))\n",
    "\t\tvalid_data['input_seq'] = valid_data['input_seq'].apply(lambda x: x + '_'*(max_length -1 - len(x)))\n",
    "\t\tvalid_data['target_seq'] = valid_data['target_seq'].apply(lambda x: x + '_'*(max_length -1 - len(x)))\n",
    "\n",
    "\treturn train_data, test_data, valid_data\n",
    "\n",
    "def asMinutes(s):\n",
    "    m = math.floor(s / 60)\n",
    "    s -= m * 60\n",
    "    return '%dm %ds' % (m, s)\n",
    "\n",
    "def timeSince(since, percent):\n",
    "    now = time.time()\n",
    "    s = now - since\n",
    "    es = s / (percent)\n",
    "    rs = es - s\n",
    "    return '%s (- %s)' % (asMinutes(s), asMinutes(rs))"
   ]
  },
  {
   "cell_type": "code",
   "execution_count": 6,
   "metadata": {},
   "outputs": [],
   "source": [
    "def get_cell(str):\n",
    "\tif str == 'lstm':\n",
    "\t\treturn nn.LSTM\n",
    "\telif str == 'gru':\n",
    "\t\treturn nn.GRU\n",
    "\telif str == 'rnn':\n",
    "\t\treturn nn.RNN\n",
    "\telse:\n",
    "\t\traise ValueError('Invalid cell type')"
   ]
  },
  {
   "cell_type": "code",
   "execution_count": 7,
   "metadata": {},
   "outputs": [],
   "source": [
    "class EncoderRNN(nn.Module):\n",
    "\tdef __init__(self, input_size, embed_size, hidden_size, n_layers=1, type='gru', dropout=0.2, batch_size=1):\n",
    "\t\tsuper(EncoderRNN, self).__init__()\n",
    "\t\tself.hidden_size = hidden_size\n",
    "\t\tself.n_layers = n_layers\n",
    "\t\tself.type_t = type\n",
    "\t\tself.batch_size = batch_size\n",
    "\n",
    "\t\tself.embedding = nn.Embedding(input_size, embed_size)\n",
    "\t\tself.cell = get_cell(type)(embed_size, hidden_size, n_layers, dropout=dropout)\n",
    "\n",
    "\tdef forward(self, input, hidden):\n",
    "\t\tembedded = self.embedding(input)\n",
    "\t\toutput = embedded\n",
    "\t\toutput, hidden = self.cell(output, hidden)\n",
    "\t\treturn output, hidden\n",
    "\n",
    "\tdef initHidden(self, is_batch=True):\n",
    "\t\tif is_batch:\n",
    "\t\t\tif self.type_t == 'lstm':\n",
    "\t\t\t\treturn torch.zeros(self.n_layers, self.batch_size, self.hidden_size, device=device), torch.zeros(self.n_layers, self.batch_size, self.hidden_size, device=device)\n",
    "\t\t\telse:\n",
    "\t\t\t\treturn torch.zeros(self.n_layers, self.batch_size, self.hidden_size, device=device)\n",
    "\t\telse:\n",
    "\t\t\tif self.type_t == 'lstm':\n",
    "\t\t\t\treturn torch.zeros(self.n_layers, 1, self.hidden_size, device=device), torch.zeros(self.n_layers, 1, self.hidden_size, device=device)\n",
    "\t\t\telse:\n",
    "\t\t\t\treturn torch.zeros(self.n_layers, 1, self.hidden_size, device=device)\n",
    "\t\n",
    "class DecoderRNN(nn.Module):\n",
    "\tdef __init__(self, hidden_size, output_size, n_layers=1, type='gru', dropout=0.2, batch_size=1):\n",
    "\t\tsuper(DecoderRNN, self).__init__()\n",
    "\t\tself.hidden_size = hidden_size\n",
    "\t\tself.n_layers = n_layers\n",
    "\t\tself.type_t = type\n",
    "\t\tself.batch_size = batch_size\n",
    "\n",
    "\t\tself.embedding = nn.Embedding(output_size, hidden_size)\n",
    "\t\tself.cell = get_cell(type)(hidden_size, hidden_size, n_layers, dropout=dropout)\n",
    "\t\tself.out = nn.Linear(hidden_size, output_size)\n",
    "\t\tself.softmax = nn.LogSoftmax(dim=1)\n",
    "\n",
    "\tdef forward(self, input, hidden, is_batch=True):\n",
    "\t\tif is_batch:\n",
    "\t\t\toutput = self.embedding(input).view(1, self.batch_size, -1)\n",
    "\t\telse:\n",
    "\t\t\toutput = self.embedding(input).view(1, 1, -1)\n",
    "\t\toutput = F.relu(output)\n",
    "\t\toutput, hidden = self.cell(output, hidden)\n",
    "\t\toutput = self.softmax(self.out(output[0]))\n",
    "\t\treturn output, hidden\n",
    "\n",
    "\tdef initHidden(self):\n",
    "\t\tif self.type_t == 'lstm':\n",
    "\t\t\treturn torch.zeros(self.n_layers, self.batch_size, self.hidden_size, device=device), torch.zeros(self.n_layers, self.batch_size, self.hidden_size, device=device)\n",
    "\t\telse:\n",
    "\t\t\treturn torch.zeros(self.n_layers, self.batch_size, self.hidden_size, device=device)\n"
   ]
  },
  {
   "cell_type": "code",
   "execution_count": 14,
   "metadata": {},
   "outputs": [],
   "source": [
    "class Seq2Seq(nn.Module):\n",
    "\tdef __init__(self, input_size, hidden_size, embed_size, output_size, n_layers=1, type='gru', dropout=0.2, batch_size=1):\n",
    "\t\tsuper(Seq2Seq, self).__init__()\n",
    "\t\tself.input_size = input_size\n",
    "\t\tself.hidden_size = hidden_size\n",
    "\t\tself.output_size = output_size\n",
    "\t\tself.n_layers = n_layers\n",
    "\t\tself.batch_size = batch_size\n",
    "\n",
    "\t\tself.encoder = EncoderRNN(input_size, embed_size, hidden_size, n_layers, type, dropout, batch_size).to(device)\n",
    "\t\tself.decoder = DecoderRNN(hidden_size, output_size, n_layers, type, dropout, batch_size).to(device)\n",
    "\n",
    "\tdef forward(self, input_tensor, target_tensor, max_length=50):\n",
    "\t\tencoder_hidden = self.encoder.initHidden()\n",
    "\n",
    "\t\tinput_length = input_tensor.size(0)\n",
    "\t\ttarget_length = target_tensor.size(0)\n",
    "\n",
    "\t\tencoder_outputs = torch.zeros(max_length, self.encoder.hidden_size, device=device)\n",
    "\n",
    "\t\tfor ei in range(input_length):\n",
    "\t\t\tencoder_output, encoder_hidden = self.encoder(\n",
    "\t\t\t\tinput_tensor[ei], encoder_hidden)\n",
    "\t\t\tencoder_outputs[ei] = encoder_output[0, 0]\n",
    "\n",
    "\t\tlst = []\n",
    "\t\tfor i in range(self.batch_size):\n",
    "\t\t\tlst.append([0])\n",
    "\t\tdecoder_input = torch.tensor(lst, device=device)  # SOS\n",
    "\n",
    "\t\tdecoder_hidden = encoder_hidden\n",
    "\t\tuse_teacher_forcing = True if random.random() < 0.5 else False\n",
    "\n",
    "\t\tdecoder_outputs = []\n",
    "\t\tif use_teacher_forcing:\n",
    "\t\t\t# Teacher forcing: Feed the target as the next input\n",
    "\t\t\tfor di in range(target_length):\n",
    "\t\t\t\tdecoder_output, decoder_hidden = self.decoder(\n",
    "\t\t\t\t\tdecoder_input, decoder_hidden)\n",
    "\t\t\t\tdecoder_outputs.append(decoder_output)\n",
    "\t\t\t\tdecoder_input = target_tensor[di]  # Teacher forcing\n",
    "\t\telse:\n",
    "\t\t\t# Without teacher forcing: use its own predictions as the next input\n",
    "\t\t\tfor di in range(target_length):\n",
    "\t\t\t\tdecoder_output, decoder_hidden = self.decoder(\n",
    "\t\t\t\t\tdecoder_input, decoder_hidden)\n",
    "\t\t\t\tdecoder_outputs.append(decoder_output)\n",
    "\t\t\t\ttopv, topi = decoder_output.topk(1)\n",
    "\t\t\t\tdecoder_input = topi.squeeze().detach()  # detach from history as input\n",
    "\t\t\t\tif self.batch_size == 1:\n",
    "\t\t\t\t\tif topi == 1:\n",
    "\t\t\t\t\t\tbreak\n",
    "\n",
    "\t\treturn decoder_outputs\n",
    "\n",
    "\tdef predict(self, input_tensor, max_length = 50):\n",
    "\t\tencoder_hidden = self.encoder.initHidden(False)\n",
    "\n",
    "\t\tinput_length = input_tensor.size(0)\n",
    "\n",
    "\t\tencoder_outputs = torch.zeros(max_length, self.encoder.hidden_size, device=device)\n",
    "\n",
    "\t\tfor ei in range(input_length):\n",
    "\t\t\tencoder_output, encoder_hidden = self.encoder(\n",
    "\t\t\t\tinput_tensor[ei], encoder_hidden)\n",
    "\t\t\tencoder_outputs[ei] = encoder_output[0, 0]\n",
    "\n",
    "\t\tdecoder_input = torch.tensor([[0]], device=device)  # SOS\n",
    "\n",
    "\t\tdecoder_outputs = []\n",
    "\n",
    "\t\tdecoder_hidden = encoder_hidden\n",
    "\t\tfor di in range(max_length):\n",
    "\t\t\tdecoder_output, decoder_hidden = self.decoder(\n",
    "\t\t\t\tdecoder_input, decoder_hidden, False)\n",
    "\t\t\ttopv, topi = decoder_output.data.topk(1)\n",
    "\t\t\tif topi == 1:\n",
    "\t\t\t\tbreak\n",
    "\t\t\tdecoder_outputs.append(decoder_output)\n",
    "\t\t\tdecoder_input = topi.squeeze().detach()\n",
    "\t\t\n",
    "\t\treturn decoder_outputs"
   ]
  },
  {
   "cell_type": "code",
   "execution_count": 15,
   "metadata": {},
   "outputs": [],
   "source": [
    "class Translator:\n",
    "\tdef __init__(self, lang, embed_size=10, hidden_size=10, n_layers=1, max_length=50, type='gru', dropout=0.2, batch_size=1):\n",
    "\t\tif batch_size != 1:\n",
    "\t\t\tself.train_data, self.test_data, self.valid_data = DataLoader(lang, pad = True, max_length = max_length)\n",
    "\t\telse:\n",
    "\t\t\tself.train_data, self.test_data, self.valid_data = DataLoader(lang, pad = False, max_length = max_length)\n",
    "\n",
    "\t\tself.inp_lang = Lang(self.train_data['input_seq'])\n",
    "\t\tself.out_lang = Lang(self.train_data['target_seq'])\n",
    "\t\tself.batch_size = batch_size\n",
    "\n",
    "\t\tself.model = Seq2Seq(self.inp_lang.n_chars, hidden_size, embed_size, self.out_lang.n_chars, n_layers, type, dropout, batch_size)\n",
    "\t\tself.criterion = nn.NLLLoss()\n",
    "\t\tself.max_length = max_length\n",
    "\t\tself.encoder_optim = optim.SGD(self.model.encoder.parameters(), lr=0.001)\n",
    "\t\tself.decoder_optim = optim.SGD(self.model.decoder.parameters(), lr=0.001)\n",
    "\n",
    "\t\tps = [(self.train_data['input_seq'][i], self.train_data['target_seq'][i]) for i in range(len(self.train_data))]\n",
    "\t\tleft = len(ps) % batch_size\n",
    "\t\tif left != 0:\n",
    "\t\t\tps = ps[:-left]\n",
    "\t\tself.pairs = [tensorsFromPairs(ps[x:x+batch_size], self.inp_lang, self.out_lang, self.batch_size) for x in range(0, len(ps), batch_size)]\n",
    "\n",
    "\tdef trainOne(self, input_tensor, target_tensor):\n",
    "\t\tself.encoder_optim.zero_grad()\n",
    "\t\tself.decoder_optim.zero_grad()\n",
    "\n",
    "\t\tdecoder_outputs = self.model.forward(input_tensor, target_tensor, self.max_length)\n",
    "\n",
    "\t\tloss = 0\n",
    "\t\tfor di in range(len(decoder_outputs)):\n",
    "\t\t\tloss += self.criterion(decoder_outputs[di], target_tensor[di])\n",
    "\t\tloss.backward()\n",
    "\n",
    "\t\tself.encoder_optim.step()\n",
    "\t\tself.decoder_optim.step()\n",
    "\n",
    "\t\treturn loss.item() / target_tensor.size(0)\n",
    "\n",
    "\tdef train(self,epoch=1, n_iters=10000, print_every=1000, plot_every=100, learning_rate=0.01, rand=False, dumpName='model'):\n",
    "\t\tself.encoder_optim = optim.SGD(self.model.encoder.parameters(), lr=learning_rate)\n",
    "\t\tself.decoder_optim = optim.SGD(self.model.decoder.parameters(), lr=learning_rate)\n",
    "\n",
    "\t\tstart = time.time()\n",
    "\t\ttrain_loss = []\n",
    "\t\ttrain_acc = []\n",
    "\t\tvalid_loss = []\n",
    "\t\tvalid_acc = []\n",
    "\n",
    "\t\tfor i in range(epoch):\n",
    "\t\t\tprint_loss_total = 0\n",
    "\t\t\ttot_loss = 0\n",
    "\t\t\tprint(\"Epoch: \", i)\n",
    "\t\t\tif rand:\n",
    "\t\t\t\ttraining_pairs = [random.choice(self.pairs) for i in range(n_iters)]\n",
    "\t\t\telse:\n",
    "\t\t\t\ttraining_pairs = self.pairs\n",
    "\n",
    "\t\t\tfor iter in tqdm(range(1, len(training_pairs) + 1)):\n",
    "\t\t\t\ttraining_pair = training_pairs[iter - 1]\n",
    "\t\t\t\tinput_tensor = training_pair[0]\n",
    "\t\t\t\ttarget_tensor = training_pair[1]\n",
    "\n",
    "\t\t\t\tloss = self.trainOne(input_tensor, target_tensor)\n",
    "\t\t\t\tprint_loss_total += loss\n",
    "\t\t\t\ttot_loss += loss\n",
    "\n",
    "\t\t\t\tif iter % print_every == 0:\n",
    "\t\t\t\t\tprint_loss_avg = print_loss_total / print_every\n",
    "\t\t\t\t\tprint_loss_total = 0\n",
    "\t\t\t\t\tprint('%s (%d %d%%) %.4f' % (timeSince(start, iter / n_iters),\n",
    "\t\t\t\t\t\t\t\t\t\t\t\titer, iter / n_iters * 100, print_loss_avg))\n",
    "\t\t\ttrain_loss.append(tot_loss / len(training_pairs))\n",
    "\t\t\ttrain_acc.append(self.accuracy(self.train_data))\n",
    "\t\t\tvalid_stats = self.calculate_stats(self.valid_data)\n",
    "\t\t\tvalid_loss.append(valid_stats[0])\n",
    "\t\t\tvalid_acc.append(valid_stats[1])\n",
    "\t\t\tpickle.dump(self, open(dumpName + '_'+str(i) + '.pkl', 'wb'))\n",
    "\t\treturn train_loss, train_acc, valid_loss, valid_acc\n",
    "\n",
    "\tdef accuracy(self, data):\n",
    "\t\twith torch.no_grad():\n",
    "\t\t\tacc = 0\n",
    "\t\t\tif len(data) % self.batch_size != 0:\n",
    "\t\t\t\tdata = data[:-(len(data) % self.batch_size)]\n",
    "\t\t\tfor i in range(0, len(data), self.batch_size):\n",
    "\t\t\t\ttensors = tensorsFromPairs([(data['input_seq'][j], data['target_seq'][j]) for j in range(i, i + self.batch_size)], self.inp_lang, self.out_lang, self.batch_size)\n",
    "\t\t\t\toutputs = self.model.forward(tensors[0], tensors[1], self.max_length)\n",
    "\t\t\t\twords = self.out_lang.decode_words(outputs)\n",
    "\t\t\t\tacc += np.sum([words[j] == data['target_seq'][i + j] for j in range(self.batch_size)])\n",
    "\t\t\treturn acc / len(data)\n",
    "\n",
    "\tdef calculate_stats(self, data):\n",
    "\t\twith torch.no_grad():\n",
    "\t\t\tloss = 0\n",
    "\t\t\tacc = 0\n",
    "\t\t\tif len(data) % self.batch_size != 0:\n",
    "\t\t\t\tdata = data[:-(len(data) % self.batch_size)]\n",
    "\t\t\tfor i in range(0, len(data), self.batch_size):\n",
    "\t\t\t\ttensors = tensorsFromPairs([(data['input_seq'][j], data['target_seq'][j]) for j in range(i, i + self.batch_size)], self.inp_lang, self.out_lang, self.batch_size)\n",
    "\t\t\t\toutputs = self.model.forward(tensors[0], tensors[1], self.max_length)\n",
    "\t\t\t\tloss += np.sum([self.criterion(outputs[di], tensors[1][di]) / len(outputs) for di in range(len(outputs))])\n",
    "\t\t\t\twords = self.out_lang.decode_words(outputs)\n",
    "\t\t\t\tacc += np.sum([words[j] == data['target_seq'][i + j] for j in range(self.batch_size)])\n",
    "\t\t\treturn loss.item() / len(data), acc / len(data)\n",
    "\t\n",
    "\tdef translate(self, word):\n",
    "\t\twith torch.no_grad():\n",
    "\t\t\ttensor = tensorFromWord(self.inp_lang, word).unsqueeze(1)\n",
    "\t\t\touts = self.model.predict(tensor, self.max_length)\n",
    "\t\t\treturn self.out_lang.decode(outs)"
   ]
  },
  {
   "cell_type": "code",
   "execution_count": 16,
   "metadata": {},
   "outputs": [],
   "source": [
    "sweep_configuration_new = {\n",
    "\t'method': 'random',\n",
    "\t'metric': {'goal': 'maximize', 'name': 'val_accuracy'},\n",
    "\t'parameters': \n",
    "\t{\n",
    "\t\t'epochs' : {'values': [10]},\n",
    "\t\t'lr' : {'values': [0.001, 0.005]},\n",
    "\t\t'hidden_size' : {'values': [64, 128, 256]},\n",
    "        'embed_size' : {'values': [32, 64]},\n",
    "        'n_layers' : {'values': [1]},\n",
    "        'type' : {'values': ['gru']},\n",
    "        'dropout' : {'values': [0, 0.2, 0.3]}\n",
    "\t}\n",
    "}"
   ]
  },
  {
   "cell_type": "code",
   "execution_count": 17,
   "metadata": {},
   "outputs": [],
   "source": [
    "# f = open('configs', 'w')\n",
    "# count = 0\n",
    "\n",
    "# def get_name(config):\n",
    "# \tglobal count\n",
    "# \tcount += 1\n",
    "# \tf.write(str(count) + '_' + str(config) + '\\n')\n",
    "# \tf.flush()\n",
    "# \treturn 'lr'+str(config['lr'])+'_hidden_size'+str(config['hidden_size'])+'_embed_size'+str(config['embed_size'])+'_n_layers'+str(config['n_layers'])+'_type'+str(config['type'])+'_dropout'+str(config['dropout'])\n",
    "\n",
    "# # 1: Define objective/training function\n",
    "# def objective(config):\n",
    "# \ttranslator = Translator('guj', hidden_size=config.hidden_size, embed_size=config.embed_size, n_layers=config.n_layers, type=config.type, dropout=config.dropout)\n",
    "# \tdump = 'trans'+'_'+str(config.hidden_size)+'_'+str(config.embed_size)+'_'+str(config.n_layers)+'_'+str(config.type)+'_'+str(config.dropout)\n",
    "# \ttrain_loss, train_acc, valid_loss, valid_acc = translator.train(epoch=config.epochs, print_every=10000, learning_rate=config.lr, dumpName=dump)\n",
    "\n",
    "# \tfor i in range(config.epochs):\n",
    "# \t\twandb.log({'train_loss': train_loss[i], 'train_accuracy': train_acc[i], 'val_loss': valid_loss[i], 'val_accuracy': valid_acc[i]})\n",
    "\n",
    "# def main():\n",
    "# \trun = wandb.init(project='rnn-first-proj')\n",
    "# \tobjective(wandb.config)\n",
    "# \trun.name = get_name(wandb.config)\n",
    "# \trun.finish()\n",
    "\n",
    "# # 2: Define the search space\n",
    "# sweep_configuration = sweep_configuration_new\n",
    "\n",
    "# # 3: Start the sweep\n",
    "# sweep_id = wandb.sweep(sweep=sweep_configuration, project='rnn-first-proj')\n",
    "# wandb.agent(sweep_id, function=main, count=10)\n",
    "\n",
    "# f.close()"
   ]
  },
  {
   "cell_type": "code",
   "execution_count": 19,
   "metadata": {},
   "outputs": [
    {
     "name": "stdout",
     "output_type": "stream",
     "text": [
      "Epoch:  0\n"
     ]
    },
    {
     "name": "stderr",
     "output_type": "stream",
     "text": [
      "  3%|▎         | 25/799 [00:11<06:27,  2.00it/s]"
     ]
    },
    {
     "name": "stdout",
     "output_type": "stream",
     "text": [
      "0m 11s (- 78m 26s) (25 0%) 2.6735\n"
     ]
    },
    {
     "name": "stderr",
     "output_type": "stream",
     "text": [
      "  6%|▋         | 50/799 [00:24<05:56,  2.10it/s]"
     ]
    },
    {
     "name": "stdout",
     "output_type": "stream",
     "text": [
      "0m 24s (- 80m 46s) (50 0%) 1.2860\n"
     ]
    },
    {
     "name": "stderr",
     "output_type": "stream",
     "text": [
      "  9%|▉         | 75/799 [00:37<06:22,  1.89it/s]"
     ]
    },
    {
     "name": "stdout",
     "output_type": "stream",
     "text": [
      "0m 37s (- 82m 55s) (75 0%) 1.2669\n"
     ]
    },
    {
     "name": "stderr",
     "output_type": "stream",
     "text": [
      " 13%|█▎        | 100/799 [00:49<05:39,  2.06it/s]"
     ]
    },
    {
     "name": "stdout",
     "output_type": "stream",
     "text": [
      "0m 49s (- 82m 19s) (100 1%) 1.2188\n"
     ]
    },
    {
     "name": "stderr",
     "output_type": "stream",
     "text": [
      " 16%|█▌        | 125/799 [01:02<05:46,  1.95it/s]"
     ]
    },
    {
     "name": "stdout",
     "output_type": "stream",
     "text": [
      "1m 2s (- 82m 17s) (125 1%) 1.2059\n"
     ]
    },
    {
     "name": "stderr",
     "output_type": "stream",
     "text": [
      " 19%|█▉        | 150/799 [01:14<05:12,  2.08it/s]"
     ]
    },
    {
     "name": "stdout",
     "output_type": "stream",
     "text": [
      "1m 14s (- 81m 49s) (150 1%) 1.1832\n"
     ]
    },
    {
     "name": "stderr",
     "output_type": "stream",
     "text": [
      " 22%|██▏       | 175/799 [01:27<05:04,  2.05it/s]"
     ]
    },
    {
     "name": "stdout",
     "output_type": "stream",
     "text": [
      "1m 27s (- 81m 49s) (175 1%) 1.1583\n"
     ]
    },
    {
     "name": "stderr",
     "output_type": "stream",
     "text": [
      " 25%|██▌       | 200/799 [01:40<05:19,  1.88it/s]"
     ]
    },
    {
     "name": "stdout",
     "output_type": "stream",
     "text": [
      "1m 40s (- 81m 46s) (200 2%) 1.0938\n"
     ]
    },
    {
     "name": "stderr",
     "output_type": "stream",
     "text": [
      " 28%|██▊       | 225/799 [01:52<04:47,  2.00it/s]"
     ]
    },
    {
     "name": "stdout",
     "output_type": "stream",
     "text": [
      "1m 52s (- 81m 32s) (225 2%) 1.0819\n"
     ]
    },
    {
     "name": "stderr",
     "output_type": "stream",
     "text": [
      " 31%|███▏      | 250/799 [02:05<04:48,  1.91it/s]"
     ]
    },
    {
     "name": "stdout",
     "output_type": "stream",
     "text": [
      "2m 5s (- 81m 36s) (250 2%) 1.0786\n"
     ]
    },
    {
     "name": "stderr",
     "output_type": "stream",
     "text": [
      " 34%|███▍      | 275/799 [02:18<05:04,  1.72it/s]"
     ]
    },
    {
     "name": "stdout",
     "output_type": "stream",
     "text": [
      "2m 18s (- 81m 33s) (275 2%) 1.0531\n"
     ]
    },
    {
     "name": "stderr",
     "output_type": "stream",
     "text": [
      " 38%|███▊      | 300/799 [02:32<05:11,  1.60it/s]"
     ]
    },
    {
     "name": "stdout",
     "output_type": "stream",
     "text": [
      "2m 32s (- 82m 12s) (300 3%) 1.0307\n"
     ]
    },
    {
     "name": "stderr",
     "output_type": "stream",
     "text": [
      " 41%|████      | 325/799 [02:45<03:56,  2.00it/s]"
     ]
    },
    {
     "name": "stdout",
     "output_type": "stream",
     "text": [
      "2m 45s (- 82m 15s) (325 3%) 1.0204\n"
     ]
    },
    {
     "name": "stderr",
     "output_type": "stream",
     "text": [
      " 44%|████▍     | 350/799 [03:01<05:20,  1.40it/s]"
     ]
    },
    {
     "name": "stdout",
     "output_type": "stream",
     "text": [
      "3m 1s (- 83m 15s) (350 3%) 1.0182\n"
     ]
    },
    {
     "name": "stderr",
     "output_type": "stream",
     "text": [
      " 47%|████▋     | 375/799 [03:17<04:18,  1.64it/s]"
     ]
    },
    {
     "name": "stdout",
     "output_type": "stream",
     "text": [
      "3m 17s (- 84m 24s) (375 3%) 1.0078\n"
     ]
    },
    {
     "name": "stderr",
     "output_type": "stream",
     "text": [
      " 50%|█████     | 400/799 [03:33<04:12,  1.58it/s]"
     ]
    },
    {
     "name": "stdout",
     "output_type": "stream",
     "text": [
      "3m 33s (- 85m 24s) (400 4%) 1.0107\n"
     ]
    },
    {
     "name": "stderr",
     "output_type": "stream",
     "text": [
      " 53%|█████▎    | 425/799 [03:49<03:33,  1.75it/s]"
     ]
    },
    {
     "name": "stdout",
     "output_type": "stream",
     "text": [
      "3m 49s (- 86m 5s) (425 4%) 1.0092\n"
     ]
    },
    {
     "name": "stderr",
     "output_type": "stream",
     "text": [
      " 56%|█████▋    | 450/799 [04:04<03:36,  1.61it/s]"
     ]
    },
    {
     "name": "stdout",
     "output_type": "stream",
     "text": [
      "4m 4s (- 86m 34s) (450 4%) 0.9948\n"
     ]
    },
    {
     "name": "stderr",
     "output_type": "stream",
     "text": [
      " 59%|█████▉    | 475/799 [04:19<03:18,  1.63it/s]"
     ]
    },
    {
     "name": "stdout",
     "output_type": "stream",
     "text": [
      "4m 19s (- 86m 46s) (475 4%) 0.9895\n"
     ]
    },
    {
     "name": "stderr",
     "output_type": "stream",
     "text": [
      " 63%|██████▎   | 500/799 [04:36<03:36,  1.38it/s]"
     ]
    },
    {
     "name": "stdout",
     "output_type": "stream",
     "text": [
      "4m 36s (- 87m 24s) (500 5%) 0.9831\n"
     ]
    },
    {
     "name": "stderr",
     "output_type": "stream",
     "text": [
      " 66%|██████▌   | 525/799 [04:52<02:49,  1.61it/s]"
     ]
    },
    {
     "name": "stdout",
     "output_type": "stream",
     "text": [
      "4m 52s (- 88m 6s) (525 5%) 0.9776\n"
     ]
    },
    {
     "name": "stderr",
     "output_type": "stream",
     "text": [
      " 66%|██████▌   | 525/799 [04:53<02:33,  1.79it/s]\n"
     ]
    },
    {
     "ename": "KeyboardInterrupt",
     "evalue": "",
     "output_type": "error",
     "traceback": [
      "\u001b[0;31m---------------------------------------------------------------------------\u001b[0m",
      "\u001b[0;31mKeyboardInterrupt\u001b[0m                         Traceback (most recent call last)",
      "\u001b[1;32m/home/mantra7/Desktop/Mantra/Sem6/CS6910/CS6910-Assignment3/A3.ipynb Cell 12\u001b[0m in \u001b[0;36m<cell line: 2>\u001b[0;34m()\u001b[0m\n\u001b[1;32m      <a href='vscode-notebook-cell:/home/mantra7/Desktop/Mantra/Sem6/CS6910/CS6910-Assignment3/A3.ipynb#X14sZmlsZQ%3D%3D?line=0'>1</a>\u001b[0m trans \u001b[39m=\u001b[39m Translator(\u001b[39m'\u001b[39m\u001b[39mguj\u001b[39m\u001b[39m'\u001b[39m, hidden_size\u001b[39m=\u001b[39m\u001b[39m256\u001b[39m, embed_size\u001b[39m=\u001b[39m\u001b[39m16\u001b[39m, n_layers\u001b[39m=\u001b[39m\u001b[39m2\u001b[39m, \u001b[39mtype\u001b[39m\u001b[39m=\u001b[39m\u001b[39m'\u001b[39m\u001b[39mlstm\u001b[39m\u001b[39m'\u001b[39m, dropout\u001b[39m=\u001b[39m\u001b[39m0.2\u001b[39m, batch_size\u001b[39m=\u001b[39m\u001b[39m64\u001b[39m, max_length\u001b[39m=\u001b[39m\u001b[39m40\u001b[39m)\n\u001b[0;32m----> <a href='vscode-notebook-cell:/home/mantra7/Desktop/Mantra/Sem6/CS6910/CS6910-Assignment3/A3.ipynb#X14sZmlsZQ%3D%3D?line=1'>2</a>\u001b[0m trans\u001b[39m.\u001b[39;49mtrain(epoch\u001b[39m=\u001b[39;49m\u001b[39m10\u001b[39;49m, print_every\u001b[39m=\u001b[39;49m\u001b[39m25\u001b[39;49m, learning_rate\u001b[39m=\u001b[39;49m\u001b[39m0.001\u001b[39;49m)\n",
      "\u001b[1;32m/home/mantra7/Desktop/Mantra/Sem6/CS6910/CS6910-Assignment3/A3.ipynb Cell 12\u001b[0m in \u001b[0;36mTranslator.train\u001b[0;34m(self, epoch, n_iters, print_every, plot_every, learning_rate, rand, dumpName)\u001b[0m\n\u001b[1;32m     <a href='vscode-notebook-cell:/home/mantra7/Desktop/Mantra/Sem6/CS6910/CS6910-Assignment3/A3.ipynb#X14sZmlsZQ%3D%3D?line=60'>61</a>\u001b[0m input_tensor \u001b[39m=\u001b[39m training_pair[\u001b[39m0\u001b[39m]\n\u001b[1;32m     <a href='vscode-notebook-cell:/home/mantra7/Desktop/Mantra/Sem6/CS6910/CS6910-Assignment3/A3.ipynb#X14sZmlsZQ%3D%3D?line=61'>62</a>\u001b[0m target_tensor \u001b[39m=\u001b[39m training_pair[\u001b[39m1\u001b[39m]\n\u001b[0;32m---> <a href='vscode-notebook-cell:/home/mantra7/Desktop/Mantra/Sem6/CS6910/CS6910-Assignment3/A3.ipynb#X14sZmlsZQ%3D%3D?line=63'>64</a>\u001b[0m loss \u001b[39m=\u001b[39m \u001b[39mself\u001b[39;49m\u001b[39m.\u001b[39;49mtrainOne(input_tensor, target_tensor)\n\u001b[1;32m     <a href='vscode-notebook-cell:/home/mantra7/Desktop/Mantra/Sem6/CS6910/CS6910-Assignment3/A3.ipynb#X14sZmlsZQ%3D%3D?line=64'>65</a>\u001b[0m print_loss_total \u001b[39m+\u001b[39m\u001b[39m=\u001b[39m loss\n\u001b[1;32m     <a href='vscode-notebook-cell:/home/mantra7/Desktop/Mantra/Sem6/CS6910/CS6910-Assignment3/A3.ipynb#X14sZmlsZQ%3D%3D?line=65'>66</a>\u001b[0m tot_loss \u001b[39m+\u001b[39m\u001b[39m=\u001b[39m loss\n",
      "\u001b[1;32m/home/mantra7/Desktop/Mantra/Sem6/CS6910/CS6910-Assignment3/A3.ipynb Cell 12\u001b[0m in \u001b[0;36mTranslator.trainOne\u001b[0;34m(self, input_tensor, target_tensor)\u001b[0m\n\u001b[1;32m     <a href='vscode-notebook-cell:/home/mantra7/Desktop/Mantra/Sem6/CS6910/CS6910-Assignment3/A3.ipynb#X14sZmlsZQ%3D%3D?line=30'>31</a>\u001b[0m \u001b[39mfor\u001b[39;00m di \u001b[39min\u001b[39;00m \u001b[39mrange\u001b[39m(\u001b[39mlen\u001b[39m(decoder_outputs)):\n\u001b[1;32m     <a href='vscode-notebook-cell:/home/mantra7/Desktop/Mantra/Sem6/CS6910/CS6910-Assignment3/A3.ipynb#X14sZmlsZQ%3D%3D?line=31'>32</a>\u001b[0m \tloss \u001b[39m+\u001b[39m\u001b[39m=\u001b[39m \u001b[39mself\u001b[39m\u001b[39m.\u001b[39mcriterion(decoder_outputs[di], target_tensor[di])\n\u001b[0;32m---> <a href='vscode-notebook-cell:/home/mantra7/Desktop/Mantra/Sem6/CS6910/CS6910-Assignment3/A3.ipynb#X14sZmlsZQ%3D%3D?line=32'>33</a>\u001b[0m loss\u001b[39m.\u001b[39;49mbackward()\n\u001b[1;32m     <a href='vscode-notebook-cell:/home/mantra7/Desktop/Mantra/Sem6/CS6910/CS6910-Assignment3/A3.ipynb#X14sZmlsZQ%3D%3D?line=34'>35</a>\u001b[0m \u001b[39mself\u001b[39m\u001b[39m.\u001b[39mencoder_optim\u001b[39m.\u001b[39mstep()\n\u001b[1;32m     <a href='vscode-notebook-cell:/home/mantra7/Desktop/Mantra/Sem6/CS6910/CS6910-Assignment3/A3.ipynb#X14sZmlsZQ%3D%3D?line=35'>36</a>\u001b[0m \u001b[39mself\u001b[39m\u001b[39m.\u001b[39mdecoder_optim\u001b[39m.\u001b[39mstep()\n",
      "File \u001b[0;32m~/.local/lib/python3.10/site-packages/torch/_tensor.py:487\u001b[0m, in \u001b[0;36mTensor.backward\u001b[0;34m(self, gradient, retain_graph, create_graph, inputs)\u001b[0m\n\u001b[1;32m    477\u001b[0m \u001b[39mif\u001b[39;00m has_torch_function_unary(\u001b[39mself\u001b[39m):\n\u001b[1;32m    478\u001b[0m     \u001b[39mreturn\u001b[39;00m handle_torch_function(\n\u001b[1;32m    479\u001b[0m         Tensor\u001b[39m.\u001b[39mbackward,\n\u001b[1;32m    480\u001b[0m         (\u001b[39mself\u001b[39m,),\n\u001b[0;32m   (...)\u001b[0m\n\u001b[1;32m    485\u001b[0m         inputs\u001b[39m=\u001b[39minputs,\n\u001b[1;32m    486\u001b[0m     )\n\u001b[0;32m--> 487\u001b[0m torch\u001b[39m.\u001b[39;49mautograd\u001b[39m.\u001b[39;49mbackward(\n\u001b[1;32m    488\u001b[0m     \u001b[39mself\u001b[39;49m, gradient, retain_graph, create_graph, inputs\u001b[39m=\u001b[39;49minputs\n\u001b[1;32m    489\u001b[0m )\n",
      "File \u001b[0;32m~/.local/lib/python3.10/site-packages/torch/autograd/__init__.py:200\u001b[0m, in \u001b[0;36mbackward\u001b[0;34m(tensors, grad_tensors, retain_graph, create_graph, grad_variables, inputs)\u001b[0m\n\u001b[1;32m    195\u001b[0m     retain_graph \u001b[39m=\u001b[39m create_graph\n\u001b[1;32m    197\u001b[0m \u001b[39m# The reason we repeat same the comment below is that\u001b[39;00m\n\u001b[1;32m    198\u001b[0m \u001b[39m# some Python versions print out the first line of a multi-line function\u001b[39;00m\n\u001b[1;32m    199\u001b[0m \u001b[39m# calls in the traceback and some print out the last line\u001b[39;00m\n\u001b[0;32m--> 200\u001b[0m Variable\u001b[39m.\u001b[39;49m_execution_engine\u001b[39m.\u001b[39;49mrun_backward(  \u001b[39m# Calls into the C++ engine to run the backward pass\u001b[39;49;00m\n\u001b[1;32m    201\u001b[0m     tensors, grad_tensors_, retain_graph, create_graph, inputs,\n\u001b[1;32m    202\u001b[0m     allow_unreachable\u001b[39m=\u001b[39;49m\u001b[39mTrue\u001b[39;49;00m, accumulate_grad\u001b[39m=\u001b[39;49m\u001b[39mTrue\u001b[39;49;00m)\n",
      "\u001b[0;31mKeyboardInterrupt\u001b[0m: "
     ]
    }
   ],
   "source": [
    "trans = Translator('guj', hidden_size=256, embed_size=16, n_layers=2, type='lstm', dropout=0.2, batch_size=64, max_length=40)\n",
    "trans.train(epoch=10, print_every=25, learning_rate=0.001)"
   ]
  },
  {
   "cell_type": "code",
   "execution_count": null,
   "metadata": {},
   "outputs": [
    {
     "data": {
      "text/plain": [
       "0.0"
      ]
     },
     "execution_count": 154,
     "metadata": {},
     "output_type": "execute_result"
    }
   ],
   "source": [
    "trans.accuracy(trans.valid_data)"
   ]
  },
  {
   "cell_type": "code",
   "execution_count": 21,
   "metadata": {},
   "outputs": [
    {
     "data": {
      "text/plain": [
       "'ા'"
      ]
     },
     "execution_count": 21,
     "metadata": {},
     "output_type": "execute_result"
    }
   ],
   "source": [
    "trans.translate('a')"
   ]
  },
  {
   "cell_type": "code",
   "execution_count": null,
   "metadata": {},
   "outputs": [],
   "source": [
    "# # create a seq2seq model using 2 RNNs\n",
    "# class Seq2Seq(nn.Module):\n",
    "# \tdef __init__(self, input_size, hidden_size, output_size, n_layers=1):\n",
    "# \t\tsuper(Seq2Seq, self).__init__()\n",
    "# \t\tself.input_size = input_size\n",
    "# \t\tself.hidden_size = hidden_size\n",
    "# \t\tself.output_size = output_size\n",
    "# \t\tself.n_layers = n_layers\n",
    "\n",
    "# \t\t# encoder and decoder\n",
    "# \t\tself.encoder = nn.RNN(input_size, hidden_size, n_layers)\n",
    "# \t\tself.decoder = nn.RNN(hidden_size, hidden_size, n_layers)\n",
    "\n",
    "# \t\t# linear layer to get output\n",
    "# \t\tself.linear = nn.Linear(hidden_size, output_size)\n",
    "\n",
    "# \tdef forward(self, input, hidden):\n",
    "# \t\t# encoder\n",
    "# \t\toutput, hidden = self.encoder(input, hidden)\n",
    "\t\t\n",
    "# \t\t# decoder\n",
    "# \t\toutput, hidden = self.decoder(output, hidden)\n",
    "\t\t\n",
    "# \t\t# get output\n",
    "# \t\toutput = self.linear(output)\n",
    "# \t\treturn output, hidden\n",
    "\t\n",
    "# \tdef predict(self, input, inp_lang, out_lang):\n",
    "# \t\tout, hidden = self.forward(inp_lang.one_hot_encode(input).unsqueeze(1), self.init_hidden(1))\n",
    "# \t\treturn out_lang.decode_one_hot(out)\n",
    "\t\n",
    "# \tdef init_hidden(self, batch_size):\n",
    "# \t\treturn Variable(torch.zeros(self.n_layers, batch_size, self.hidden_size))"
   ]
  },
  {
   "cell_type": "code",
   "execution_count": null,
   "metadata": {},
   "outputs": [],
   "source": [
    "# class Translator:\n",
    "# \tdef __init__(self, lang):\n",
    "# \t\ttrain_data = pd.read_csv(f'aksharantar_sampled/{lang}/{lang}_train.csv')\n",
    "# \t\ttest_data = pd.read_csv(f'aksharantar_sampled/{lang}/{lang}_test.csv')\n",
    "# \t\tvalid_data = pd.read_csv(f'aksharantar_sampled/{lang}/{lang}_valid.csv')\n",
    "\n",
    "# \t\ttrain_data.columns = ['input_seq', 'target_seq']\n",
    "# \t\ttest_data.columns = ['input_seq', 'target_seq']\n",
    "# \t\tvalid_data.columns = ['input_seq', 'target_seq']\n",
    "\n",
    "# \t\tself.inp_lang = Lang(train_data['input_seq'])\n",
    "# \t\tself.out_lang = Lang(train_data['target_seq'])\n",
    "\n",
    "# \t\tself.model = Seq2Seq(self.inp_lang.n_chars, 10, self.out_lang.n_chars, 1)\n",
    "# \t\tself.criterion = nn.CrossEntropyLoss()\n",
    "# \t\tself.optimizer = optim.Adam(self.model.parameters(), lr=0.001)\n",
    "\n",
    "# \t\ttrain_dataset = AksharantarDataset(train_data, self.inp_lang, self.out_lang)\n",
    "# \t\ttest_dataset = AksharantarDataset(test_data, self.inp_lang, self.out_lang)\n",
    "# \t\tvalid_dataset = AksharantarDataset(valid_data, self.inp_lang, self.out_lang)\n",
    "\n",
    "# \t\tself.train_dataloader = DataLoader(train_dataset, batch_size=1, shuffle=True)\n",
    "# \t\tself.test_dataloader = DataLoader(test_dataset, batch_size=1, shuffle=True)\n",
    "# \t\tself.valid_dataloader = DataLoader(valid_dataset, batch_size=1, shuffle=True)\n",
    "\n",
    "# \tdef translate(self, word):\n",
    "# \t\treturn self.model.predict(word, self.inp_lang, self.out_lang)\n",
    "\t\n",
    "# \tdef train_one(self, inp, target):\n",
    "# \t\t# zero gradients\n",
    "# \t\tself.optimizer.zero_grad()\n",
    "\t\t\n",
    "# \t\t# initialize hidden layer\n",
    "# \t\thidden = self.model.init_hidden(1)\n",
    "\t\t\n",
    "# \t\t# get output\n",
    "# \t\toutput, hidden = self.model.forward(inp, hidden)\n",
    "\t\t\n",
    "# \t\tmx_len = min(len(output), len(target))\n",
    "\n",
    "# \t\tif(len(output) != len(inp)):\n",
    "# \t\t\tprint('lol')\n",
    "\n",
    "# \t\t# append output and target with 'Z' to make them of mx_len\n",
    "# \t\twhile(len(output) < mx_len):\n",
    "# \t\t\toutput = torch.cat((output, self.out_lang.one_hot_encode_char('Z')), 0)\n",
    "\n",
    "# \t\twhile(len(target) < mx_len):\n",
    "# \t\t\ttarget = torch.cat((target, self.out_lang.one_hot_encode_char('Z')), 0)\n",
    "\t\t\n",
    "# \t\t# calculate loss \n",
    "# \t\tloss = self.criterion(torch.flatten(output[:mx_len], 0, 1), torch.flatten(target[:mx_len], 0, 1).max(1)[1])\n",
    "\t\t\t\n",
    "# \t\t# backpropagate\n",
    "# \t\tloss.backward()\n",
    "\t\t\n",
    "# \t\t# update weights\n",
    "# \t\tself.optimizer.step()\n",
    "\n",
    "# \t\treturn loss.data.item() / len(output)\n",
    "\t\n",
    "# \tdef train_epoch(self, data_loader, print_every=100):\n",
    "# \t\tloss = 0\n",
    "# \t\tfor i_batch, sample_batched in tqdm(enumerate(data_loader)):\n",
    "# \t\t\tloss += self.train_one(sample_batched['input_seq'][0], sample_batched['target_seq'][0])\n",
    "# \t\t\tif i_batch % print_every == print_every-1:\n",
    "# \t\t\t\tprint(' Train Loss: ', loss / (i_batch+1))\n",
    "# \t\t\t\t# print(' Valid Loss: ', self.calc_loss_full(self.valid_dataloader))\n",
    "# \t\t\t\t# print(' Train Accuracy: ', self.calc_accuracy(self.train_dataloader))\n",
    "# \t\t\t\t# print(' Valid Accuracy: ', self.calc_accuracy(self.valid_dataloader))\n",
    "# \t\treturn self.calc_loss_full(data_loader)\n",
    "\t\n",
    "# \tdef train(self, epochs, print_every=100):\n",
    "# \t\tlosses = []\n",
    "# \t\tfor epoch in range(epochs):\n",
    "# \t\t\tprint('Epoch ', epoch + 1)\n",
    "# \t\t\tloss = self.train_epoch(self.train_dataloader, print_every)\n",
    "# \t\t\tlosses.append(loss)\n",
    "# \t\treturn losses\n",
    "\t\n",
    "# \tdef calc_loss_full(self, data_loader):\n",
    "# \t\tloss = 0\n",
    "# \t\tfor i_batch, sample_batched in tqdm(enumerate(data_loader)):\n",
    "# \t\t\tinp = sample_batched['input_seq'][0]\n",
    "# \t\t\ttarget = sample_batched['target_seq'][0]\n",
    "# \t\t\thidden = self.model.init_hidden(1)\n",
    "# \t\t\toutput, hidden = self.model.forward(inp, hidden)\n",
    "# \t\t\tmx_len = min(len(output), len(target))\n",
    "# \t\t\twhile(len(output) < mx_len):\n",
    "# \t\t\t\toutput = torch.cat((output, self.out_lang.one_hot_encode_char('Z')), 0)\n",
    "# \t\t\twhile(len(target) < mx_len):\n",
    "# \t\t\t\ttarget = torch.cat((target, self.out_lang.one_hot_encode_char('Z')), 0)\n",
    "# \t\t\tloss += self.criterion(torch.flatten(output[:mx_len], 0, 1), torch.flatten(target[:mx_len], 0, 1).max(1)[1])\n",
    "# \t\treturn loss / len(data_loader)\n",
    "\t\n",
    "# \tdef calc_accuracy(self, dataset):\n",
    "# \t\treturn np.sum([(self.translate(sample_batched['input_seq']) ==  sample_batched['target_seq']) for sample_batched in dataset]) / len(dataset)"
   ]
  },
  {
   "cell_type": "code",
   "execution_count": null,
   "metadata": {},
   "outputs": [],
   "source": [
    "# guj_trans = Translator('guj')\n",
    "# guj_trans.train(10, 1000)"
   ]
  }
 ],
 "metadata": {
  "kernelspec": {
   "display_name": "Python 3",
   "language": "python",
   "name": "python3"
  },
  "language_info": {
   "codemirror_mode": {
    "name": "ipython",
    "version": 3
   },
   "file_extension": ".py",
   "mimetype": "text/x-python",
   "name": "python",
   "nbconvert_exporter": "python",
   "pygments_lexer": "ipython3",
   "version": "3.10.10"
  },
  "orig_nbformat": 4
 },
 "nbformat": 4,
 "nbformat_minor": 2
}
