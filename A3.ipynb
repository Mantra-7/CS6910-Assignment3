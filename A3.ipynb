{
 "cells": [
  {
   "cell_type": "code",
   "execution_count": 1,
   "metadata": {},
   "outputs": [],
   "source": [
    "import torch\n",
    "import torch.nn as nn\n",
    "import torch.nn.functional as F\n",
    "import torch.optim as optim\n",
    "from torch.autograd import Variable\n",
    "from torch.utils.data import Dataset, DataLoader\n",
    "from torchvision import transforms, utils\n",
    "\n",
    "# import other libraries\n",
    "import numpy as np\n",
    "import pandas as pd\n",
    "import matplotlib.pyplot as plt\n",
    "from tqdm import tqdm"
   ]
  },
  {
   "cell_type": "code",
   "execution_count": 2,
   "metadata": {},
   "outputs": [],
   "source": [
    "# define Lang\n",
    "class Lang:\n",
    "\tdef __init__(self, wordList):\n",
    "\t\tself.char2index = {'A': 0, 'Z': 1}\n",
    "\t\tself.char2count = {}\n",
    "\t\tself.index2char = {0: 'A', 1: 'Z'}\n",
    "\t\tself.n_chars = 2\n",
    "\n",
    "\t\tfor word in wordList:\n",
    "\t\t\tself.addWord(word)\n",
    "\n",
    "\tdef addWord(self, word):\n",
    "\t\tfor char in word:\n",
    "\t\t\tself.addChar(char)\n",
    "\n",
    "\tdef addChar(self, char):\n",
    "\t\tif char not in self.char2index:\n",
    "\t\t\tself.char2index[char] = self.n_chars\n",
    "\t\t\tself.char2count[char] = 1\n",
    "\t\t\tself.index2char[self.n_chars] = char\n",
    "\t\t\tself.n_chars += 1\n",
    "\t\telse:\n",
    "\t\t\tself.char2count[char] += 1\n",
    "\n",
    "\tdef encode(self, word):\n",
    "\t\tembedded = []\n",
    "\t\tfor i in range(len(word)):\n",
    "\t\t\tembedded.append([self.char2index[word[i]]])\n",
    "\t\treturn Variable(torch.LongTensor(embedded))\n",
    "\n",
    "\tdef one_hot_encode(self, word):\n",
    "\t\tone_hot = torch.zeros(len(word), self.n_chars)\n",
    "\t\tfor i in range(len(word)):\n",
    "\t\t\tone_hot[i][self.char2index[word[i]]] = 1\n",
    "\t\treturn one_hot\n",
    "\t\n",
    "\tdef one_hot_encode_char(self, char):\n",
    "\t\tone_hot = torch.zeros(1, self.n_chars)\n",
    "\t\tone_hot[0][self.char2index[char]] = 1\n",
    "\t\treturn one_hot\n",
    "\t\n",
    "\tdef decode(self, word):\n",
    "\t\tdecoded = ''\n",
    "\t\tfor i in range(len(word)):\n",
    "\t\t\tdecoded += self.index2char[word[i]]\n",
    "\t\treturn decoded\n",
    "\t\n",
    "\tdef decode_one_hot(self, word):\n",
    "\t\tdecoded = ''\n",
    "\t\tfor i in range(len(word)):\n",
    "\t\t\tdecoded += self.index2char[word[i].argmax().item()]\n",
    "\t\treturn decoded"
   ]
  },
  {
   "cell_type": "code",
   "execution_count": 3,
   "metadata": {},
   "outputs": [],
   "source": [
    "# create dataset\n",
    "class AksharantarDataset(Dataset):\n",
    "\tdef __init__(self, data, inp_lang, out_lang):\n",
    "\t\tself.data = data\n",
    "\t\tself.inp_lang = inp_lang\n",
    "\t\tself.out_lang = out_lang\n",
    "\n",
    "\tdef __len__(self):\n",
    "\t\treturn len(self.data)\n",
    "\n",
    "\tdef __getitem__(self, idx):\n",
    "\t\tif torch.is_tensor(idx):\n",
    "\t\t\tidx = idx.tolist()\n",
    "\n",
    "\t\tinp_seq = self.inp_lang.one_hot_encode(self.data['input_seq'][idx]).unsqueeze(1)\n",
    "\t\tout_seq = self.out_lang.one_hot_encode(self.data['target_seq'][idx]).unsqueeze(1)\n",
    "\n",
    "\t\tsample = {'input_seq': inp_seq, 'target_seq': out_seq}\n",
    "\t\treturn sample"
   ]
  },
  {
   "cell_type": "code",
   "execution_count": 4,
   "metadata": {},
   "outputs": [],
   "source": [
    "# create a seq2seq model using 2 RNNs\n",
    "class Seq2Seq(nn.Module):\n",
    "\tdef __init__(self, input_size, hidden_size, output_size, n_layers=1):\n",
    "\t\tsuper(Seq2Seq, self).__init__()\n",
    "\t\tself.input_size = input_size\n",
    "\t\tself.hidden_size = hidden_size\n",
    "\t\tself.output_size = output_size\n",
    "\t\tself.n_layers = n_layers\n",
    "\t\t\t\t\n",
    "\t\t# encoder and decoder\n",
    "\t\tself.encoder = nn.RNN(input_size, hidden_size, n_layers)\n",
    "\t\tself.decoder = nn.RNN(hidden_size, hidden_size, n_layers)\n",
    "\n",
    "\t\t# linear layer to get output\n",
    "\t\tself.linear = nn.Linear(hidden_size, output_size)\n",
    "\n",
    "\tdef forward(self, input, hidden):\n",
    "\t\t# encoder\n",
    "\t\toutput, hidden = self.encoder(input, hidden)\n",
    "\t\t\n",
    "\t\t# decoder\n",
    "\t\toutput, hidden = self.decoder(output, hidden)\n",
    "\t\t\n",
    "\t\t# get output\n",
    "\t\toutput = self.linear(output)\n",
    "\t\treturn output, hidden\n",
    "\t\n",
    "\tdef predict(self, input, inp_lang, out_lang):\n",
    "\t\tout, hidden = self.forward(inp_lang.one_hot_encode(input).unsqueeze(1), self.init_hidden(1))\n",
    "\t\treturn out_lang.decode_one_hot(out)\n",
    "\t\n",
    "\tdef init_hidden(self, batch_size):\n",
    "\t\treturn Variable(torch.zeros(self.n_layers, batch_size, self.hidden_size))"
   ]
  },
  {
   "cell_type": "code",
   "execution_count": 5,
   "metadata": {},
   "outputs": [],
   "source": [
    "class Translator:\n",
    "\tdef __init__(self, lang):\n",
    "\t\ttrain_data = pd.read_csv(f'aksharantar_sampled/{lang}/{lang}_train.csv')\n",
    "\t\ttest_data = pd.read_csv(f'aksharantar_sampled/{lang}/{lang}_test.csv')\n",
    "\t\tvalid_data = pd.read_csv(f'aksharantar_sampled/{lang}/{lang}_valid.csv')\n",
    "\n",
    "\t\ttrain_data.columns = ['input_seq', 'target_seq']\n",
    "\t\ttest_data.columns = ['input_seq', 'target_seq']\n",
    "\t\tvalid_data.columns = ['input_seq', 'target_seq']\n",
    "\n",
    "\t\tself.inp_lang = Lang(train_data['input_seq'])\n",
    "\t\tself.out_lang = Lang(train_data['target_seq'])\n",
    "\n",
    "\t\tself.model = Seq2Seq(self.inp_lang.n_chars, 128, self.out_lang.n_chars, 1)\n",
    "\t\tself.criterion = nn.CrossEntropyLoss()\n",
    "\t\tself.optimizer = optim.Adam(self.model.parameters(), lr=0.001)\n",
    "\n",
    "\t\ttrain_dataset = AksharantarDataset(train_data, self.inp_lang, self.out_lang)\n",
    "\t\ttest_dataset = AksharantarDataset(test_data, self.inp_lang, self.out_lang)\n",
    "\t\tvalid_dataset = AksharantarDataset(valid_data, self.inp_lang, self.out_lang)\n",
    "\n",
    "\t\tself.train_dataloader = DataLoader(train_dataset, batch_size=1, shuffle=True)\n",
    "\t\tself.test_dataloader = DataLoader(test_dataset, batch_size=1, shuffle=True)\n",
    "\t\tself.valid_dataloader = DataLoader(valid_dataset, batch_size=1, shuffle=True)\n",
    "\n",
    "\tdef translate(self, word):\n",
    "\t\treturn self.model.predict(word, self.inp_lang, self.out_lang)\n",
    "\t\n",
    "\tdef train_one(self, inp, target):\n",
    "\t\t# zero gradients\n",
    "\t\tself.optimizer.zero_grad()\n",
    "\t\t\n",
    "\t\t# initialize hidden layer\n",
    "\t\thidden = self.model.init_hidden(1)\n",
    "\t\t\n",
    "\t\t# get output\n",
    "\t\toutput, hidden = self.model.forward(inp, hidden)\n",
    "\t\t\n",
    "\t\tmx_len = min(len(output), len(target))\n",
    "\n",
    "\t\t# append output and target with 'Z' to make them of mx_len\n",
    "\t\twhile(len(output) < mx_len):\n",
    "\t\t\toutput = torch.cat((output, self.out_lang.one_hot_encode_char('Z')), 0)\n",
    "\n",
    "\t\twhile(len(target) < mx_len):\n",
    "\t\t\ttarget = torch.cat((target, self.out_lang.one_hot_encode_char('Z')), 0)\n",
    "\t\t\n",
    "\t\t# calculate loss \n",
    "\t\tloss = self.criterion(torch.flatten(output[:mx_len], 0, 1), torch.flatten(target[:mx_len], 0, 1).max(1)[1])\n",
    "\t\t\t\n",
    "\t\t# backpropagate\n",
    "\t\tloss.backward()\n",
    "\t\t\n",
    "\t\t# update weights\n",
    "\t\tself.optimizer.step()\n",
    "\n",
    "\t\treturn loss.data.item() / len(inp)\n",
    "\t\n",
    "\tdef train_epoch(self, data_loader):\n",
    "\t\tloss = 0\n",
    "\t\tfor i_batch, sample_batched in tqdm(enumerate(data_loader)):\n",
    "\t\t\tloss += self.train_one(sample_batched['input_seq'][0], sample_batched['target_seq'][0])\n",
    "\t\tprint(' Loss: ', loss / len(data_loader))\n",
    "\t\treturn loss / len(data_loader)\n",
    "\t\n",
    "\tdef train(self, epochs):\n",
    "\t\tlosses = []\n",
    "\t\tfor epoch in range(epochs):\n",
    "\t\t\tprint('Epoch ', epoch + 1)\n",
    "\t\t\tloss = self.train_epoch(self.train_dataloader)\n",
    "\t\t\tlosses.append(loss)\n",
    "\t\treturn losses"
   ]
  },
  {
   "cell_type": "code",
   "execution_count": 6,
   "metadata": {},
   "outputs": [],
   "source": [
    "# hindi_trans = Translator('hin')\n",
    "# hindi_trans.train(5)"
   ]
  },
  {
   "cell_type": "code",
   "execution_count": 7,
   "metadata": {},
   "outputs": [
    {
     "name": "stdout",
     "output_type": "stream",
     "text": [
      "Epoch  1\n"
     ]
    },
    {
     "name": "stderr",
     "output_type": "stream",
     "text": [
      "51199it [05:19, 160.41it/s]"
     ]
    },
    {
     "name": "stdout",
     "output_type": "stream",
     "text": [
      " Loss:  0.18516780389609597\n"
     ]
    },
    {
     "name": "stderr",
     "output_type": "stream",
     "text": [
      "\n"
     ]
    },
    {
     "data": {
      "text/plain": [
       "[0.18516780389609597]"
      ]
     },
     "execution_count": 7,
     "metadata": {},
     "output_type": "execute_result"
    }
   ],
   "source": [
    "kan_trans = Translator('kan')\n",
    "kan_trans.train(1)"
   ]
  },
  {
   "cell_type": "code",
   "execution_count": 20,
   "metadata": {},
   "outputs": [
    {
     "data": {
      "text/plain": [
       "'ಅಭ್ದಲಲಳಿ'"
      ]
     },
     "execution_count": 20,
     "metadata": {},
     "output_type": "execute_result"
    }
   ],
   "source": [
    "kan_trans.translate('abdullah')"
   ]
  }
 ],
 "metadata": {
  "kernelspec": {
   "display_name": "Python 3",
   "language": "python",
   "name": "python3"
  },
  "language_info": {
   "codemirror_mode": {
    "name": "ipython",
    "version": 3
   },
   "file_extension": ".py",
   "mimetype": "text/x-python",
   "name": "python",
   "nbconvert_exporter": "python",
   "pygments_lexer": "ipython3",
   "version": "3.9.4"
  },
  "orig_nbformat": 4
 },
 "nbformat": 4,
 "nbformat_minor": 2
}
