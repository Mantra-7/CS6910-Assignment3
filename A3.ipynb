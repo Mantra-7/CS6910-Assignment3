{
 "cells": [
  {
   "cell_type": "code",
   "execution_count": 1,
   "metadata": {},
   "outputs": [
    {
     "name": "stderr",
     "output_type": "stream",
     "text": [
      "Failed to detect the name of this notebook, you can set it manually with the WANDB_NOTEBOOK_NAME environment variable to enable code saving.\n",
      "\u001b[34m\u001b[1mwandb\u001b[0m: Currently logged in as: \u001b[33mmantra7\u001b[0m. Use \u001b[1m`wandb login --relogin`\u001b[0m to force relogin\n"
     ]
    }
   ],
   "source": [
    "import torch\n",
    "import torch.nn as nn\n",
    "import torch.nn.functional as F\n",
    "import torch.optim as optim\n",
    "from torch.autograd import Variable\n",
    "from torch.utils.data import Dataset, DataLoader\n",
    "from torchvision import transforms, utils\n",
    "\n",
    "# import other libraries\n",
    "import numpy as np\n",
    "import pandas as pd\n",
    "import matplotlib.pyplot as plt\n",
    "from tqdm import tqdm\n",
    "import pickle\n",
    "from typing import *\n",
    "import time\n",
    "import math\n",
    "import random\n",
    "import wandb\n",
    "wandb.login()\n",
    "\n",
    "device = torch.device(\"cuda\" if torch.cuda.is_available() else \"cpu\")"
   ]
  },
  {
   "cell_type": "code",
   "execution_count": 2,
   "metadata": {},
   "outputs": [],
   "source": [
    "# define Lang\n",
    "class Lang:\n",
    "\tdef __init__(self, wordList):\n",
    "\t\tself.char2index = {'A': 0, 'Z': 1, '_': 2, '^':3}\n",
    "\t\tself.char2count = {}\n",
    "\t\tself.index2char = {0: 'A', 1: 'Z', 2: '_', 3: '^'}\n",
    "\t\tself.n_chars = 4\n",
    "\n",
    "\t\tfor word in wordList:\n",
    "\t\t\tself.addWord(word)\n",
    "\n",
    "\tdef addWord(self, word):\n",
    "\t\tfor char in word:\n",
    "\t\t\tself.addChar(char)\n",
    "\n",
    "\tdef addChar(self, char):\n",
    "\t\tif char not in self.char2index:\n",
    "\t\t\tself.char2index[char] = self.n_chars\n",
    "\t\t\tself.char2count[char] = 1\n",
    "\t\t\tself.index2char[self.n_chars] = char\n",
    "\t\t\tself.n_chars += 1\n",
    "\t\telif char != '_' and char != '^' and char != 'A' and char != 'Z':\n",
    "\t\t\tself.char2count[char] += 1\n",
    "\n",
    "\tdef encode(self, word):\n",
    "\t\tencoded = [0] * len(word)\n",
    "\t\tfor i in range(len(word)):\n",
    "\t\t\tif word[i] in self.char2index:\n",
    "\t\t\t\tencoded[i] = self.char2index[word[i]]\n",
    "\t\t\telse:\n",
    "\t\t\t\tencoded[i] = self.char2index['^']\n",
    "\t\treturn encoded\n",
    "\t\n",
    "\tdef one_hot_encode(self, word):\n",
    "\t\tone_hot = torch.zeros(len(word), self.n_chars, device=device)\n",
    "\t\tfor i in range(len(word)):\n",
    "\t\t\tif word[i] in self.char2index:\n",
    "\t\t\t\tone_hot[i][self.char2index[word[i]]] = 1\n",
    "\t\t\telse:\n",
    "\t\t\t\tone_hot[i][self.char2index['^']] = 1\t\t\t\n",
    "\t\treturn one_hot\n",
    "\t\t\n",
    "\tdef decode(self, word):\n",
    "\t\tdecoded = ''\n",
    "\t\tfor i in range(len(word)):\n",
    "\t\t\tif word[i].argmax().item() in self.index2char:\n",
    "\t\t\t\tdecoded += self.index2char[word[i].argmax().item()]\n",
    "\t\t\telse:\n",
    "\t\t\t\tdecoded += '^'\n",
    "\t\treturn decoded\n",
    "\t\n",
    "\tdef decode_words(self, words):\n",
    "\t\tn_words = words.argmax(dim=2).T\n",
    "\t\tdecoded = ['']*len(n_words)\n",
    "\t\tfor i in range(len(n_words)):\n",
    "\t\t\tdecoded[i] = ''.join([self.index2char[n_words[i][j].item()] for j in range(len(n_words[i]))])\n",
    "\n",
    "\t\treturn decoded\n",
    "\t\n",
    "\tdef decode_one_hot(self, word):\n",
    "\t\tdecoded = ''\n",
    "\t\tfor i in range(len(word)):\n",
    "\t\t\tif word[i].argmax().item() in self.index2char:\n",
    "\t\t\t\tdecoded += self.index2char[word[i].argmax().item()]\n",
    "\t\t\telse:\n",
    "\t\t\t\tdecoded += '^'\n",
    "\t\treturn decoded"
   ]
  },
  {
   "cell_type": "code",
   "execution_count": 3,
   "metadata": {},
   "outputs": [],
   "source": [
    "def tensorFromWord(lang : Lang, word : str):\n",
    "\tindexes = lang.encode(word)\n",
    "\treturn torch.tensor(indexes, dtype=torch.long, device=device).view(-1, 1)\n",
    "\n",
    "def tensorFromWords(lang : Lang, words : List[str]):\n",
    "\ttensors = []\n",
    "\tfor word in words:\n",
    "\t\ttensors.append(tensorFromWord(lang, word))\n",
    "\treturn torch.cat(tensors, dim=1)\n",
    "\n",
    "def tensorsFromPair(pair, inp_lang : Lang, out_lang : Lang):\n",
    "\tinput_tensor = tensorFromWord(inp_lang, pair[0])\n",
    "\ttarget_tensor = tensorFromWord(out_lang, pair[1])\n",
    "\treturn (input_tensor.unsqueeze(1), target_tensor)\n",
    "\n",
    "def tensorsFromPairs(pairs, inp_lang : Lang, out_lang : Lang, batch_size):\n",
    "\ttensors_inp = []\n",
    "\ttensors_out = []\n",
    "\tfor pair in pairs:\n",
    "\t\ttensors_inp.append(tensorFromWord(inp_lang, pair[0]))\n",
    "\t\ttensors_out.append(tensorFromWord(out_lang, pair[1]))\n",
    "\treturn torch.cat(tensors_inp, dim=1).view(-1,1,batch_size), torch.cat(tensors_out, dim=1)"
   ]
  },
  {
   "cell_type": "code",
   "execution_count": 4,
   "metadata": {},
   "outputs": [],
   "source": [
    "def DataLoader(lang : str, pad : bool = False, max_length : int = 40):\n",
    "\ttrain_data = pd.read_csv(f'aksharantar_sampled/{lang}/{lang}_train.csv')\n",
    "\ttest_data = pd.read_csv(f'aksharantar_sampled/{lang}/{lang}_test.csv')\n",
    "\tvalid_data = pd.read_csv(f'aksharantar_sampled/{lang}/{lang}_valid.csv')\n",
    "\t# train_data = pd.read_csv('/kaggle/input/gujarati/guj_train.csv')\n",
    "\t# test_data = pd.read_csv('/kaggle/input/gujarati/guj_test.csv')\n",
    "\t# valid_data = pd.read_csv('/kaggle/input/gujarati/guj_valid.csv')\n",
    "\n",
    "\t\n",
    "\ttrain_data.columns = ['input_seq', 'target_seq']\n",
    "\ttest_data.columns = ['input_seq', 'target_seq']\n",
    "\tvalid_data.columns = ['input_seq', 'target_seq']\n",
    "        \n",
    "\ttrain_data['input_seq'] = train_data['input_seq'].apply(lambda x: x + 'Z')\n",
    "\ttrain_data['target_seq'] = train_data['target_seq'].apply(lambda x: x + 'Z')\n",
    "\ttest_data['input_seq'] = test_data['input_seq'].apply(lambda x: x + 'Z')\n",
    "\ttest_data['target_seq'] = test_data['target_seq'].apply(lambda x: x + 'Z')\n",
    "\tvalid_data['input_seq'] = valid_data['input_seq'].apply(lambda x: x + 'Z')\n",
    "\tvalid_data['target_seq'] = valid_data['target_seq'].apply(lambda x: x + 'Z')\n",
    "\n",
    "\tif pad:\n",
    "\t\ttrain_data['input_seq'] = train_data['input_seq'].apply(lambda x: x + '_'*(max_length - len(x)))\n",
    "\t\ttrain_data['target_seq'] = train_data['target_seq'].apply(lambda x: x + '_'*(max_length - len(x)))\n",
    "\t\ttest_data['input_seq'] = test_data['input_seq'].apply(lambda x: x + '_'*(max_length - len(x)))\n",
    "\t\ttest_data['target_seq'] = test_data['target_seq'].apply(lambda x: x + '_'*(max_length - len(x)))\n",
    "\t\tvalid_data['input_seq'] = valid_data['input_seq'].apply(lambda x: x + '_'*(max_length - len(x)))\n",
    "\t\tvalid_data['target_seq'] = valid_data['target_seq'].apply(lambda x: x + '_'*(max_length - len(x)))\n",
    "\n",
    "\treturn train_data, test_data, valid_data\n",
    "\n",
    "def asMinutes(s):\n",
    "    m = math.floor(s / 60)\n",
    "    s -= m * 60\n",
    "    return '%dm %ds' % (m, s)\n",
    "\n",
    "def timeSince(since, percent):\n",
    "    now = time.time()\n",
    "    s = now - since\n",
    "    es = s / (percent)\n",
    "    rs = es - s\n",
    "    return '%s (- %s)' % (asMinutes(s), asMinutes(rs))"
   ]
  },
  {
   "cell_type": "code",
   "execution_count": 5,
   "metadata": {},
   "outputs": [],
   "source": [
    "def get_cell(str):\n",
    "\tif str == 'lstm':\n",
    "\t\treturn nn.LSTM\n",
    "\telif str == 'gru':\n",
    "\t\treturn nn.GRU\n",
    "\telif str == 'rnn':\n",
    "\t\treturn nn.RNN\n",
    "\telse:\n",
    "\t\traise ValueError('Invalid cell type')"
   ]
  },
  {
   "cell_type": "code",
   "execution_count": 6,
   "metadata": {},
   "outputs": [],
   "source": [
    "class EncoderRNN(nn.Module):\n",
    "\tdef __init__(self, input_size, embed_size, hidden_size, n_layers=1, type='gru', dropout=0.2, batch_size=1):\n",
    "\t\tsuper(EncoderRNN, self).__init__()\n",
    "\t\tself.hidden_size = hidden_size\n",
    "\t\tself.n_layers = n_layers\n",
    "\t\tself.type_t = type\n",
    "\t\tself.batch_size = batch_size\n",
    "\n",
    "\t\tself.embedding = nn.Embedding(input_size, embed_size)\n",
    "\t\tself.cell = get_cell(type)(embed_size, hidden_size, n_layers, dropout=dropout)\n",
    "\n",
    "\tdef forward(self, input, hidden):\n",
    "\t\tembedded = self.embedding(input)\n",
    "\t\toutput = embedded\n",
    "\t\toutput, hidden = self.cell(output, hidden)\n",
    "\t\treturn output, hidden\n",
    "\n",
    "\tdef initHidden(self, bs = -1):\n",
    "\t\tif bs == -1:\n",
    "\t\t\tbs = self.batch_size\n",
    "\t\tif self.type_t == 'lstm':\n",
    "\t\t\treturn torch.zeros(self.n_layers, bs, self.hidden_size, device=device), torch.zeros(self.n_layers, bs, self.hidden_size, device=device)\n",
    "\t\telse:\n",
    "\t\t\treturn torch.zeros(self.n_layers, bs, self.hidden_size, device=device)\n",
    "\t\n",
    "class DecoderRNN(nn.Module):\n",
    "\tdef __init__(self, hidden_size, output_size, n_layers=1, type='gru', dropout=0.2, batch_size=1):\n",
    "\t\tsuper(DecoderRNN, self).__init__()\n",
    "\t\tself.hidden_size = hidden_size\n",
    "\t\tself.n_layers = n_layers\n",
    "\t\tself.type_t = type\n",
    "\t\tself.batch_size = batch_size\n",
    "\n",
    "\t\tself.embedding = nn.Embedding(output_size, hidden_size)\n",
    "\t\tself.cell = get_cell(type)(hidden_size, hidden_size, n_layers, dropout=dropout)\n",
    "\t\tself.out = nn.Linear(hidden_size, output_size)\n",
    "\t\tself.softmax = nn.LogSoftmax(dim=1)\n",
    "\n",
    "\tdef forward(self, input, hidden, bs = -1):\n",
    "\t\tif bs == -1:\n",
    "\t\t\tbs = self.batch_size\n",
    "\t\toutput = self.embedding(input).view(1, bs, -1)\n",
    "\t\toutput = F.relu(output)\n",
    "\t\toutput, hidden = self.cell(output, hidden)\n",
    "\t\toutput = self.softmax(self.out(output[0]))\n",
    "\t\treturn output, hidden\n",
    "\n",
    "\tdef initHidden(self, bs = -1):\n",
    "\t\tif bs == -1:\n",
    "\t\t\tbs = self.batch_size\n",
    "\t\tif self.type_t == 'lstm':\n",
    "\t\t\treturn torch.zeros(self.n_layers, bs, self.hidden_size, device=device), torch.zeros(self.n_layers, bs, self.hidden_size, device=device)\n",
    "\t\telse:\n",
    "\t\t\treturn torch.zeros(self.n_layers, bs, self.hidden_size, device=device)\n"
   ]
  },
  {
   "cell_type": "code",
   "execution_count": 7,
   "metadata": {},
   "outputs": [],
   "source": [
    "class Seq2Seq(nn.Module):\n",
    "\tdef __init__(self, input_size, hidden_size, embed_size, output_size, n_layers=1, type='gru', dropout=0.2, batch_size=1):\n",
    "\t\tsuper(Seq2Seq, self).__init__()\n",
    "\t\tself.input_size = input_size\n",
    "\t\tself.hidden_size = hidden_size\n",
    "\t\tself.output_size = output_size\n",
    "\t\tself.n_layers = n_layers\n",
    "\t\tself.batch_size = batch_size\n",
    "\n",
    "\t\tself.encoder = EncoderRNN(input_size, embed_size, hidden_size, n_layers, type, dropout, batch_size).to(device)\n",
    "\t\tself.decoder = DecoderRNN(hidden_size, output_size, n_layers, type, dropout, batch_size).to(device)\n",
    "\n",
    "\tdef forward(self, input_tensor, target_tensor, max_length=50):\n",
    "\t\tbs = input_tensor.size(2)\n",
    "\t\tencoder_hidden = self.encoder.initHidden(bs)\n",
    "\n",
    "\t\tinput_length = input_tensor.size(0)\n",
    "\t\ttarget_length = target_tensor.size(0)\n",
    "\n",
    "\t\tencoder_outputs = torch.zeros(max_length, self.encoder.hidden_size, device=device)\n",
    "\n",
    "\t\tfor ei in range(input_length):\n",
    "\t\t\tencoder_output, encoder_hidden = self.encoder(\n",
    "\t\t\t\tinput_tensor[ei], encoder_hidden)\n",
    "\t\t\tencoder_outputs[ei] = encoder_output[0, 0]\n",
    "\n",
    "\t\tlst = []\n",
    "\t\tfor i in range(bs):\n",
    "\t\t\tlst.append([0])\n",
    "\t\tdecoder_input = torch.tensor(lst, device=device)  # SOS\n",
    "\n",
    "\t\tdecoder_hidden = encoder_hidden\n",
    "\t\tuse_teacher_forcing = True if random.random() < 0.5 else False\n",
    "\n",
    "\t\tdecoder_outputs = torch.zeros(target_length, bs, self.output_size, device=device)\n",
    "\t\tif use_teacher_forcing:\n",
    "\t\t\t# Teacher forcing: Feed the target as the next input\n",
    "\t\t\tfor di in range(target_length):\n",
    "\t\t\t\tdecoder_output, decoder_hidden = self.decoder(\n",
    "\t\t\t\t\tdecoder_input, decoder_hidden, bs)\n",
    "\t\t\t\tdecoder_outputs[di] = decoder_output\n",
    "\t\t\t\tdecoder_input = target_tensor[di]  # Teacher forcing\n",
    "\t\telse:\n",
    "\t\t\t# Without teacher forcing: use its own predictions as the next input\n",
    "\t\t\tfor di in range(target_length):\n",
    "\t\t\t\tdecoder_output, decoder_hidden = self.decoder(\n",
    "\t\t\t\t\tdecoder_input, decoder_hidden, bs)\n",
    "\t\t\t\tdecoder_outputs[di] = decoder_output\n",
    "\t\t\t\ttopv, topi = decoder_output.topk(1)\n",
    "\t\t\t\tdecoder_input = topi.squeeze().detach()  # detach from history as input\n",
    "\t\t\t\tif self.batch_size == 1:\n",
    "\t\t\t\t\tif topi == 1:\n",
    "\t\t\t\t\t\tbreak\n",
    "\n",
    "\t\treturn decoder_outputs\n",
    "\n",
    "\tdef predict(self, input_tensor, max_length = 50):\n",
    "\t\tencoder_hidden = self.encoder.initHidden(1)\n",
    "\n",
    "\t\tinput_length = input_tensor.size(0)\n",
    "\n",
    "\t\tencoder_outputs = torch.zeros(max_length, self.encoder.hidden_size, device=device)\n",
    "\n",
    "\t\tfor ei in range(input_length):\n",
    "\t\t\tencoder_output, encoder_hidden = self.encoder(\n",
    "\t\t\t\tinput_tensor[ei], encoder_hidden)\n",
    "\t\t\tencoder_outputs[ei] = encoder_output[0, 0]\n",
    "\n",
    "\t\tdecoder_input = torch.tensor([[0]], device=device)  # SOS\n",
    "\n",
    "\t\tdecoder_outputs = []\n",
    "\n",
    "\t\tdecoder_hidden = encoder_hidden\n",
    "\t\tfor di in range(max_length):\n",
    "\t\t\tdecoder_output, decoder_hidden = self.decoder(\n",
    "\t\t\t\tdecoder_input, decoder_hidden, 1)\n",
    "\t\t\ttopv, topi = decoder_output.data.topk(1)\n",
    "\t\t\tif topi == 1:\n",
    "\t\t\t\tbreak\n",
    "\t\t\tdecoder_outputs.append(decoder_output)\n",
    "\t\t\tdecoder_input = topi.squeeze().detach()\n",
    "\t\t\n",
    "\t\treturn decoder_outputs"
   ]
  },
  {
   "cell_type": "code",
   "execution_count": 8,
   "metadata": {},
   "outputs": [],
   "source": [
    "class Translator:\n",
    "\tdef __init__(self, lang, embed_size=10, hidden_size=10, n_layers=1, max_length=50, type='gru', dropout=0.2, batch_size=1):\n",
    "\t\tif batch_size != 1:\n",
    "\t\t\tself.train_data, self.test_data, self.valid_data = DataLoader(lang, pad = True, max_length = max_length)\n",
    "\t\telse:\n",
    "\t\t\tself.train_data, self.test_data, self.valid_data = DataLoader(lang, pad = False, max_length = max_length)\n",
    "\n",
    "\t\tself.inp_lang = Lang(self.train_data['input_seq'])\n",
    "\t\tself.out_lang = Lang(self.train_data['target_seq'])\n",
    "\t\tself.batch_size = batch_size\n",
    "\n",
    "\t\tself.model = Seq2Seq(self.inp_lang.n_chars, hidden_size, embed_size, self.out_lang.n_chars, n_layers, type, dropout, batch_size)\n",
    "\t\tself.criterion = nn.NLLLoss()\n",
    "\t\tself.max_length = max_length\n",
    "\t\tself.encoder_optim = optim.SGD(self.model.encoder.parameters(), lr=0.001)\n",
    "\t\tself.decoder_optim = optim.SGD(self.model.decoder.parameters(), lr=0.001)\n",
    "\n",
    "\t\tps = [(self.train_data['input_seq'][i], self.train_data['target_seq'][i]) for i in range(len(self.train_data))]\n",
    "\t\tleft = len(ps) % batch_size\n",
    "\t\tif left != 0:\n",
    "\t\t\tps = ps[:-left]\n",
    "\t\tself.pairs = [tensorsFromPairs(ps[x:x+batch_size], self.inp_lang, self.out_lang, self.batch_size) for x in range(0, len(ps), batch_size)]\n",
    "\n",
    "\tdef trainOne(self, input_tensor, target_tensor):\n",
    "\t\tself.encoder_optim.zero_grad()\n",
    "\t\tself.decoder_optim.zero_grad()\n",
    "\n",
    "\t\tbs = input_tensor.size(2)\n",
    "\n",
    "\t\tdecoder_outputs = self.model.forward(input_tensor, target_tensor, self.max_length)\n",
    "\n",
    "\t\tloss = 0\n",
    "\t\tif self.batch_size != 1:\n",
    "\t\t\tfor i in range(bs):\n",
    "\t\t\t\tloss1 = 0\n",
    "\t\t\t\tfor j in range(len(decoder_outputs)):\n",
    "\t\t\t\t\tloss1 += self.criterion(decoder_outputs[j][i], target_tensor[j][i]) / bs\n",
    "\t\t\t\t\tif target_tensor[j][i].item() == 1:\n",
    "\t\t\t\t\t\tloss += loss1 * self.max_length / (j+1)\n",
    "\t\t\t\t\t\tloss1 = 0\n",
    "\t\t\t\t\t\tbreak\n",
    "\t\t\t\tloss += loss1\n",
    "\t\telse:\n",
    "\t\t\tfor di in range(len(decoder_outputs)):\n",
    "\t\t\t\tloss += self.criterion(decoder_outputs[di], target_tensor[di]) \n",
    "\t\tloss.backward()\n",
    "\n",
    "\t\tself.encoder_optim.step()\n",
    "\t\tself.decoder_optim.step()\n",
    "\n",
    "\t\treturn loss.item() / target_tensor.size(0)\n",
    "\n",
    "\tdef train(self,epoch=1, n_iters=10000, print_every=1000, plot_every=100, learning_rate=0.01, rand=False, dumpName='model', log=False, wandb = None):\n",
    "\t\tself.encoder_optim = optim.Adam(self.model.encoder.parameters(), lr=learning_rate)\n",
    "\t\tself.decoder_optim = optim.Adam(self.model.decoder.parameters(), lr=learning_rate)\n",
    "\n",
    "\t\tstart = time.time()\n",
    "\t\ttrain_loss = []\n",
    "\t\ttrain_acc = []\n",
    "\t\tvalid_loss = []\n",
    "\t\tvalid_acc = []\n",
    "\n",
    "\t\tfor i in range(epoch):\n",
    "\t\t\tprint_loss_total = 0\n",
    "\t\t\ttot_loss = 0\n",
    "\t\t\tprint(\"Epoch: \", i)\n",
    "\t\t\tif rand:\n",
    "\t\t\t\ttraining_pairs = [random.choice(self.pairs) for i in range(n_iters)]\n",
    "\t\t\telse:\n",
    "\t\t\t\ttraining_pairs = self.pairs\n",
    "\n",
    "\t\t\tfor iter in tqdm(range(1, len(training_pairs) + 1)):\n",
    "\t\t\t\ttraining_pair = training_pairs[iter - 1]\n",
    "\t\t\t\tinput_tensor = training_pair[0]\n",
    "\t\t\t\ttarget_tensor = training_pair[1]\n",
    "\n",
    "\t\t\t\tloss = self.trainOne(input_tensor, target_tensor)\n",
    "\t\t\t\tprint_loss_total += loss \n",
    "\t\t\t\ttot_loss += loss\n",
    "\n",
    "\t\t\t\tif iter % print_every == 0:\n",
    "\t\t\t\t\tprint_loss_avg = print_loss_total / print_every\n",
    "\t\t\t\t\tprint_loss_total = 0\n",
    "\t\t\t\t\tprint('%s (%d %d%%) %.4f' % (timeSince(start, iter / n_iters),\n",
    "\t\t\t\t\t\t\t\t\t\t\t\titer, iter / n_iters * 100, print_loss_avg))\n",
    "\t\t\ttrain_loss.append(tot_loss / len(training_pairs))\n",
    "\t\t\ttrain_acc.append(self.accuracy(self.train_data))\n",
    "\t\t\tvalid_stats = self.calculate_stats(self.valid_data)\n",
    "\t\t\tvalid_loss.append(valid_stats[0])\n",
    "\t\t\tvalid_acc.append(valid_stats[1])\n",
    "\t\t\tprint(\"Train Loss: \", train_loss[-1], \"Valid Loss: \", valid_loss[-1], \"Train Acc: \", train_acc[-1], \"Valid Acc: \", valid_acc[-1])\n",
    "\t\t\tpickle.dump(self, open(dumpName + '_'+str(i) + '.pkl', 'wb'))\n",
    "\t\t\tif log:\n",
    "\t\t\t\twandb.log({'train_loss': train_loss[i], 'train_accuracy': train_acc[i], 'val_loss': valid_loss[i], 'val_accuracy': valid_acc[i]})\n",
    "\t\treturn train_loss, train_acc, valid_loss, valid_acc\n",
    "\n",
    "\tdef accuracy(self, data):\n",
    "\t\twith torch.no_grad():\n",
    "\t\t\tacc = 0\n",
    "\t\t\tif self.batch_size == 1:\n",
    "\t\t\t\tfor i in range(0, len(data), self.batch_size):\n",
    "\t\t\t\t\ttensors = tensorsFromPairs([(data['input_seq'][j], data['target_seq'][j]) for j in range(i, i + self.batch_size)], self.inp_lang, self.out_lang, self.batch_size)\n",
    "\t\t\t\t\toutputs = self.model.forward(tensors[0], tensors[1], self.max_length)\n",
    "\t\t\t\t\twords = self.out_lang.decode_words(outputs)\n",
    "\t\t\t\t\tacc += np.sum([words[j].strip('Z') == data['target_seq'][i + j].strip('Z_') for j in range(self.batch_size)])\n",
    "\t\t\telse:\n",
    "\t\t\t\ttensors = tensorsFromPairs([(data['input_seq'][j], data['target_seq'][j]) for j in range(len(data))], self.inp_lang, self.out_lang, len(data))\n",
    "\t\t\t\toutputs = self.model.forward(tensors[0], tensors[1], self.max_length)\n",
    "\t\t\t\twords = self.out_lang.decode_words(outputs)\n",
    "\t\t\t\tacc += np.sum([words[j].strip('Z') == data['target_seq'][j].strip('Z_') for j in range(len(data))])\n",
    "\t\t\treturn acc / len(data)\n",
    "\n",
    "\tdef calculate_stats(self, data):\n",
    "\t\twith torch.no_grad():\n",
    "\t\t\tloss = 0\n",
    "\t\t\tacc = 0\n",
    "\t\t\tif self.batch_size == 1:\n",
    "\t\t\t\tfor i in range(0, len(data), self.batch_size):\n",
    "\t\t\t\t\ttensors = tensorsFromPairs([(data['input_seq'][j], data['target_seq'][j]) for j in range(i, i + self.batch_size)], self.inp_lang, self.out_lang, self.batch_size)\n",
    "\t\t\t\t\toutputs = self.model.forward(tensors[0], tensors[1], self.max_length)\n",
    "\t\t\t\t\tfor di in range(len(outputs)):\n",
    "\t\t\t\t\t\tloss += self.criterion(outputs[di], tensors[1][di]) / tensors[1].size(0)\n",
    "\t\t\t\t\twords = self.out_lang.decode_words(outputs)\n",
    "\t\t\t\t\tacc += np.sum([words[j].strip('Z') == data['target_seq'][i + j].strip('Z_') for j in range(self.batch_size)])\n",
    "\t\t\telse:\n",
    "\t\t\t\ttensors = tensorsFromPairs([(data['input_seq'][j], data['target_seq'][j]) for j in range(len(data))], self.inp_lang, self.out_lang, len(data))\n",
    "\t\t\t\toutputs = self.model.forward(tensors[0], tensors[1], self.max_length)\n",
    "\t\t\t\tfor i in range(len(data)):\n",
    "\t\t\t\t\tloss1 = 0\n",
    "\t\t\t\t\tfor j in range(len(outputs)):\n",
    "\t\t\t\t\t\tloss1 += self.criterion(outputs[j][i], tensors[1][j][i])\n",
    "\t\t\t\t\t\tif tensors[1][j][i].item() == 1:\n",
    "\t\t\t\t\t\t\tloss += loss1 / (j+1)\n",
    "\t\t\t\t\t\t\tloss1 = 0\n",
    "\t\t\t\t\t\t\tbreak\n",
    "\t\t\t\t\tloss += loss1 / len(outputs)\n",
    "\t\t\t\twords = self.out_lang.decode_words(outputs)\n",
    "\t\t\t\tacc += np.sum([words[j].strip('Z') == data['target_seq'][j].strip('Z_') for j in range(len(data))])\n",
    "\t\t\treturn loss.item() / len(data), acc / len(data)\n",
    "\n",
    "\tdef translate(self, word):\n",
    "\t\twith torch.no_grad():\n",
    "\t\t\tif self.batch_size != 1:\n",
    "\t\t\t\tword = word + 'Z' + '_'*(self.max_length - len(word) -1)\n",
    "\t\t\ttensor = tensorFromWord(self.inp_lang, word).unsqueeze(1)\n",
    "\t\t\touts = self.model.predict(tensor, self.max_length)\n",
    "\t\t\treturn self.out_lang.decode(outs)"
   ]
  },
  {
   "cell_type": "code",
   "execution_count": 9,
   "metadata": {},
   "outputs": [],
   "source": [
    "sweep_configuration_new = {\n",
    "\t'method': 'random',\n",
    "\t'metric': {'goal': 'maximize', 'name': 'val_accuracy'},\n",
    "\t'parameters': \n",
    "\t{\n",
    "\t\t'epochs' : {'values': [10]},\n",
    "        'optim' : {'values' : ['Adam']},\n",
    "\t\t'lr' : {'values': [0.001, 0.005]},\n",
    "        'bs' : {'values': [1]},\n",
    "\t\t'hidden_size' : {'values': [512]},\n",
    "        'embed_size' : {'values': [16, 32]},\n",
    "        'n_layers' : {'values': [1]},\n",
    "        'type' : {'values': ['lstm']},\n",
    "        'dropout' : {'values': [0.2, 0.3]}\n",
    "\t}\n",
    "}"
   ]
  },
  {
   "cell_type": "code",
   "execution_count": 10,
   "metadata": {},
   "outputs": [
    {
     "name": "stdout",
     "output_type": "stream",
     "text": [
      "Create sweep with ID: o5tohm6i\n",
      "Sweep URL: https://wandb.ai/mantra7/rnn-first-proj/sweeps/o5tohm6i\n"
     ]
    },
    {
     "name": "stderr",
     "output_type": "stream",
     "text": [
      "\u001b[34m\u001b[1mwandb\u001b[0m: Agent Starting Run: l6hxsx81 with config:\n",
      "\u001b[34m\u001b[1mwandb\u001b[0m: \tbs: 1\n",
      "\u001b[34m\u001b[1mwandb\u001b[0m: \tdropout: 0.2\n",
      "\u001b[34m\u001b[1mwandb\u001b[0m: \tembed_size: 32\n",
      "\u001b[34m\u001b[1mwandb\u001b[0m: \tepochs: 10\n",
      "\u001b[34m\u001b[1mwandb\u001b[0m: \thidden_size: 512\n",
      "\u001b[34m\u001b[1mwandb\u001b[0m: \tlr: 0.005\n",
      "\u001b[34m\u001b[1mwandb\u001b[0m: \tn_layers: 1\n",
      "\u001b[34m\u001b[1mwandb\u001b[0m: \toptim: Adam\n",
      "\u001b[34m\u001b[1mwandb\u001b[0m: \ttype: lstm\n",
      "Failed to detect the name of this notebook, you can set it manually with the WANDB_NOTEBOOK_NAME environment variable to enable code saving.\n",
      "C:\\Users\\HP\\AppData\\Roaming\\Python\\Python39\\site-packages\\IPython\\html.py:12: ShimWarning: The `IPython.html` package has been deprecated since IPython 4.0. You should import from `notebook` instead. `IPython.html.widgets` has moved to `ipywidgets`.\n",
      "  warn(\"The `IPython.html` package has been deprecated since IPython 4.0. \"\n",
      "\u001b[34m\u001b[1mwandb\u001b[0m: \u001b[33mWARNING\u001b[0m Ignored wandb.init() arg project when running a sweep.\n"
     ]
    },
    {
     "data": {
      "text/html": [
       "wandb version 0.15.2 is available!  To upgrade, please run:\n",
       " $ pip install wandb --upgrade"
      ],
      "text/plain": [
       "<IPython.core.display.HTML object>"
      ]
     },
     "metadata": {},
     "output_type": "display_data"
    },
    {
     "data": {
      "text/html": [
       "Tracking run with wandb version 0.13.10"
      ],
      "text/plain": [
       "<IPython.core.display.HTML object>"
      ]
     },
     "metadata": {},
     "output_type": "display_data"
    },
    {
     "data": {
      "text/html": [
       "Run data is saved locally in <code>d:\\Mantra\\Sem 6\\DL\\Assignment3\\CS6910-Assignment3\\wandb\\run-20230516_000810-l6hxsx81</code>"
      ],
      "text/plain": [
       "<IPython.core.display.HTML object>"
      ]
     },
     "metadata": {},
     "output_type": "display_data"
    },
    {
     "data": {
      "text/html": [
       "Syncing run <strong><a href='https://wandb.ai/mantra7/rnn-first-proj/runs/l6hxsx81' target=\"_blank\">dark-sweep-1</a></strong> to <a href='https://wandb.ai/mantra7/rnn-first-proj' target=\"_blank\">Weights & Biases</a> (<a href='https://wandb.me/run' target=\"_blank\">docs</a>)<br/>Sweep page: <a href='https://wandb.ai/mantra7/rnn-first-proj/sweeps/o5tohm6i' target=\"_blank\">https://wandb.ai/mantra7/rnn-first-proj/sweeps/o5tohm6i</a>"
      ],
      "text/plain": [
       "<IPython.core.display.HTML object>"
      ]
     },
     "metadata": {},
     "output_type": "display_data"
    },
    {
     "data": {
      "text/html": [
       " View project at <a href='https://wandb.ai/mantra7/rnn-first-proj' target=\"_blank\">https://wandb.ai/mantra7/rnn-first-proj</a>"
      ],
      "text/plain": [
       "<IPython.core.display.HTML object>"
      ]
     },
     "metadata": {},
     "output_type": "display_data"
    },
    {
     "data": {
      "text/html": [
       " View sweep at <a href='https://wandb.ai/mantra7/rnn-first-proj/sweeps/o5tohm6i' target=\"_blank\">https://wandb.ai/mantra7/rnn-first-proj/sweeps/o5tohm6i</a>"
      ],
      "text/plain": [
       "<IPython.core.display.HTML object>"
      ]
     },
     "metadata": {},
     "output_type": "display_data"
    },
    {
     "data": {
      "text/html": [
       " View run at <a href='https://wandb.ai/mantra7/rnn-first-proj/runs/l6hxsx81' target=\"_blank\">https://wandb.ai/mantra7/rnn-first-proj/runs/l6hxsx81</a>"
      ],
      "text/plain": [
       "<IPython.core.display.HTML object>"
      ]
     },
     "metadata": {},
     "output_type": "display_data"
    },
    {
     "name": "stderr",
     "output_type": "stream",
     "text": [
      "C:\\Users\\HP\\AppData\\Roaming\\Python\\Python39\\site-packages\\torch\\nn\\modules\\rnn.py:67: UserWarning: dropout option adds dropout after all but last recurrent layer, so non-zero dropout expects num_layers greater than 1, but got dropout=0.2 and num_layers=1\n",
      "  warnings.warn(\"dropout option adds dropout after all but last \"\n"
     ]
    },
    {
     "name": "stdout",
     "output_type": "stream",
     "text": [
      "Epoch:  0\n"
     ]
    },
    {
     "name": "stderr",
     "output_type": "stream",
     "text": [
      "  3%|▎         | 1646/51199 [03:38<1:27:36,  9.43it/s]"
     ]
    }
   ],
   "source": [
    "f = open('configs', 'w')\n",
    "count = 0\n",
    "\n",
    "def get_name(config):\n",
    "\tglobal count\n",
    "\tcount += 1\n",
    "\tf.write(str(count) + '_' + str(config) + '\\n')\n",
    "\tf.flush()\n",
    "\treturn 'optim_Adam'+'_lr'+str(config['lr'])+'_hidden_size'+str(config['hidden_size'])+'_embed_size'+str(config['embed_size'])+'_n_layers'+str(config['n_layers'])+'_type'+str(config['type'])+'_dropout'+str(config['dropout'])+'_bs'+str(config['bs'])\n",
    "\n",
    "# 1: Define objective/training function\n",
    "def objective(config):\n",
    "\ttranslator = Translator('guj', hidden_size=config.hidden_size, embed_size=config.embed_size, n_layers=config.n_layers, type=config.type, dropout=config.dropout, batch_size=config.bs)\n",
    "\tdump = 'trans'+'_'+str(config.hidden_size)+'_'+str(config.embed_size)+'_'+str(config.n_layers)+'_'+str(config.type)+'_'+str(config.dropout)\n",
    "\ttrain_loss, train_acc, valid_loss, valid_acc = translator.train(epoch=config.epochs, print_every=(10000//config.bs), learning_rate=config.lr, dumpName=dump, log=True, wandb=wandb)\n",
    "\n",
    "\t# for i in range(config.epochs):\n",
    "\t# \twandb.log({'train_loss': train_loss[i], 'train_accuracy': train_acc[i], 'val_loss': valid_loss[i], 'val_accuracy': valid_acc[i]})\n",
    "\n",
    "def main():\n",
    "\trun = wandb.init(project='rnn-first-proj')\n",
    "\trun.name = get_name(wandb.config)\n",
    "\tobjective(wandb.config)\n",
    "\trun.finish()\n",
    "\n",
    "# 2: Define the search space\n",
    "sweep_configuration = sweep_configuration_new\n",
    "\n",
    "# 3: Start the sweep\n",
    "sweep_id = wandb.sweep(sweep=sweep_configuration, project='rnn-first-proj')\n",
    "wandb.agent(sweep_id, function=main, count=50)\n",
    "\n",
    "f.close()"
   ]
  },
  {
   "cell_type": "code",
   "execution_count": null,
   "metadata": {},
   "outputs": [
    {
     "name": "stdout",
     "output_type": "stream",
     "text": [
      "Epoch:  0\n"
     ]
    },
    {
     "name": "stderr",
     "output_type": "stream",
     "text": [
      "  0%|          | 72/51199 [00:02<29:10, 29.20it/s]\n"
     ]
    },
    {
     "ename": "KeyboardInterrupt",
     "evalue": "",
     "output_type": "error",
     "traceback": [
      "\u001b[1;31m---------------------------------------------------------------------------\u001b[0m",
      "\u001b[1;31mKeyboardInterrupt\u001b[0m                         Traceback (most recent call last)",
      "\u001b[1;32m~\\AppData\\Local\\Temp/ipykernel_15044/1276477346.py\u001b[0m in \u001b[0;36m<module>\u001b[1;34m\u001b[0m\n\u001b[0;32m      1\u001b[0m \u001b[0mtrans\u001b[0m \u001b[1;33m=\u001b[0m \u001b[0mTranslator\u001b[0m\u001b[1;33m(\u001b[0m\u001b[1;34m'guj'\u001b[0m\u001b[1;33m,\u001b[0m \u001b[0mhidden_size\u001b[0m\u001b[1;33m=\u001b[0m\u001b[1;36m256\u001b[0m\u001b[1;33m,\u001b[0m \u001b[0membed_size\u001b[0m\u001b[1;33m=\u001b[0m\u001b[1;36m16\u001b[0m\u001b[1;33m,\u001b[0m \u001b[0mn_layers\u001b[0m\u001b[1;33m=\u001b[0m\u001b[1;36m2\u001b[0m\u001b[1;33m,\u001b[0m \u001b[0mtype\u001b[0m\u001b[1;33m=\u001b[0m\u001b[1;34m'gru'\u001b[0m\u001b[1;33m,\u001b[0m \u001b[0mdropout\u001b[0m\u001b[1;33m=\u001b[0m\u001b[1;36m0.2\u001b[0m\u001b[1;33m,\u001b[0m \u001b[0mbatch_size\u001b[0m\u001b[1;33m=\u001b[0m\u001b[1;36m1\u001b[0m\u001b[1;33m,\u001b[0m \u001b[0mmax_length\u001b[0m\u001b[1;33m=\u001b[0m\u001b[1;36m40\u001b[0m\u001b[1;33m)\u001b[0m\u001b[1;33m\u001b[0m\u001b[1;33m\u001b[0m\u001b[0m\n\u001b[1;32m----> 2\u001b[1;33m \u001b[0mtrans\u001b[0m\u001b[1;33m.\u001b[0m\u001b[0mtrain\u001b[0m\u001b[1;33m(\u001b[0m\u001b[0mepoch\u001b[0m\u001b[1;33m=\u001b[0m\u001b[1;36m10\u001b[0m\u001b[1;33m,\u001b[0m \u001b[0mprint_every\u001b[0m\u001b[1;33m=\u001b[0m\u001b[1;36m1000\u001b[0m\u001b[1;33m,\u001b[0m \u001b[0mlearning_rate\u001b[0m\u001b[1;33m=\u001b[0m\u001b[1;36m0.001\u001b[0m\u001b[1;33m)\u001b[0m\u001b[1;33m\u001b[0m\u001b[1;33m\u001b[0m\u001b[0m\n\u001b[0m",
      "\u001b[1;32m~\\AppData\\Local\\Temp/ipykernel_15044/2637530693.py\u001b[0m in \u001b[0;36mtrain\u001b[1;34m(self, epoch, n_iters, print_every, plot_every, learning_rate, rand, dumpName, log, wandb)\u001b[0m\n\u001b[0;32m     75\u001b[0m                                 \u001b[0mtarget_tensor\u001b[0m \u001b[1;33m=\u001b[0m \u001b[0mtraining_pair\u001b[0m\u001b[1;33m[\u001b[0m\u001b[1;36m1\u001b[0m\u001b[1;33m]\u001b[0m\u001b[1;33m\u001b[0m\u001b[1;33m\u001b[0m\u001b[0m\n\u001b[0;32m     76\u001b[0m \u001b[1;33m\u001b[0m\u001b[0m\n\u001b[1;32m---> 77\u001b[1;33m                                 \u001b[0mloss\u001b[0m \u001b[1;33m=\u001b[0m \u001b[0mself\u001b[0m\u001b[1;33m.\u001b[0m\u001b[0mtrainOne\u001b[0m\u001b[1;33m(\u001b[0m\u001b[0minput_tensor\u001b[0m\u001b[1;33m,\u001b[0m \u001b[0mtarget_tensor\u001b[0m\u001b[1;33m)\u001b[0m\u001b[1;33m\u001b[0m\u001b[1;33m\u001b[0m\u001b[0m\n\u001b[0m\u001b[0;32m     78\u001b[0m                                 \u001b[0mprint_loss_total\u001b[0m \u001b[1;33m+=\u001b[0m \u001b[0mloss\u001b[0m\u001b[1;33m\u001b[0m\u001b[1;33m\u001b[0m\u001b[0m\n\u001b[0;32m     79\u001b[0m                                 \u001b[0mtot_loss\u001b[0m \u001b[1;33m+=\u001b[0m \u001b[0mloss\u001b[0m\u001b[1;33m\u001b[0m\u001b[1;33m\u001b[0m\u001b[0m\n",
      "\u001b[1;32m~\\AppData\\Local\\Temp/ipykernel_15044/2637530693.py\u001b[0m in \u001b[0;36mtrainOne\u001b[1;34m(self, input_tensor, target_tensor)\u001b[0m\n\u001b[0;32m     44\u001b[0m                         \u001b[1;32mfor\u001b[0m \u001b[0mdi\u001b[0m \u001b[1;32min\u001b[0m \u001b[0mrange\u001b[0m\u001b[1;33m(\u001b[0m\u001b[0mlen\u001b[0m\u001b[1;33m(\u001b[0m\u001b[0mdecoder_outputs\u001b[0m\u001b[1;33m)\u001b[0m\u001b[1;33m)\u001b[0m\u001b[1;33m:\u001b[0m\u001b[1;33m\u001b[0m\u001b[1;33m\u001b[0m\u001b[0m\n\u001b[0;32m     45\u001b[0m                                 \u001b[0mloss\u001b[0m \u001b[1;33m+=\u001b[0m \u001b[0mself\u001b[0m\u001b[1;33m.\u001b[0m\u001b[0mcriterion\u001b[0m\u001b[1;33m(\u001b[0m\u001b[0mdecoder_outputs\u001b[0m\u001b[1;33m[\u001b[0m\u001b[0mdi\u001b[0m\u001b[1;33m]\u001b[0m\u001b[1;33m,\u001b[0m \u001b[0mtarget_tensor\u001b[0m\u001b[1;33m[\u001b[0m\u001b[0mdi\u001b[0m\u001b[1;33m]\u001b[0m\u001b[1;33m)\u001b[0m\u001b[1;33m\u001b[0m\u001b[1;33m\u001b[0m\u001b[0m\n\u001b[1;32m---> 46\u001b[1;33m                 \u001b[0mloss\u001b[0m\u001b[1;33m.\u001b[0m\u001b[0mbackward\u001b[0m\u001b[1;33m(\u001b[0m\u001b[1;33m)\u001b[0m\u001b[1;33m\u001b[0m\u001b[1;33m\u001b[0m\u001b[0m\n\u001b[0m\u001b[0;32m     47\u001b[0m \u001b[1;33m\u001b[0m\u001b[0m\n\u001b[0;32m     48\u001b[0m                 \u001b[0mself\u001b[0m\u001b[1;33m.\u001b[0m\u001b[0mencoder_optim\u001b[0m\u001b[1;33m.\u001b[0m\u001b[0mstep\u001b[0m\u001b[1;33m(\u001b[0m\u001b[1;33m)\u001b[0m\u001b[1;33m\u001b[0m\u001b[1;33m\u001b[0m\u001b[0m\n",
      "\u001b[1;32m~\\AppData\\Roaming\\Python\\Python39\\site-packages\\torch\\_tensor.py\u001b[0m in \u001b[0;36mbackward\u001b[1;34m(self, gradient, retain_graph, create_graph, inputs)\u001b[0m\n\u001b[0;32m    486\u001b[0m                 \u001b[0minputs\u001b[0m\u001b[1;33m=\u001b[0m\u001b[0minputs\u001b[0m\u001b[1;33m,\u001b[0m\u001b[1;33m\u001b[0m\u001b[1;33m\u001b[0m\u001b[0m\n\u001b[0;32m    487\u001b[0m             )\n\u001b[1;32m--> 488\u001b[1;33m         torch.autograd.backward(\n\u001b[0m\u001b[0;32m    489\u001b[0m             \u001b[0mself\u001b[0m\u001b[1;33m,\u001b[0m \u001b[0mgradient\u001b[0m\u001b[1;33m,\u001b[0m \u001b[0mretain_graph\u001b[0m\u001b[1;33m,\u001b[0m \u001b[0mcreate_graph\u001b[0m\u001b[1;33m,\u001b[0m \u001b[0minputs\u001b[0m\u001b[1;33m=\u001b[0m\u001b[0minputs\u001b[0m\u001b[1;33m\u001b[0m\u001b[1;33m\u001b[0m\u001b[0m\n\u001b[0;32m    490\u001b[0m         )\n",
      "\u001b[1;32m~\\AppData\\Roaming\\Python\\Python39\\site-packages\\torch\\autograd\\__init__.py\u001b[0m in \u001b[0;36mbackward\u001b[1;34m(tensors, grad_tensors, retain_graph, create_graph, grad_variables, inputs)\u001b[0m\n\u001b[0;32m    195\u001b[0m     \u001b[1;31m# some Python versions print out the first line of a multi-line function\u001b[0m\u001b[1;33m\u001b[0m\u001b[1;33m\u001b[0m\u001b[1;33m\u001b[0m\u001b[0m\n\u001b[0;32m    196\u001b[0m     \u001b[1;31m# calls in the traceback and some print out the last line\u001b[0m\u001b[1;33m\u001b[0m\u001b[1;33m\u001b[0m\u001b[1;33m\u001b[0m\u001b[0m\n\u001b[1;32m--> 197\u001b[1;33m     Variable._execution_engine.run_backward(  # Calls into the C++ engine to run the backward pass\n\u001b[0m\u001b[0;32m    198\u001b[0m         \u001b[0mtensors\u001b[0m\u001b[1;33m,\u001b[0m \u001b[0mgrad_tensors_\u001b[0m\u001b[1;33m,\u001b[0m \u001b[0mretain_graph\u001b[0m\u001b[1;33m,\u001b[0m \u001b[0mcreate_graph\u001b[0m\u001b[1;33m,\u001b[0m \u001b[0minputs\u001b[0m\u001b[1;33m,\u001b[0m\u001b[1;33m\u001b[0m\u001b[1;33m\u001b[0m\u001b[0m\n\u001b[0;32m    199\u001b[0m         allow_unreachable=True, accumulate_grad=True)  # Calls into the C++ engine to run the backward pass\n",
      "\u001b[1;31mKeyboardInterrupt\u001b[0m: "
     ]
    }
   ],
   "source": [
    "# trans = Translator('guj', hidden_size=256, embed_size=16, n_layers=2, type='gru', dropout=0.2, batch_size=1, max_length=40)\n",
    "# trans.train(epoch=10, print_every=1000, learning_rate=0.001)"
   ]
  },
  {
   "cell_type": "code",
   "execution_count": null,
   "metadata": {},
   "outputs": [
    {
     "ename": "NameError",
     "evalue": "name 'trans' is not defined",
     "output_type": "error",
     "traceback": [
      "\u001b[1;31m---------------------------------------------------------------------------\u001b[0m",
      "\u001b[1;31mNameError\u001b[0m                                 Traceback (most recent call last)",
      "\u001b[1;32m~\\AppData\\Local\\Temp/ipykernel_14536/3836460830.py\u001b[0m in \u001b[0;36m<module>\u001b[1;34m\u001b[0m\n\u001b[1;32m----> 1\u001b[1;33m \u001b[0mtrans\u001b[0m\u001b[1;33m.\u001b[0m\u001b[0maccuracy\u001b[0m\u001b[1;33m(\u001b[0m\u001b[0mtrans\u001b[0m\u001b[1;33m.\u001b[0m\u001b[0mvalid_data\u001b[0m\u001b[1;33m)\u001b[0m\u001b[1;33m\u001b[0m\u001b[1;33m\u001b[0m\u001b[0m\n\u001b[0m",
      "\u001b[1;31mNameError\u001b[0m: name 'trans' is not defined"
     ]
    }
   ],
   "source": [
    "# trans.accuracy(trans.valid_data)"
   ]
  },
  {
   "cell_type": "code",
   "execution_count": null,
   "metadata": {},
   "outputs": [
    {
     "data": {
      "text/plain": [
       "'ઃએએકઓકિકકખકખઈઈઈઈકકિકકિકિકકિકકખખલલલલૂછકઈક'"
      ]
     },
     "execution_count": 87,
     "metadata": {},
     "output_type": "execute_result"
    }
   ],
   "source": [
    "# trans.translate('a')"
   ]
  },
  {
   "cell_type": "code",
   "execution_count": null,
   "metadata": {},
   "outputs": [],
   "source": [
    "# trans = pickle.load(open('trans_128_64_1_gru_0.3_9.pkl', 'rb'))"
   ]
  },
  {
   "cell_type": "code",
   "execution_count": null,
   "metadata": {},
   "outputs": [
    {
     "ename": "AttributeError",
     "evalue": "'EncoderRNN' object has no attribute 'type_t'",
     "output_type": "error",
     "traceback": [
      "\u001b[1;31m---------------------------------------------------------------------------\u001b[0m",
      "\u001b[1;31mAttributeError\u001b[0m                            Traceback (most recent call last)",
      "\u001b[1;32m~\\AppData\\Local\\Temp/ipykernel_20636/571191130.py\u001b[0m in \u001b[0;36m<module>\u001b[1;34m\u001b[0m\n\u001b[1;32m----> 1\u001b[1;33m \u001b[0mtrans\u001b[0m\u001b[1;33m.\u001b[0m\u001b[0mtranslate\u001b[0m\u001b[1;33m(\u001b[0m\u001b[1;34m'tahir'\u001b[0m\u001b[1;33m)\u001b[0m\u001b[1;33m\u001b[0m\u001b[1;33m\u001b[0m\u001b[0m\n\u001b[0m",
      "\u001b[1;32m~\\AppData\\Local\\Temp/ipykernel_20636/3329743505.py\u001b[0m in \u001b[0;36mtranslate\u001b[1;34m(self, word)\u001b[0m\n\u001b[0;32m    121\u001b[0m                 \u001b[1;32mwith\u001b[0m \u001b[0mtorch\u001b[0m\u001b[1;33m.\u001b[0m\u001b[0mno_grad\u001b[0m\u001b[1;33m(\u001b[0m\u001b[1;33m)\u001b[0m\u001b[1;33m:\u001b[0m\u001b[1;33m\u001b[0m\u001b[1;33m\u001b[0m\u001b[0m\n\u001b[0;32m    122\u001b[0m                         \u001b[0mtensor\u001b[0m \u001b[1;33m=\u001b[0m \u001b[0mtensorFromWord\u001b[0m\u001b[1;33m(\u001b[0m\u001b[0mself\u001b[0m\u001b[1;33m.\u001b[0m\u001b[0minp_lang\u001b[0m\u001b[1;33m,\u001b[0m \u001b[0mword\u001b[0m\u001b[1;33m)\u001b[0m\u001b[1;33m.\u001b[0m\u001b[0munsqueeze\u001b[0m\u001b[1;33m(\u001b[0m\u001b[1;36m1\u001b[0m\u001b[1;33m)\u001b[0m\u001b[1;33m\u001b[0m\u001b[1;33m\u001b[0m\u001b[0m\n\u001b[1;32m--> 123\u001b[1;33m                         \u001b[0mouts\u001b[0m \u001b[1;33m=\u001b[0m \u001b[0mself\u001b[0m\u001b[1;33m.\u001b[0m\u001b[0mmodel\u001b[0m\u001b[1;33m.\u001b[0m\u001b[0mpredict\u001b[0m\u001b[1;33m(\u001b[0m\u001b[0mtensor\u001b[0m\u001b[1;33m,\u001b[0m \u001b[0mself\u001b[0m\u001b[1;33m.\u001b[0m\u001b[0mmax_length\u001b[0m\u001b[1;33m)\u001b[0m\u001b[1;33m\u001b[0m\u001b[1;33m\u001b[0m\u001b[0m\n\u001b[0m\u001b[0;32m    124\u001b[0m                         \u001b[1;32mreturn\u001b[0m \u001b[0mself\u001b[0m\u001b[1;33m.\u001b[0m\u001b[0mout_lang\u001b[0m\u001b[1;33m.\u001b[0m\u001b[0mdecode\u001b[0m\u001b[1;33m(\u001b[0m\u001b[0mouts\u001b[0m\u001b[1;33m)\u001b[0m\u001b[1;33m\u001b[0m\u001b[1;33m\u001b[0m\u001b[0m\n",
      "\u001b[1;32m~\\AppData\\Local\\Temp/ipykernel_20636/1224554289.py\u001b[0m in \u001b[0;36mpredict\u001b[1;34m(self, input_tensor, max_length)\u001b[0m\n\u001b[0;32m     56\u001b[0m \u001b[1;33m\u001b[0m\u001b[0m\n\u001b[0;32m     57\u001b[0m         \u001b[1;32mdef\u001b[0m \u001b[0mpredict\u001b[0m\u001b[1;33m(\u001b[0m\u001b[0mself\u001b[0m\u001b[1;33m,\u001b[0m \u001b[0minput_tensor\u001b[0m\u001b[1;33m,\u001b[0m \u001b[0mmax_length\u001b[0m \u001b[1;33m=\u001b[0m \u001b[1;36m50\u001b[0m\u001b[1;33m)\u001b[0m\u001b[1;33m:\u001b[0m\u001b[1;33m\u001b[0m\u001b[1;33m\u001b[0m\u001b[0m\n\u001b[1;32m---> 58\u001b[1;33m                 \u001b[0mencoder_hidden\u001b[0m \u001b[1;33m=\u001b[0m \u001b[0mself\u001b[0m\u001b[1;33m.\u001b[0m\u001b[0mencoder\u001b[0m\u001b[1;33m.\u001b[0m\u001b[0minitHidden\u001b[0m\u001b[1;33m(\u001b[0m\u001b[1;36m1\u001b[0m\u001b[1;33m)\u001b[0m\u001b[1;33m\u001b[0m\u001b[1;33m\u001b[0m\u001b[0m\n\u001b[0m\u001b[0;32m     59\u001b[0m \u001b[1;33m\u001b[0m\u001b[0m\n\u001b[0;32m     60\u001b[0m                 \u001b[0minput_length\u001b[0m \u001b[1;33m=\u001b[0m \u001b[0minput_tensor\u001b[0m\u001b[1;33m.\u001b[0m\u001b[0msize\u001b[0m\u001b[1;33m(\u001b[0m\u001b[1;36m0\u001b[0m\u001b[1;33m)\u001b[0m\u001b[1;33m\u001b[0m\u001b[1;33m\u001b[0m\u001b[0m\n",
      "\u001b[1;32m~\\AppData\\Local\\Temp/ipykernel_20636/3701049107.py\u001b[0m in \u001b[0;36minitHidden\u001b[1;34m(self, bs)\u001b[0m\n\u001b[0;32m     19\u001b[0m                 \u001b[1;32mif\u001b[0m \u001b[0mbs\u001b[0m \u001b[1;33m==\u001b[0m \u001b[1;33m-\u001b[0m\u001b[1;36m1\u001b[0m\u001b[1;33m:\u001b[0m\u001b[1;33m\u001b[0m\u001b[1;33m\u001b[0m\u001b[0m\n\u001b[0;32m     20\u001b[0m                         \u001b[0mbs\u001b[0m \u001b[1;33m=\u001b[0m \u001b[0mself\u001b[0m\u001b[1;33m.\u001b[0m\u001b[0mbatch_size\u001b[0m\u001b[1;33m\u001b[0m\u001b[1;33m\u001b[0m\u001b[0m\n\u001b[1;32m---> 21\u001b[1;33m                 \u001b[1;32mif\u001b[0m \u001b[0mself\u001b[0m\u001b[1;33m.\u001b[0m\u001b[0mtype_t\u001b[0m \u001b[1;33m==\u001b[0m \u001b[1;34m'lstm'\u001b[0m\u001b[1;33m:\u001b[0m\u001b[1;33m\u001b[0m\u001b[1;33m\u001b[0m\u001b[0m\n\u001b[0m\u001b[0;32m     22\u001b[0m                         \u001b[1;32mreturn\u001b[0m \u001b[0mtorch\u001b[0m\u001b[1;33m.\u001b[0m\u001b[0mzeros\u001b[0m\u001b[1;33m(\u001b[0m\u001b[0mself\u001b[0m\u001b[1;33m.\u001b[0m\u001b[0mn_layers\u001b[0m\u001b[1;33m,\u001b[0m \u001b[0mbs\u001b[0m\u001b[1;33m,\u001b[0m \u001b[0mself\u001b[0m\u001b[1;33m.\u001b[0m\u001b[0mhidden_size\u001b[0m\u001b[1;33m,\u001b[0m \u001b[0mdevice\u001b[0m\u001b[1;33m=\u001b[0m\u001b[0mdevice\u001b[0m\u001b[1;33m)\u001b[0m\u001b[1;33m,\u001b[0m \u001b[0mtorch\u001b[0m\u001b[1;33m.\u001b[0m\u001b[0mzeros\u001b[0m\u001b[1;33m(\u001b[0m\u001b[0mself\u001b[0m\u001b[1;33m.\u001b[0m\u001b[0mn_layers\u001b[0m\u001b[1;33m,\u001b[0m \u001b[0mbs\u001b[0m\u001b[1;33m,\u001b[0m \u001b[0mself\u001b[0m\u001b[1;33m.\u001b[0m\u001b[0mhidden_size\u001b[0m\u001b[1;33m,\u001b[0m \u001b[0mdevice\u001b[0m\u001b[1;33m=\u001b[0m\u001b[0mdevice\u001b[0m\u001b[1;33m)\u001b[0m\u001b[1;33m\u001b[0m\u001b[1;33m\u001b[0m\u001b[0m\n\u001b[0;32m     23\u001b[0m                 \u001b[1;32melse\u001b[0m\u001b[1;33m:\u001b[0m\u001b[1;33m\u001b[0m\u001b[1;33m\u001b[0m\u001b[0m\n",
      "\u001b[1;32m~\\AppData\\Roaming\\Python\\Python39\\site-packages\\torch\\nn\\modules\\module.py\u001b[0m in \u001b[0;36m__getattr__\u001b[1;34m(self, name)\u001b[0m\n\u001b[0;32m   1267\u001b[0m             \u001b[1;32mif\u001b[0m \u001b[0mname\u001b[0m \u001b[1;32min\u001b[0m \u001b[0mmodules\u001b[0m\u001b[1;33m:\u001b[0m\u001b[1;33m\u001b[0m\u001b[1;33m\u001b[0m\u001b[0m\n\u001b[0;32m   1268\u001b[0m                 \u001b[1;32mreturn\u001b[0m \u001b[0mmodules\u001b[0m\u001b[1;33m[\u001b[0m\u001b[0mname\u001b[0m\u001b[1;33m]\u001b[0m\u001b[1;33m\u001b[0m\u001b[1;33m\u001b[0m\u001b[0m\n\u001b[1;32m-> 1269\u001b[1;33m         raise AttributeError(\"'{}' object has no attribute '{}'\".format(\n\u001b[0m\u001b[0;32m   1270\u001b[0m             type(self).__name__, name))\n\u001b[0;32m   1271\u001b[0m \u001b[1;33m\u001b[0m\u001b[0m\n",
      "\u001b[1;31mAttributeError\u001b[0m: 'EncoderRNN' object has no attribute 'type_t'"
     ]
    }
   ],
   "source": [
    "# trans.translate('tahir')"
   ]
  },
  {
   "cell_type": "code",
   "execution_count": null,
   "metadata": {},
   "outputs": [],
   "source": [
    "# # create a seq2seq model using 2 RNNs\n",
    "# class Seq2Seq(nn.Module):\n",
    "# \tdef __init__(self, input_size, hidden_size, output_size, n_layers=1):\n",
    "# \t\tsuper(Seq2Seq, self).__init__()\n",
    "# \t\tself.input_size = input_size\n",
    "# \t\tself.hidden_size = hidden_size\n",
    "# \t\tself.output_size = output_size\n",
    "# \t\tself.n_layers = n_layers\n",
    "\n",
    "# \t\t# encoder and decoder\n",
    "# \t\tself.encoder = nn.RNN(input_size, hidden_size, n_layers)\n",
    "# \t\tself.decoder = nn.RNN(hidden_size, hidden_size, n_layers)\n",
    "\n",
    "# \t\t# linear layer to get output\n",
    "# \t\tself.linear = nn.Linear(hidden_size, output_size)\n",
    "\n",
    "# \tdef forward(self, input, hidden):\n",
    "# \t\t# encoder\n",
    "# \t\toutput, hidden = self.encoder(input, hidden)\n",
    "\t\t\n",
    "# \t\t# decoder\n",
    "# \t\toutput, hidden = self.decoder(output, hidden)\n",
    "\t\t\n",
    "# \t\t# get output\n",
    "# \t\toutput = self.linear(output)\n",
    "# \t\treturn output, hidden\n",
    "\t\n",
    "# \tdef predict(self, input, inp_lang, out_lang):\n",
    "# \t\tout, hidden = self.forward(inp_lang.one_hot_encode(input).unsqueeze(1), self.init_hidden(1))\n",
    "# \t\treturn out_lang.decode_one_hot(out)\n",
    "\t\n",
    "# \tdef init_hidden(self, batch_size):\n",
    "# \t\treturn Variable(torch.zeros(self.n_layers, batch_size, self.hidden_size))"
   ]
  },
  {
   "cell_type": "code",
   "execution_count": null,
   "metadata": {},
   "outputs": [],
   "source": [
    "# class Translator:\n",
    "# \tdef __init__(self, lang):\n",
    "# \t\ttrain_data = pd.read_csv(f'aksharantar_sampled/{lang}/{lang}_train.csv')\n",
    "# \t\ttest_data = pd.read_csv(f'aksharantar_sampled/{lang}/{lang}_test.csv')\n",
    "# \t\tvalid_data = pd.read_csv(f'aksharantar_sampled/{lang}/{lang}_valid.csv')\n",
    "\n",
    "# \t\ttrain_data.columns = ['input_seq', 'target_seq']\n",
    "# \t\ttest_data.columns = ['input_seq', 'target_seq']\n",
    "# \t\tvalid_data.columns = ['input_seq', 'target_seq']\n",
    "\n",
    "# \t\tself.inp_lang = Lang(train_data['input_seq'])\n",
    "# \t\tself.out_lang = Lang(train_data['target_seq'])\n",
    "\n",
    "# \t\tself.model = Seq2Seq(self.inp_lang.n_chars, 10, self.out_lang.n_chars, 1)\n",
    "# \t\tself.criterion = nn.CrossEntropyLoss()\n",
    "# \t\tself.optimizer = optim.Adam(self.model.parameters(), lr=0.001)\n",
    "\n",
    "# \t\ttrain_dataset = AksharantarDataset(train_data, self.inp_lang, self.out_lang)\n",
    "# \t\ttest_dataset = AksharantarDataset(test_data, self.inp_lang, self.out_lang)\n",
    "# \t\tvalid_dataset = AksharantarDataset(valid_data, self.inp_lang, self.out_lang)\n",
    "\n",
    "# \t\tself.train_dataloader = DataLoader(train_dataset, batch_size=1, shuffle=True)\n",
    "# \t\tself.test_dataloader = DataLoader(test_dataset, batch_size=1, shuffle=True)\n",
    "# \t\tself.valid_dataloader = DataLoader(valid_dataset, batch_size=1, shuffle=True)\n",
    "\n",
    "# \tdef translate(self, word):\n",
    "# \t\treturn self.model.predict(word, self.inp_lang, self.out_lang)\n",
    "\t\n",
    "# \tdef train_one(self, inp, target):\n",
    "# \t\t# zero gradients\n",
    "# \t\tself.optimizer.zero_grad()\n",
    "\t\t\n",
    "# \t\t# initialize hidden layer\n",
    "# \t\thidden = self.model.init_hidden(1)\n",
    "\t\t\n",
    "# \t\t# get output\n",
    "# \t\toutput, hidden = self.model.forward(inp, hidden)\n",
    "\t\t\n",
    "# \t\tmx_len = min(len(output), len(target))\n",
    "\n",
    "# \t\tif(len(output) != len(inp)):\n",
    "# \t\t\tprint('lol')\n",
    "\n",
    "# \t\t# append output and target with 'Z' to make them of mx_len\n",
    "# \t\twhile(len(output) < mx_len):\n",
    "# \t\t\toutput = torch.cat((output, self.out_lang.one_hot_encode_char('Z')), 0)\n",
    "\n",
    "# \t\twhile(len(target) < mx_len):\n",
    "# \t\t\ttarget = torch.cat((target, self.out_lang.one_hot_encode_char('Z')), 0)\n",
    "\t\t\n",
    "# \t\t# calculate loss \n",
    "# \t\tloss = self.criterion(torch.flatten(output[:mx_len], 0, 1), torch.flatten(target[:mx_len], 0, 1).max(1)[1])\n",
    "\t\t\t\n",
    "# \t\t# backpropagate\n",
    "# \t\tloss.backward()\n",
    "\t\t\n",
    "# \t\t# update weights\n",
    "# \t\tself.optimizer.step()\n",
    "\n",
    "# \t\treturn loss.data.item() / len(output)\n",
    "\t\n",
    "# \tdef train_epoch(self, data_loader, print_every=100):\n",
    "# \t\tloss = 0\n",
    "# \t\tfor i_batch, sample_batched in tqdm(enumerate(data_loader)):\n",
    "# \t\t\tloss += self.train_one(sample_batched['input_seq'][0], sample_batched['target_seq'][0])\n",
    "# \t\t\tif i_batch % print_every == print_every-1:\n",
    "# \t\t\t\tprint(' Train Loss: ', loss / (i_batch+1))\n",
    "# \t\t\t\t# print(' Valid Loss: ', self.calc_loss_full(self.valid_dataloader))\n",
    "# \t\t\t\t# print(' Train Accuracy: ', self.calc_accuracy(self.train_dataloader))\n",
    "# \t\t\t\t# print(' Valid Accuracy: ', self.calc_accuracy(self.valid_dataloader))\n",
    "# \t\treturn self.calc_loss_full(data_loader)\n",
    "\t\n",
    "# \tdef train(self, epochs, print_every=100):\n",
    "# \t\tlosses = []\n",
    "# \t\tfor epoch in range(epochs):\n",
    "# \t\t\tprint('Epoch ', epoch + 1)\n",
    "# \t\t\tloss = self.train_epoch(self.train_dataloader, print_every)\n",
    "# \t\t\tlosses.append(loss)\n",
    "# \t\treturn losses\n",
    "\t\n",
    "# \tdef calc_loss_full(self, data_loader):\n",
    "# \t\tloss = 0\n",
    "# \t\tfor i_batch, sample_batched in tqdm(enumerate(data_loader)):\n",
    "# \t\t\tinp = sample_batched['input_seq'][0]\n",
    "# \t\t\ttarget = sample_batched['target_seq'][0]\n",
    "# \t\t\thidden = self.model.init_hidden(1)\n",
    "# \t\t\toutput, hidden = self.model.forward(inp, hidden)\n",
    "# \t\t\tmx_len = min(len(output), len(target))\n",
    "# \t\t\twhile(len(output) < mx_len):\n",
    "# \t\t\t\toutput = torch.cat((output, self.out_lang.one_hot_encode_char('Z')), 0)\n",
    "# \t\t\twhile(len(target) < mx_len):\n",
    "# \t\t\t\ttarget = torch.cat((target, self.out_lang.one_hot_encode_char('Z')), 0)\n",
    "# \t\t\tloss += self.criterion(torch.flatten(output[:mx_len], 0, 1), torch.flatten(target[:mx_len], 0, 1).max(1)[1])\n",
    "# \t\treturn loss / len(data_loader)\n",
    "\t\n",
    "# \tdef calc_accuracy(self, dataset):\n",
    "# \t\treturn np.sum([(self.translate(sample_batched['input_seq']) ==  sample_batched['target_seq']) for sample_batched in dataset]) / len(dataset)"
   ]
  },
  {
   "cell_type": "code",
   "execution_count": null,
   "metadata": {},
   "outputs": [],
   "source": [
    "# guj_trans = Translator('guj')\n",
    "# guj_trans.train(10, 1000)"
   ]
  }
 ],
 "metadata": {
  "kernelspec": {
   "display_name": "Python 3",
   "language": "python",
   "name": "python3"
  },
  "language_info": {
   "codemirror_mode": {
    "name": "ipython",
    "version": 3
   },
   "file_extension": ".py",
   "mimetype": "text/x-python",
   "name": "python",
   "nbconvert_exporter": "python",
   "pygments_lexer": "ipython3",
   "version": "3.9.4"
  },
  "orig_nbformat": 4
 },
 "nbformat": 4,
 "nbformat_minor": 2
}
